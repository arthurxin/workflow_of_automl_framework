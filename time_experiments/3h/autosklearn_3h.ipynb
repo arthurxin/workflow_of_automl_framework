{
 "cells": [
  {
   "cell_type": "code",
   "execution_count": 1,
   "id": "6a1a338a",
   "metadata": {},
   "outputs": [],
   "source": [
    "import pandas as pd\n",
    "import numpy as np\n",
    "import sklearn.metrics\n",
    "import sklearn.model_selection\n",
    "import time"
   ]
  },
  {
   "cell_type": "code",
   "execution_count": 2,
   "id": "85cc8c77",
   "metadata": {},
   "outputs": [],
   "source": [
    "import autosklearn.regression"
   ]
  },
  {
   "cell_type": "code",
   "execution_count": 3,
   "id": "b0516dc5",
   "metadata": {},
   "outputs": [],
   "source": [
    "def compute(x_path, y_path):\n",
    "    X = pd.read_csv(x_path)\n",
    "    y = pd.read_csv(y_path)\n",
    "    X_train, X_test, y_train, y_test = sklearn.model_selection.train_test_split(X, y, test_size=0.2, random_state=7)\n",
    "    del X,y\n",
    "    \n",
    "    t0 = time.time()\n",
    "    \n",
    "    reg = autosklearn.regression.AutoSklearnRegressor(\n",
    "        time_left_for_this_task=3*3600,\n",
    "        per_run_time_limit=600,\n",
    "        n_jobs=4,\n",
    "        memory_limit=20*1024,\n",
    "        tmp_folder='/home/hx152/tmp/autosklearn_regression_example_tmp',\n",
    "        metric=autosklearn.metrics.r2)\n",
    "    reg.fit(X_train, y_train, dataset_name='QSAR')\n",
    "    \n",
    "    t1 = time.time()\n",
    "    print(\"training time cost:\",t1-t0)\n",
    "    \n",
    "    print(reg.leaderboard())\n",
    "    train_predictions = reg.predict(X_train)\n",
    "    print(\"Train R2 score:\", sklearn.metrics.r2_score(y_train, train_predictions))\n",
    "    test_predictions = reg.predict(X_test)\n",
    "    print(\"Test R2 score:\", sklearn.metrics.r2_score(y_test, test_predictions))\n",
    "    \n",
    "    t2 = time.time()\n",
    "    print(\"prediction time cost\",t2-t1)"
   ]
  },
  {
   "cell_type": "code",
   "execution_count": null,
   "id": "86a543a4",
   "metadata": {},
   "outputs": [
    {
     "name": "stderr",
     "output_type": "stream",
     "text": [
      "/home/hx152/.conda/envs/merck/lib/python3.8/site-packages/autosklearn/metalearning/metalearning/meta_base.py:68: FutureWarning: The frame.append method is deprecated and will be removed from pandas in a future version. Use pandas.concat instead.\n",
      "  self.metafeatures = self.metafeatures.append(metafeatures)\n",
      "/home/hx152/.conda/envs/merck/lib/python3.8/site-packages/autosklearn/metalearning/metalearning/meta_base.py:72: FutureWarning: The frame.append method is deprecated and will be removed from pandas in a future version. Use pandas.concat instead.\n",
      "  self.algorithm_runs[metric].append(runs)\n"
     ]
    },
    {
     "name": "stdout",
     "output_type": "stream",
     "text": [
      "training time cost: 10806.576292514801\n",
      "          rank  ensemble_weight               type      cost    duration\n",
      "model_id                                                                \n",
      "81           1             0.46  gradient_boosting  0.352375  547.415485\n",
      "88           2             0.40  gradient_boosting  0.361381  509.168533\n",
      "86           3             0.06  gradient_boosting  0.366208  521.828412\n",
      "54           4             0.04  gradient_boosting  0.371973  276.077092\n",
      "66           5             0.04      decision_tree  0.584571   32.540267\n",
      "Train R2 score: 0.7457037884576114\n",
      "Test R2 score: 0.6356409873811845\n",
      "prediction time cost 46.10060906410217\n",
      "now is processing dataset 1\n"
     ]
    },
    {
     "name": "stderr",
     "output_type": "stream",
     "text": [
      "/home/hx152/.conda/envs/merck/lib/python3.8/site-packages/autosklearn/metalearning/metalearning/meta_base.py:68: FutureWarning: The frame.append method is deprecated and will be removed from pandas in a future version. Use pandas.concat instead.\n",
      "  self.metafeatures = self.metafeatures.append(metafeatures)\n",
      "/home/hx152/.conda/envs/merck/lib/python3.8/site-packages/autosklearn/metalearning/metalearning/meta_base.py:72: FutureWarning: The frame.append method is deprecated and will be removed from pandas in a future version. Use pandas.concat instead.\n",
      "  self.algorithm_runs[metric].append(runs)\n"
     ]
    },
    {
     "name": "stdout",
     "output_type": "stream",
     "text": [
      "training time cost: 10825.132708787918\n",
      "          rank  ensemble_weight               type      cost    duration\n",
      "model_id                                                                \n",
      "22           1             0.40  gradient_boosting  0.325178  119.260201\n",
      "97           2             0.02        extra_trees  0.332190  261.400257\n",
      "116          3             0.28        extra_trees  0.332239   93.761164\n",
      "127          4             0.04        extra_trees  0.334685  103.075714\n",
      "41           5             0.02        extra_trees  0.344444  134.849891\n",
      "229          6             0.12                sgd  0.384395    9.862942\n",
      "33           7             0.10      liblinear_svr  0.388015   77.849073\n",
      "228          8             0.02                sgd  0.391451   28.520232\n",
      "Train R2 score: 0.8111370971490267\n",
      "Test R2 score: 0.6719806789484282\n",
      "prediction time cost 26.726567029953003\n",
      "now is processing dataset 2\n"
     ]
    },
    {
     "name": "stderr",
     "output_type": "stream",
     "text": [
      "/home/hx152/.conda/envs/merck/lib/python3.8/site-packages/autosklearn/metalearning/metalearning/meta_base.py:68: FutureWarning: The frame.append method is deprecated and will be removed from pandas in a future version. Use pandas.concat instead.\n",
      "  self.metafeatures = self.metafeatures.append(metafeatures)\n",
      "/home/hx152/.conda/envs/merck/lib/python3.8/site-packages/autosklearn/metalearning/metalearning/meta_base.py:72: FutureWarning: The frame.append method is deprecated and will be removed from pandas in a future version. Use pandas.concat instead.\n",
      "  self.algorithm_runs[metric].append(runs)\n"
     ]
    },
    {
     "name": "stdout",
     "output_type": "stream",
     "text": [
      "training time cost: 10817.825047016144\n",
      "          rank  ensemble_weight               type      cost    duration\n",
      "model_id                                                                \n",
      "38           1             0.10        extra_trees  0.326696  273.368278\n",
      "54           2             0.36  gradient_boosting  0.326845  186.859177\n",
      "271          3             0.10        extra_trees  0.330230   66.585317\n",
      "22           4             0.02  gradient_boosting  0.338738  112.547441\n",
      "82           5             0.04        extra_trees  0.340097  403.934366\n",
      "48           6             0.04  gradient_boosting  0.386024   51.182149\n",
      "273          7             0.18                mlp  0.387347   28.162465\n",
      "186          8             0.04           adaboost  0.390620  160.673477\n",
      "93           9             0.02  gradient_boosting  0.409011   34.164483\n",
      "260         10             0.04                mlp  0.413563   32.042033\n",
      "209         11             0.06                mlp  0.435916   31.269512\n",
      "Train R2 score: 0.8331507167358816\n",
      "Test R2 score: 0.7063902316154336\n",
      "prediction time cost 40.55501413345337\n",
      "now is processing dataset 3\n"
     ]
    },
    {
     "name": "stderr",
     "output_type": "stream",
     "text": [
      "/home/hx152/.conda/envs/merck/lib/python3.8/site-packages/autosklearn/metalearning/metalearning/meta_base.py:68: FutureWarning: The frame.append method is deprecated and will be removed from pandas in a future version. Use pandas.concat instead.\n",
      "  self.metafeatures = self.metafeatures.append(metafeatures)\n",
      "/home/hx152/.conda/envs/merck/lib/python3.8/site-packages/autosklearn/metalearning/metalearning/meta_base.py:72: FutureWarning: The frame.append method is deprecated and will be removed from pandas in a future version. Use pandas.concat instead.\n",
      "  self.algorithm_runs[metric].append(runs)\n"
     ]
    },
    {
     "name": "stdout",
     "output_type": "stream",
     "text": [
      "training time cost: 10806.408007621765\n",
      "          rank  ensemble_weight               type      cost    duration\n",
      "model_id                                                                \n",
      "182          1             0.02        extra_trees  0.389894   26.581629\n",
      "226          2             0.14        extra_trees  0.392501   27.071316\n",
      "369          3             0.14        extra_trees  0.396067   23.332548\n",
      "167          4             0.02        extra_trees  0.401940    6.833354\n",
      "48           5             0.22  gradient_boosting  0.412223   30.193069\n",
      "330          6             0.08  gradient_boosting  0.419848   35.122508\n",
      "274          7             0.06  gradient_boosting  0.426164  213.461945\n",
      "16           8             0.06   gaussian_process  0.433622  467.989391\n",
      "413          9             0.26                sgd  0.436580    6.395279\n",
      "Train R2 score: 0.8524419711047688\n",
      "Test R2 score: 0.6033604286355634\n",
      "prediction time cost 8.210755586624146\n",
      "now is processing dataset 4\n"
     ]
    },
    {
     "name": "stderr",
     "output_type": "stream",
     "text": [
      "/home/hx152/.conda/envs/merck/lib/python3.8/site-packages/autosklearn/metalearning/metalearning/meta_base.py:68: FutureWarning: The frame.append method is deprecated and will be removed from pandas in a future version. Use pandas.concat instead.\n",
      "  self.metafeatures = self.metafeatures.append(metafeatures)\n",
      "/home/hx152/.conda/envs/merck/lib/python3.8/site-packages/autosklearn/metalearning/metalearning/meta_base.py:72: FutureWarning: The frame.append method is deprecated and will be removed from pandas in a future version. Use pandas.concat instead.\n",
      "  self.algorithm_runs[metric].append(runs)\n"
     ]
    },
    {
     "name": "stdout",
     "output_type": "stream",
     "text": [
      "training time cost: 10815.641610622406\n",
      "          rank  ensemble_weight               type      cost    duration\n",
      "model_id                                                                \n",
      "329          1             0.18        extra_trees  0.287974   74.377426\n",
      "274          2             0.14        extra_trees  0.288087  148.262741\n",
      "46           3             0.06  gradient_boosting  0.296233   28.419027\n",
      "278          4             0.18  gradient_boosting  0.297435   39.087861\n",
      "125          5             0.10  gradient_boosting  0.313370   85.157296\n",
      "32           6             0.06      random_forest  0.314223  207.320587\n",
      "189          7             0.12                sgd  0.316620  119.343195\n",
      "277          8             0.16                sgd  0.321405   20.197127\n",
      "Train R2 score: 0.8477286876202429\n",
      "Test R2 score: 0.7535186620232892\n",
      "prediction time cost 41.98854207992554\n",
      "now is processing dataset 5\n"
     ]
    },
    {
     "name": "stderr",
     "output_type": "stream",
     "text": [
      "/home/hx152/.conda/envs/merck/lib/python3.8/site-packages/autosklearn/metalearning/metalearning/meta_base.py:68: FutureWarning: The frame.append method is deprecated and will be removed from pandas in a future version. Use pandas.concat instead.\n",
      "  self.metafeatures = self.metafeatures.append(metafeatures)\n",
      "/home/hx152/.conda/envs/merck/lib/python3.8/site-packages/autosklearn/metalearning/metalearning/meta_base.py:72: FutureWarning: The frame.append method is deprecated and will be removed from pandas in a future version. Use pandas.concat instead.\n",
      "  self.algorithm_runs[metric].append(runs)\n"
     ]
    },
    {
     "name": "stdout",
     "output_type": "stream",
     "text": [
      "training time cost: 10814.449786901474\n",
      "          rank  ensemble_weight               type      cost    duration\n",
      "model_id                                                                \n",
      "116          1             0.02  gradient_boosting  0.185022  298.417547\n",
      "115          2             0.10  gradient_boosting  0.186064  267.058386\n",
      "105          3             0.06  gradient_boosting  0.187062  244.152391\n",
      "110          4             0.02  gradient_boosting  0.187082  248.946272\n",
      "107          5             0.20  gradient_boosting  0.187923  188.875064\n",
      "113          6             0.18  gradient_boosting  0.188531  201.963583\n",
      "111          7             0.16  gradient_boosting  0.188926  168.243759\n",
      "79           8             0.06  gradient_boosting  0.220259  164.042615\n",
      "6            9             0.18      liblinear_svr  0.232182   79.304845\n",
      "46          10             0.02     ard_regression  0.247012  472.297575\n",
      "Train R2 score: 0.9004009709637935\n",
      "Test R2 score: 0.8437407481811792\n",
      "prediction time cost 271.59129571914673\n",
      "now is processing dataset 6\n"
     ]
    },
    {
     "name": "stderr",
     "output_type": "stream",
     "text": [
      "/home/hx152/.conda/envs/merck/lib/python3.8/site-packages/autosklearn/metalearning/metalearning/meta_base.py:68: FutureWarning: The frame.append method is deprecated and will be removed from pandas in a future version. Use pandas.concat instead.\n",
      "  self.metafeatures = self.metafeatures.append(metafeatures)\n",
      "/home/hx152/.conda/envs/merck/lib/python3.8/site-packages/autosklearn/metalearning/metalearning/meta_base.py:72: FutureWarning: The frame.append method is deprecated and will be removed from pandas in a future version. Use pandas.concat instead.\n",
      "  self.algorithm_runs[metric].append(runs)\n"
     ]
    },
    {
     "name": "stdout",
     "output_type": "stream",
     "text": [
      "training time cost: 10819.022768259048\n",
      "          rank  ensemble_weight               type      cost    duration\n",
      "model_id                                                                \n",
      "167          1             0.54  gradient_boosting  0.340801  150.221745\n",
      "317          2             0.20           adaboost  0.356685  127.719381\n",
      "73           3             0.10           adaboost  0.369832   78.085088\n",
      "79           4             0.06           adaboost  0.377400   18.150203\n",
      "296          5             0.10                sgd  0.409006   23.621487\n",
      "Train R2 score: 0.8761189453651697\n",
      "Test R2 score: 0.6792837340495523\n",
      "prediction time cost 21.519290685653687\n",
      "now is processing dataset 7\n"
     ]
    },
    {
     "name": "stderr",
     "output_type": "stream",
     "text": [
      "/home/hx152/.conda/envs/merck/lib/python3.8/site-packages/autosklearn/metalearning/metalearning/meta_base.py:68: FutureWarning: The frame.append method is deprecated and will be removed from pandas in a future version. Use pandas.concat instead.\n",
      "  self.metafeatures = self.metafeatures.append(metafeatures)\n",
      "/home/hx152/.conda/envs/merck/lib/python3.8/site-packages/autosklearn/metalearning/metalearning/meta_base.py:72: FutureWarning: The frame.append method is deprecated and will be removed from pandas in a future version. Use pandas.concat instead.\n",
      "  self.algorithm_runs[metric].append(runs)\n"
     ]
    },
    {
     "name": "stdout",
     "output_type": "stream",
     "text": [
      "training time cost: 10804.673062562943\n",
      "          rank  ensemble_weight                 type      cost    duration\n",
      "model_id                                                                  \n",
      "179          1             0.38    gradient_boosting  0.284569   41.167327\n",
      "23           2             0.10    gradient_boosting  0.294415  132.822859\n",
      "56           3             0.12          extra_trees  0.297327  235.809318\n",
      "72           4             0.06          extra_trees  0.299640  256.913264\n",
      "37           5             0.08    gradient_boosting  0.303479  167.184890\n",
      "157          6             0.08    gradient_boosting  0.320733   42.061285\n",
      "177          7             0.16                  sgd  0.333784   40.621228\n",
      "32           8             0.02  k_nearest_neighbors  0.353104  574.689697\n",
      "Train R2 score: 0.8307199647191454\n",
      "Test R2 score: 0.7266550970868508\n",
      "prediction time cost 354.41230821609497\n",
      "now is processing dataset 8\n"
     ]
    },
    {
     "name": "stderr",
     "output_type": "stream",
     "text": [
      "/home/hx152/.conda/envs/merck/lib/python3.8/site-packages/autosklearn/metalearning/metalearning/meta_base.py:68: FutureWarning: The frame.append method is deprecated and will be removed from pandas in a future version. Use pandas.concat instead.\n",
      "  self.metafeatures = self.metafeatures.append(metafeatures)\n",
      "/home/hx152/.conda/envs/merck/lib/python3.8/site-packages/autosklearn/metalearning/metalearning/meta_base.py:72: FutureWarning: The frame.append method is deprecated and will be removed from pandas in a future version. Use pandas.concat instead.\n",
      "  self.algorithm_runs[metric].append(runs)\n"
     ]
    },
    {
     "name": "stdout",
     "output_type": "stream",
     "text": [
      "training time cost: 10812.423940181732\n",
      "          rank  ensemble_weight               type      cost    duration\n",
      "model_id                                                                \n",
      "167          1             0.22  gradient_boosting  0.230368  189.893077\n",
      "287          2             0.24  gradient_boosting  0.239083  157.934707\n",
      "191          3             0.06  gradient_boosting  0.252296  197.091769\n",
      "201          4             0.16  gradient_boosting  0.261925   38.248966\n",
      "168          5             0.04  gradient_boosting  0.265429   56.147347\n",
      "227          6             0.04  gradient_boosting  0.288620   94.711823\n",
      "222          7             0.06                sgd  0.291857   21.652008\n",
      "293          8             0.02                sgd  0.299008   92.486165\n",
      "208          9             0.06         libsvm_svr  0.299381   19.030009\n",
      "281         10             0.10                sgd  0.303534   52.536883\n",
      "Train R2 score: 0.9066849429302843\n",
      "Test R2 score: 0.7933201704226271\n",
      "prediction time cost 30.020056009292603\n",
      "now is processing dataset 9\n"
     ]
    },
    {
     "name": "stderr",
     "output_type": "stream",
     "text": [
      "/home/hx152/.conda/envs/merck/lib/python3.8/site-packages/autosklearn/metalearning/metalearning/meta_base.py:68: FutureWarning: The frame.append method is deprecated and will be removed from pandas in a future version. Use pandas.concat instead.\n",
      "  self.metafeatures = self.metafeatures.append(metafeatures)\n",
      "/home/hx152/.conda/envs/merck/lib/python3.8/site-packages/autosklearn/metalearning/metalearning/meta_base.py:72: FutureWarning: The frame.append method is deprecated and will be removed from pandas in a future version. Use pandas.concat instead.\n",
      "  self.algorithm_runs[metric].append(runs)\n"
     ]
    },
    {
     "name": "stdout",
     "output_type": "stream",
     "text": [
      "training time cost: 10814.85208106041\n",
      "          rank  ensemble_weight               type      cost    duration\n",
      "model_id                                                                \n",
      "105          1             0.34  gradient_boosting  0.223450  196.204501\n",
      "98           2             0.14        extra_trees  0.238893  204.432111\n",
      "139          3             0.06                mlp  0.254313  190.193985\n",
      "63           4             0.02  gradient_boosting  0.255612  262.850613\n",
      "125          5             0.04                mlp  0.275529   47.279054\n",
      "148          6             0.04                mlp  0.287548   83.045465\n",
      "99           7             0.06                mlp  0.287776   95.746828\n",
      "135          8             0.04                mlp  0.289676  237.959239\n",
      "141          9             0.04                mlp  0.292970  218.116705\n",
      "107         10             0.10                mlp  0.306515   82.223274\n",
      "136         11             0.06                mlp  0.319661   55.287854\n",
      "145         12             0.06                mlp  0.321789   73.267116\n",
      "Train R2 score: 0.9180171699635631\n",
      "Test R2 score: 0.7889933586595616\n",
      "prediction time cost 36.43797326087952\n",
      "now is processing dataset 10\n"
     ]
    },
    {
     "name": "stderr",
     "output_type": "stream",
     "text": [
      "/home/hx152/.conda/envs/merck/lib/python3.8/site-packages/autosklearn/metalearning/metalearning/meta_base.py:68: FutureWarning: The frame.append method is deprecated and will be removed from pandas in a future version. Use pandas.concat instead.\n",
      "  self.metafeatures = self.metafeatures.append(metafeatures)\n",
      "/home/hx152/.conda/envs/merck/lib/python3.8/site-packages/autosklearn/metalearning/metalearning/meta_base.py:72: FutureWarning: The frame.append method is deprecated and will be removed from pandas in a future version. Use pandas.concat instead.\n",
      "  self.algorithm_runs[metric].append(runs)\n"
     ]
    },
    {
     "name": "stdout",
     "output_type": "stream",
     "text": [
      "[ERROR] [2022-04-14 09:39:35,571:Client-AutoML(1):QSAR] [Errno 122] Disk quota exceeded\n",
      "OSError: [Errno 122] Disk quota exceeded\n",
      "\n",
      "During handling of the above exception, another exception occurred:\n",
      "\n",
      "Traceback (most recent call last):\n",
      "  File \"/home/hx152/.conda/envs/merck/lib/python3.8/site-packages/smac/facade/smac_ac_facade.py\", line 720, in optimize\n",
      "    incumbent = self.solver.run()\n",
      "  File \"/home/hx152/.conda/envs/merck/lib/python3.8/site-packages/smac/optimizer/smbo.py\", line 316, in run\n",
      "    self._incorporate_run_results(run_info, result, time_left)\n",
      "  File \"/home/hx152/.conda/envs/merck/lib/python3.8/site-packages/smac/optimizer/smbo.py\", line 563, in _incorporate_run_results\n",
      "    self.save()\n",
      "  File \"/home/hx152/.conda/envs/merck/lib/python3.8/site-packages/smac/optimizer/smbo.py\", line 575, in save\n",
      "    self.runhistory.save_json(fn=os.path.join(output_dir, \"runhistory.json\"))\n",
      "  File \"/home/hx152/.conda/envs/merck/lib/python3.8/site-packages/smac/runhistory/runhistory.py\", line 616, in save_json\n",
      "    json.dump(\n",
      "OSError: [Errno 122] Disk quota exceeded\n",
      "\n",
      "During handling of the above exception, another exception occurred:\n",
      "\n",
      "OSError: [Errno 122] Disk quota exceeded\n",
      "\n",
      "During handling of the above exception, another exception occurred:\n",
      "\n",
      "Traceback (most recent call last):\n",
      "  File \"/home/hx152/.conda/envs/merck/lib/python3.8/site-packages/autosklearn/automl.py\", line 931, in fit\n",
      "    _proc_smac.run_smbo()\n",
      "  File \"/home/hx152/.conda/envs/merck/lib/python3.8/site-packages/autosklearn/smbo.py\", line 498, in run_smbo\n",
      "    smac.optimize()\n",
      "  File \"/home/hx152/.conda/envs/merck/lib/python3.8/site-packages/smac/facade/smac_ac_facade.py\", line 722, in optimize\n",
      "    self.solver.save()\n",
      "  File \"/home/hx152/.conda/envs/merck/lib/python3.8/site-packages/smac/optimizer/smbo.py\", line 575, in save\n",
      "    self.runhistory.save_json(fn=os.path.join(output_dir, \"runhistory.json\"))\n",
      "  File \"/home/hx152/.conda/envs/merck/lib/python3.8/site-packages/smac/runhistory/runhistory.py\", line 616, in save_json\n",
      "    json.dump(\n",
      "OSError: [Errno 122] Disk quota exceeded\n"
     ]
    }
   ],
   "source": [
    "for i in range(1,16):\n",
    "    x_path = 'dataset/QSAR_{}_train_x.csv'.format(i)\n",
    "    y_path = 'dataset/QSAR_{}_train_y.csv'.format(i)\n",
    "    compute(x_path, y_path)\n",
    "    print(\"now is processing dataset %s\" % i)"
   ]
  },
  {
   "cell_type": "code",
   "execution_count": null,
   "id": "fa53a9e2",
   "metadata": {},
   "outputs": [],
   "source": []
  }
 ],
 "metadata": {
  "kernelspec": {
   "display_name": "Python 3 (ipykernel)",
   "language": "python",
   "name": "python3"
  },
  "language_info": {
   "codemirror_mode": {
    "name": "ipython",
    "version": 3
   },
   "file_extension": ".py",
   "mimetype": "text/x-python",
   "name": "python",
   "nbconvert_exporter": "python",
   "pygments_lexer": "ipython3",
   "version": "3.8.0"
  }
 },
 "nbformat": 4,
 "nbformat_minor": 5
}
