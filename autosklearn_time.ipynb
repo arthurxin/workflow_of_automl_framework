{
 "cells": [
  {
   "cell_type": "code",
   "execution_count": 1,
   "id": "6a1a338a",
   "metadata": {},
   "outputs": [],
   "source": [
    "import pandas as pd\n",
    "import numpy as np\n",
    "import sklearn.metrics\n",
    "import sklearn.model_selection\n",
    "import time"
   ]
  },
  {
   "cell_type": "code",
   "execution_count": 2,
   "id": "85cc8c77",
   "metadata": {},
   "outputs": [],
   "source": [
    "import autosklearn.regression"
   ]
  },
  {
   "cell_type": "code",
   "execution_count": 3,
   "id": "b0516dc5",
   "metadata": {},
   "outputs": [],
   "source": [
    "def compute(x_path, y_path, comp_time):\n",
    "    X = pd.read_csv(x_path)\n",
    "    y = pd.read_csv(y_path)\n",
    "    X_train, X_test, y_train, y_test = sklearn.model_selection.train_test_split(X, y, test_size=0.2, random_state=7)\n",
    "    del X,y\n",
    "    \n",
    "    t0 = time.time()\n",
    "    \n",
    "    reg = autosklearn.regression.AutoSklearnRegressor(\n",
    "        time_left_for_this_task=comp_time,\n",
    "        per_run_time_limit=1800,\n",
    "        n_jobs=4,\n",
    "        memory_limit=40*1024,\n",
    "        tmp_folder='/home/hx152/tmp/autosklearn_regression_example_tmp',\n",
    "        metric=autosklearn.metrics.r2)\n",
    "    reg.fit(X_train, y_train, dataset_name='QSAR')\n",
    "    \n",
    "    t1 = time.time()\n",
    "    print(\"training time cost:\",t1-t0)\n",
    "    \n",
    "    print(reg.leaderboard())\n",
    "    train_predictions = reg.predict(X_train)\n",
    "    print(\"Train R2 score:\", sklearn.metrics.r2_score(y_train, train_predictions))\n",
    "    test_predictions = reg.predict(X_test)\n",
    "    print(\"Test R2 score:\", sklearn.metrics.r2_score(y_test, test_predictions))\n",
    "    \n",
    "    t2 = time.time()\n",
    "    print(\"prediction time cost\",t2-t1)"
   ]
  },
  {
   "cell_type": "code",
   "execution_count": 5,
   "id": "86a543a4",
   "metadata": {},
   "outputs": [
    {
     "name": "stdout",
     "output_type": "stream",
     "text": [
      "[WARNING] [2022-04-09 19:03:12,704:Client-AutoML(1):QSAR] Time limit for a single run is higher than total time limit. Capping the limit for a single run to the total time given to SMAC (598.729900)\n",
      "[WARNING] [2022-04-09 19:03:12,704:Client-AutoML(1):QSAR] Capping the per_run_time_limit to 299.0 to have time for a least 2 models in each process.\n"
     ]
    },
    {
     "name": "stderr",
     "output_type": "stream",
     "text": [
      "/home/hx152/.conda/envs/merck/lib/python3.8/site-packages/autosklearn/metalearning/metalearning/meta_base.py:68: FutureWarning: The frame.append method is deprecated and will be removed from pandas in a future version. Use pandas.concat instead.\n",
      "  self.metafeatures = self.metafeatures.append(metafeatures)\n",
      "/home/hx152/.conda/envs/merck/lib/python3.8/site-packages/autosklearn/metalearning/metalearning/meta_base.py:72: FutureWarning: The frame.append method is deprecated and will be removed from pandas in a future version. Use pandas.concat instead.\n",
      "  self.algorithm_runs[metric].append(runs)\n"
     ]
    },
    {
     "name": "stdout",
     "output_type": "stream",
     "text": [
      "training time cost: 606.0470721721649\n",
      "          rank  ensemble_weight               type      cost    duration\n",
      "model_id                                                                \n",
      "4            1             0.68        extra_trees  0.458721  165.498317\n",
      "22           2             0.20  gradient_boosting  0.487001  128.601851\n",
      "21           3             0.08     ard_regression  0.577180   87.531581\n",
      "7            4             0.04      liblinear_svr  0.673353    7.454353\n",
      "Train R2 score: 0.7682426978968384\n",
      "Test R2 score: 0.4947638509558939\n",
      "prediction time cost 9.940997123718262\n",
      "now is processing dataset 13\n",
      "[WARNING] [2022-04-09 19:13:29,423:Client-AutoML(1):QSAR] Time limit for a single run is higher than total time limit. Capping the limit for a single run to the total time given to SMAC (1198.771703)\n",
      "[WARNING] [2022-04-09 19:13:29,423:Client-AutoML(1):QSAR] Capping the per_run_time_limit to 599.0 to have time for a least 2 models in each process.\n"
     ]
    },
    {
     "name": "stderr",
     "output_type": "stream",
     "text": [
      "/home/hx152/.conda/envs/merck/lib/python3.8/site-packages/autosklearn/metalearning/metalearning/meta_base.py:68: FutureWarning: The frame.append method is deprecated and will be removed from pandas in a future version. Use pandas.concat instead.\n",
      "  self.metafeatures = self.metafeatures.append(metafeatures)\n",
      "/home/hx152/.conda/envs/merck/lib/python3.8/site-packages/autosklearn/metalearning/metalearning/meta_base.py:72: FutureWarning: The frame.append method is deprecated and will be removed from pandas in a future version. Use pandas.concat instead.\n",
      "  self.algorithm_runs[metric].append(runs)\n"
     ]
    },
    {
     "name": "stdout",
     "output_type": "stream",
     "text": [
      "training time cost: 1203.2657797336578\n",
      "          rank  ensemble_weight               type      cost    duration\n",
      "model_id                                                                \n",
      "4            1             0.58        extra_trees  0.458721  158.176299\n",
      "22           2             0.20  gradient_boosting  0.487001  126.655718\n",
      "32           3             0.12        extra_trees  0.491117  144.152162\n",
      "21           4             0.06     ard_regression  0.577180   88.615530\n",
      "7            5             0.04      liblinear_svr  0.673353    6.400471\n",
      "Train R2 score: 0.7752031720312023\n",
      "Test R2 score: 0.49501679847926683\n",
      "prediction time cost 13.384210586547852\n",
      "now is processing dataset 13\n",
      "[WARNING] [2022-04-09 19:33:51,279:Client-AutoML(1):QSAR] Time limit for a single run is higher than total time limit. Capping the limit for a single run to the total time given to SMAC (1798.731287)\n",
      "[WARNING] [2022-04-09 19:33:51,280:Client-AutoML(1):QSAR] Capping the per_run_time_limit to 899.0 to have time for a least 2 models in each process.\n"
     ]
    },
    {
     "name": "stderr",
     "output_type": "stream",
     "text": [
      "/home/hx152/.conda/envs/merck/lib/python3.8/site-packages/autosklearn/metalearning/metalearning/meta_base.py:68: FutureWarning: The frame.append method is deprecated and will be removed from pandas in a future version. Use pandas.concat instead.\n",
      "  self.metafeatures = self.metafeatures.append(metafeatures)\n",
      "/home/hx152/.conda/envs/merck/lib/python3.8/site-packages/autosklearn/metalearning/metalearning/meta_base.py:72: FutureWarning: The frame.append method is deprecated and will be removed from pandas in a future version. Use pandas.concat instead.\n",
      "  self.algorithm_runs[metric].append(runs)\n"
     ]
    },
    {
     "name": "stdout",
     "output_type": "stream",
     "text": [
      "training time cost: 1802.4991173744202\n",
      "          rank  ensemble_weight               type      cost    duration\n",
      "model_id                                                                \n",
      "4            1             0.66        extra_trees  0.458721  170.368645\n",
      "22           2             0.20  gradient_boosting  0.487001  131.628007\n",
      "21           3             0.08     ard_regression  0.577180   77.793598\n",
      "7            4             0.04      liblinear_svr  0.673353    7.839689\n",
      "30           5             0.02  gradient_boosting  0.689549   80.553014\n",
      "Train R2 score: 0.7711578841250634\n",
      "Test R2 score: 0.49547082296133393\n",
      "prediction time cost 10.43220043182373\n",
      "now is processing dataset 13\n",
      "[WARNING] [2022-04-09 20:04:09,824:Client-AutoML(1):QSAR] Capping the per_run_time_limit to 1199.0 to have time for a least 2 models in each process.\n"
     ]
    },
    {
     "name": "stderr",
     "output_type": "stream",
     "text": [
      "/home/hx152/.conda/envs/merck/lib/python3.8/site-packages/autosklearn/metalearning/metalearning/meta_base.py:68: FutureWarning: The frame.append method is deprecated and will be removed from pandas in a future version. Use pandas.concat instead.\n",
      "  self.metafeatures = self.metafeatures.append(metafeatures)\n",
      "/home/hx152/.conda/envs/merck/lib/python3.8/site-packages/autosklearn/metalearning/metalearning/meta_base.py:72: FutureWarning: The frame.append method is deprecated and will be removed from pandas in a future version. Use pandas.concat instead.\n",
      "  self.algorithm_runs[metric].append(runs)\n"
     ]
    },
    {
     "name": "stdout",
     "output_type": "stream",
     "text": [
      "training time cost: 2404.110934972763\n",
      "          rank  ensemble_weight               type      cost    duration\n",
      "model_id                                                                \n",
      "4            1             0.66        extra_trees  0.458721  177.668751\n",
      "22           2             0.20  gradient_boosting  0.487001  145.507342\n",
      "21           3             0.08     ard_regression  0.577180   83.399717\n",
      "7            4             0.04      liblinear_svr  0.673353    6.488607\n",
      "30           5             0.02  gradient_boosting  0.689549   68.303834\n",
      "Train R2 score: 0.7711578841250634\n",
      "Test R2 score: 0.49547082296133393\n",
      "prediction time cost 9.934521913528442\n",
      "now is processing dataset 13\n",
      "[WARNING] [2022-04-09 20:44:27,489:Client-AutoML(1):QSAR] Capping the per_run_time_limit to 1499.0 to have time for a least 2 models in each process.\n"
     ]
    },
    {
     "name": "stderr",
     "output_type": "stream",
     "text": [
      "/home/hx152/.conda/envs/merck/lib/python3.8/site-packages/autosklearn/metalearning/metalearning/meta_base.py:68: FutureWarning: The frame.append method is deprecated and will be removed from pandas in a future version. Use pandas.concat instead.\n",
      "  self.metafeatures = self.metafeatures.append(metafeatures)\n",
      "/home/hx152/.conda/envs/merck/lib/python3.8/site-packages/autosklearn/metalearning/metalearning/meta_base.py:72: FutureWarning: The frame.append method is deprecated and will be removed from pandas in a future version. Use pandas.concat instead.\n",
      "  self.algorithm_runs[metric].append(runs)\n"
     ]
    },
    {
     "name": "stdout",
     "output_type": "stream",
     "text": [
      "training time cost: 2998.0951583385468\n",
      "          rank  ensemble_weight                 type      cost    duration\n",
      "model_id                                                                  \n",
      "4            1             0.58          extra_trees  0.458721  166.189289\n",
      "22           2             0.20    gradient_boosting  0.487001  140.770126\n",
      "21           3             0.10       ard_regression  0.577180   79.405410\n",
      "7            4             0.02        liblinear_svr  0.673353    6.529928\n",
      "30           5             0.02    gradient_boosting  0.689549   63.762416\n",
      "31           6             0.08  k_nearest_neighbors  0.774752   76.515829\n",
      "Train R2 score: 0.7824217338977466\n",
      "Test R2 score: 0.4945401054945836\n",
      "prediction time cost 110.77276396751404\n",
      "now is processing dataset 13\n"
     ]
    },
    {
     "name": "stderr",
     "output_type": "stream",
     "text": [
      "/home/hx152/.conda/envs/merck/lib/python3.8/site-packages/autosklearn/metalearning/metalearning/meta_base.py:68: FutureWarning: The frame.append method is deprecated and will be removed from pandas in a future version. Use pandas.concat instead.\n",
      "  self.metafeatures = self.metafeatures.append(metafeatures)\n",
      "/home/hx152/.conda/envs/merck/lib/python3.8/site-packages/autosklearn/metalearning/metalearning/meta_base.py:72: FutureWarning: The frame.append method is deprecated and will be removed from pandas in a future version. Use pandas.concat instead.\n",
      "  self.algorithm_runs[metric].append(runs)\n"
     ]
    },
    {
     "name": "stdout",
     "output_type": "stream",
     "text": [
      "training time cost: 7334.099231004715\n",
      "          rank  ensemble_weight                 type      cost    duration\n",
      "model_id                                                                  \n",
      "50           1             0.12          extra_trees  0.453518  115.588275\n",
      "85           2             0.42          extra_trees  0.454196  672.431728\n",
      "22           3             0.08    gradient_boosting  0.487001  127.949448\n",
      "48           4             0.16           libsvm_svr  0.531114  201.531819\n",
      "21           5             0.06       ard_regression  0.577180   86.432356\n",
      "53           6             0.10       ard_regression  0.705401   48.974086\n",
      "31           7             0.06  k_nearest_neighbors  0.774752   91.285148\n",
      "Train R2 score: 0.7976489946877341\n",
      "Test R2 score: 0.4985760581062625\n",
      "prediction time cost 254.81248688697815\n",
      "now is processing dataset 13\n"
     ]
    }
   ],
   "source": [
    "i = 13\n",
    "for comp_time in [600, 1200, 1800, 2400, 3000, 7200]:\n",
    "    x_path = 'dataset/QSAR_{}_train_x.csv'.format(i)\n",
    "    y_path = 'dataset/QSAR_{}_train_y.csv'.format(i)\n",
    "    compute(x_path, y_path,comp_time)\n",
    "    print(\"now is processing dataset %s\" % i)"
   ]
  },
  {
   "cell_type": "code",
   "execution_count": null,
   "id": "fa53a9e2",
   "metadata": {},
   "outputs": [],
   "source": []
  }
 ],
 "metadata": {
  "kernelspec": {
   "display_name": "Python 3 (ipykernel)",
   "language": "python",
   "name": "python3"
  },
  "language_info": {
   "codemirror_mode": {
    "name": "ipython",
    "version": 3
   },
   "file_extension": ".py",
   "mimetype": "text/x-python",
   "name": "python",
   "nbconvert_exporter": "python",
   "pygments_lexer": "ipython3",
   "version": "3.8.0"
  }
 },
 "nbformat": 4,
 "nbformat_minor": 5
}
