{
 "cells": [
  {
   "cell_type": "code",
   "execution_count": 1,
   "id": "6a1a338a",
   "metadata": {},
   "outputs": [],
   "source": [
    "import pandas as pd\n",
    "import numpy as np\n",
    "import sklearn.metrics\n",
    "import sklearn.model_selection\n",
    "import time"
   ]
  },
  {
   "cell_type": "code",
   "execution_count": 2,
   "id": "85cc8c77",
   "metadata": {},
   "outputs": [],
   "source": [
    "import autosklearn.regression"
   ]
  },
  {
   "cell_type": "code",
   "execution_count": 3,
   "id": "b0516dc5",
   "metadata": {},
   "outputs": [],
   "source": [
    "def compute(x_path, y_path, comp_time):\n",
    "    X = pd.read_csv(x_path)\n",
    "    y = pd.read_csv(y_path)\n",
    "    X_train, X_test, y_train, y_test = sklearn.model_selection.train_test_split(X, y, test_size=0.2, random_state=7)\n",
    "    del X,y\n",
    "    \n",
    "    t0 = time.time()\n",
    "    \n",
    "    reg = autosklearn.regression.AutoSklearnRegressor(\n",
    "        time_left_for_this_task=comp_time,\n",
    "        per_run_time_limit=1800,\n",
    "        n_jobs=4,\n",
    "        memory_limit=20*1024,\n",
    "        tmp_folder='/home/hx152/tmp/autosklearn_regression_example_tmp',\n",
    "        metric=autosklearn.metrics.r2)\n",
    "    reg.fit(X_train, y_train, dataset_name='QSAR')\n",
    "    \n",
    "    t1 = time.time()\n",
    "    print(\"training time cost:\",t1-t0)\n",
    "    \n",
    "    print(reg.leaderboard())\n",
    "    train_predictions = reg.predict(X_train)\n",
    "    print(\"Train R2 score:\", sklearn.metrics.r2_score(y_train, train_predictions))\n",
    "    test_predictions = reg.predict(X_test)\n",
    "    print(\"Test R2 score:\", sklearn.metrics.r2_score(y_test, test_predictions))\n",
    "    \n",
    "    t2 = time.time()\n",
    "    print(\"prediction time cost\",t2-t1)"
   ]
  },
  {
   "cell_type": "code",
   "execution_count": 4,
   "id": "86a543a4",
   "metadata": {},
   "outputs": [
    {
     "name": "stderr",
     "output_type": "stream",
     "text": [
      "/home/hx152/.conda/envs/merck/lib/python3.8/site-packages/autosklearn/metalearning/metalearning/meta_base.py:68: FutureWarning: The frame.append method is deprecated and will be removed from pandas in a future version. Use pandas.concat instead.\n",
      "  self.metafeatures = self.metafeatures.append(metafeatures)\n",
      "/home/hx152/.conda/envs/merck/lib/python3.8/site-packages/autosklearn/metalearning/metalearning/meta_base.py:72: FutureWarning: The frame.append method is deprecated and will be removed from pandas in a future version. Use pandas.concat instead.\n",
      "  self.algorithm_runs[metric].append(runs)\n"
     ]
    },
    {
     "name": "stdout",
     "output_type": "stream",
     "text": [
      "training time cost: 10808.62615776062\n",
      "          rank  ensemble_weight               type      cost    duration\n",
      "model_id                                                                \n",
      "92           1             0.10        extra_trees  0.453119  177.219015\n",
      "94           2             0.18        extra_trees  0.470973  461.458795\n",
      "60           3             0.12  gradient_boosting  0.478854   82.601066\n",
      "99           4             0.06  gradient_boosting  0.505153  155.040495\n",
      "132          5             0.02                mlp  0.536257  131.439796\n",
      "141          6             0.04                mlp  0.539754  117.615378\n",
      "110          7             0.02                mlp  0.542149   76.280515\n",
      "121          8             0.10                mlp  0.566556  458.295982\n",
      "98           9             0.06                mlp  0.567011   51.856733\n",
      "150         10             0.08                mlp  0.571513  243.737725\n",
      "138         11             0.04                mlp  0.584380   15.587602\n",
      "137         12             0.06                mlp  0.586697   30.566801\n",
      "79          13             0.02                mlp  0.587246   18.090850\n",
      "108         14             0.04                mlp  0.594141   67.811318\n",
      "154         15             0.06         libsvm_svr  0.597241  185.218250\n",
      "Train R2 score: 0.8122803780418063\n",
      "Test R2 score: 0.5033906997848585\n",
      "prediction time cost 138.60440278053284\n",
      "now is processing dataset 13\n"
     ]
    },
    {
     "name": "stderr",
     "output_type": "stream",
     "text": [
      "/home/hx152/.conda/envs/merck/lib/python3.8/site-packages/autosklearn/metalearning/metalearning/meta_base.py:68: FutureWarning: The frame.append method is deprecated and will be removed from pandas in a future version. Use pandas.concat instead.\n",
      "  self.metafeatures = self.metafeatures.append(metafeatures)\n",
      "/home/hx152/.conda/envs/merck/lib/python3.8/site-packages/autosklearn/metalearning/metalearning/meta_base.py:72: FutureWarning: The frame.append method is deprecated and will be removed from pandas in a future version. Use pandas.concat instead.\n",
      "  self.algorithm_runs[metric].append(runs)\n"
     ]
    },
    {
     "name": "stdout",
     "output_type": "stream",
     "text": [
      "training time cost: 21608.72510790825\n",
      "          rank  ensemble_weight               type      cost    duration\n",
      "model_id                                                                \n",
      "66           1             0.54        extra_trees  0.450495   95.632375\n",
      "88           2             0.02        extra_trees  0.451495  115.760180\n",
      "331          3             0.06  gradient_boosting  0.478094   54.508358\n",
      "108          4             0.12  gradient_boosting  0.485162  173.089656\n",
      "22           5             0.04  gradient_boosting  0.487001  106.358177\n",
      "223          6             0.04                sgd  0.511523   53.960221\n",
      "207          7             0.16                sgd  0.514927  206.870566\n",
      "317          8             0.02                sgd  0.525720  140.341686\n",
      "Train R2 score: 0.808576853988883\n",
      "Test R2 score: 0.5070321010362788\n",
      "prediction time cost 18.03427481651306\n",
      "now is processing dataset 13\n"
     ]
    }
   ],
   "source": [
    "for i in [4,14]\n",
    "for comp_time in [600, 1200, 1800, 2400, 3000, 7200, 10800]:\n",
    "    x_path = 'dataset/QSAR_{}_train_x.csv'.format(i)\n",
    "    y_path = 'dataset/QSAR_{}_train_y.csv'.format(i)\n",
    "    compute(x_path, y_path,comp_time)\n",
    "    print(\"now is processing dataset %s\" % i)"
   ]
  },
  {
   "cell_type": "code",
   "execution_count": null,
   "id": "fa53a9e2",
   "metadata": {},
   "outputs": [],
   "source": []
  }
 ],
 "metadata": {
  "kernelspec": {
   "display_name": "Python 3 (ipykernel)",
   "language": "python",
   "name": "python3"
  },
  "language_info": {
   "codemirror_mode": {
    "name": "ipython",
    "version": 3
   },
   "file_extension": ".py",
   "mimetype": "text/x-python",
   "name": "python",
   "nbconvert_exporter": "python",
   "pygments_lexer": "ipython3",
   "version": "3.8.0"
  }
 },
 "nbformat": 4,
 "nbformat_minor": 5
}
