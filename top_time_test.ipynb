{
 "cells": [
  {
   "cell_type": "code",
   "execution_count": 1,
   "id": "8f21b083",
   "metadata": {},
   "outputs": [
    {
     "name": "stderr",
     "output_type": "stream",
     "text": [
      "/home/jl2707/.conda/envs/jy/lib/python3.8/site-packages/tpot/builtins/__init__.py:36: UserWarning: Warning: optional dependency `torch` is not available. - skipping import of NN models.\n",
      "  warnings.warn(\"Warning: optional dependency `torch` is not available. - skipping import of NN models.\")\n"
     ]
    }
   ],
   "source": [
    "import pandas as pd\n",
    "import numpy as np\n",
    "import sklearn.metrics\n",
    "import sklearn.model_selection\n",
    "import time\n",
    "import tpot\n",
    "from tpot import TPOTRegressor\n",
    "import gc"
   ]
  },
  {
   "cell_type": "code",
   "execution_count": 2,
   "id": "f16c2b38",
   "metadata": {},
   "outputs": [],
   "source": [
    "x_data = 'dataset/QSAR_13_train_x.csv'\n",
    "y_data = 'dataset/QSAR_13_train_y.csv'\n",
    "target_file = './tpot_time_{}.py'\n",
    "pareto_front_fitted_pipelines_ = './pareto_front_fitted_pipelines_{}_time.txt'\n",
    "evaluated_individuals_ = './evaluated_individuals_{}_time.txt'\n",
    "dataset_list = []"
   ]
  },
  {
   "cell_type": "code",
   "execution_count": null,
   "id": "1a7584b8",
   "metadata": {},
   "outputs": [
    {
     "name": "stdout",
     "output_type": "stream",
     "text": [
      "start\n"
     ]
    },
    {
     "name": "stderr",
     "output_type": "stream",
     "text": [
      "/home/jl2707/.conda/envs/jy/lib/python3.8/site-packages/xgboost/compat.py:36: FutureWarning: pandas.Int64Index is deprecated and will be removed from pandas in a future version. Use pandas.Index with the appropriate dtype instead.\n",
      "  from pandas import MultiIndex, Int64Index\n"
     ]
    },
    {
     "name": "stdout",
     "output_type": "stream",
     "text": [
      "30 operators have been imported by TPOT.\n"
     ]
    },
    {
     "name": "stderr",
     "output_type": "stream",
     "text": [
      "/home/jl2707/.conda/envs/jy/lib/python3.8/site-packages/sklearn/utils/validation.py:993: DataConversionWarning: A column-vector y was passed when a 1d array was expected. Please change the shape of y to (n_samples, ), for example using ravel().\n",
      "  y = column_or_1d(y, warn=True)\n"
     ]
    }
   ],
   "source": [
    "for i in [10, 20, 30, 40, 50, 120, 180, 360]:\n",
    "    t1 = time.time()\n",
    "    X = pd.read_csv(x_data)\n",
    "    y = pd.read_csv(y_data)\n",
    "    X_train, X_test, y_train, y_test = sklearn.model_selection.train_test_split(X, y, test_size=0.2, random_state=7)\n",
    "    \n",
    "    print('start')\n",
    "    tpot = TPOTRegressor(random_state=1, max_time_mins=i, n_jobs=4, verbosity=3, generations=10, population_size=20)\n",
    "    tpot.fit(X_train, y_train)\n",
    "    print('end')\n",
    "    \n",
    "    t2 = time.time()\n",
    "    t = t2 - t1\n",
    "    \n",
    "    tpot.export(target_file.format(i))\n",
    "    \n",
    "    with open(pareto_front_fitted_pipelines_.format(i), 'w') as file:\n",
    "        file.write(str(tpot.pareto_front_fitted_pipelines_))\n",
    "    \n",
    "    with open(evaluated_individuals_.format(i), 'w') as file:\n",
    "        file.write(str(tpot.evaluated_individuals_))\n",
    "    \n",
    "    res = (i, tpot.score(X_train, y_train), tpot.score(X_test, y_test), t)\n",
    "    dataset_list.append(res)\n",
    "    \n",
    "    del tpot\n",
    "    gc.collect()\n",
    "    \n",
    "    print(i, 'finished')\n",
    "with open('./summary_time.txt', 'w') as file:\n",
    "    file.write(str(dataset_list))"
   ]
  },
  {
   "cell_type": "code",
   "execution_count": null,
   "id": "69892961",
   "metadata": {},
   "outputs": [],
   "source": []
  }
 ],
 "metadata": {
  "kernelspec": {
   "display_name": "Python 3 (ipykernel)",
   "language": "python",
   "name": "python3"
  },
  "language_info": {
   "codemirror_mode": {
    "name": "ipython",
    "version": 3
   },
   "file_extension": ".py",
   "mimetype": "text/x-python",
   "name": "python",
   "nbconvert_exporter": "python",
   "pygments_lexer": "ipython3",
   "version": "3.8.0"
  }
 },
 "nbformat": 4,
 "nbformat_minor": 5
}
