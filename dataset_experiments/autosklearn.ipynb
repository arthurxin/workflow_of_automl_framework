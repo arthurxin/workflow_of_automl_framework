{
 "cells": [
  {
   "cell_type": "code",
   "execution_count": 1,
   "id": "6a1a338a",
   "metadata": {},
   "outputs": [],
   "source": [
    "import pandas as pd\n",
    "import numpy as np\n",
    "import sklearn.metrics\n",
    "import sklearn.model_selection\n",
    "import time"
   ]
  },
  {
   "cell_type": "code",
   "execution_count": 2,
   "id": "85cc8c77",
   "metadata": {},
   "outputs": [],
   "source": [
    "import autosklearn.regression"
   ]
  },
  {
   "cell_type": "code",
   "execution_count": 3,
   "id": "b0516dc5",
   "metadata": {},
   "outputs": [],
   "source": [
    "def compute(x_path, y_path):\n",
    "    X = pd.read_csv(x_path)\n",
    "    y = pd.read_csv(y_path)\n",
    "    X_train, X_test, y_train, y_test = sklearn.model_selection.train_test_split(X, y, test_size=0.2, random_state=7)\n",
    "    del X,y\n",
    "    \n",
    "    t0 = time.time()\n",
    "    \n",
    "    reg = autosklearn.regression.AutoSklearnRegressor(\n",
    "        time_left_for_this_task=3600,\n",
    "        per_run_time_limit=600,\n",
    "        n_jobs=4,\n",
    "        memory_limit=20*1024,\n",
    "        tmp_folder='/home/hx152/tmp/autosklearn_regression_example_tmp',\n",
    "        metric=autosklearn.metrics.r2)\n",
    "    reg.fit(X_train, y_train, dataset_name='QSAR')\n",
    "    \n",
    "    t1 = time.time()\n",
    "    print(\"training time cost:\",t1-t0)\n",
    "    \n",
    "    print(reg.leaderboard())\n",
    "    train_predictions = reg.predict(X_train)\n",
    "    print(\"Train R2 score:\", sklearn.metrics.r2_score(y_train, train_predictions))\n",
    "    test_predictions = reg.predict(X_test)\n",
    "    print(\"Test R2 score:\", sklearn.metrics.r2_score(y_test, test_predictions))\n",
    "    \n",
    "    t2 = time.time()\n",
    "    print(\"prediction time cost\",t2-t1)"
   ]
  },
  {
   "cell_type": "code",
   "execution_count": null,
   "id": "86a543a4",
   "metadata": {},
   "outputs": [
    {
     "name": "stderr",
     "output_type": "stream",
     "text": [
      "/home/hx152/.conda/envs/merck/lib/python3.8/site-packages/autosklearn/metalearning/metalearning/meta_base.py:68: FutureWarning: The frame.append method is deprecated and will be removed from pandas in a future version. Use pandas.concat instead.\n",
      "  self.metafeatures = self.metafeatures.append(metafeatures)\n",
      "/home/hx152/.conda/envs/merck/lib/python3.8/site-packages/autosklearn/metalearning/metalearning/meta_base.py:72: FutureWarning: The frame.append method is deprecated and will be removed from pandas in a future version. Use pandas.concat instead.\n",
      "  self.algorithm_runs[metric].append(runs)\n"
     ]
    },
    {
     "name": "stdout",
     "output_type": "stream",
     "text": [
      "training time cost: 3612.493592977524\n",
      "          rank  ensemble_weight               type      cost    duration\n",
      "model_id                                                                \n",
      "22           1             0.46  gradient_boosting  0.325178  125.942195\n",
      "49           2             0.42        extra_trees  0.328798  139.726886\n",
      "24           3             0.08     ard_regression  0.405301  147.900835\n",
      "7            4             0.04      liblinear_svr  0.435467   12.005306\n",
      "Train R2 score: 0.8139910125152412\n",
      "Test R2 score: 0.6715132792422841\n",
      "prediction time cost 8.693741083145142\n",
      "now is processing dataset 2\n"
     ]
    },
    {
     "name": "stderr",
     "output_type": "stream",
     "text": [
      "/home/hx152/.conda/envs/merck/lib/python3.8/site-packages/autosklearn/metalearning/metalearning/meta_base.py:68: FutureWarning: The frame.append method is deprecated and will be removed from pandas in a future version. Use pandas.concat instead.\n",
      "  self.metafeatures = self.metafeatures.append(metafeatures)\n",
      "/home/hx152/.conda/envs/merck/lib/python3.8/site-packages/autosklearn/metalearning/metalearning/meta_base.py:72: FutureWarning: The frame.append method is deprecated and will be removed from pandas in a future version. Use pandas.concat instead.\n",
      "  self.algorithm_runs[metric].append(runs)\n"
     ]
    },
    {
     "name": "stdout",
     "output_type": "stream",
     "text": [
      "training time cost: 3605.8007838726044\n",
      "          rank  ensemble_weight                 type      cost    duration\n",
      "model_id                                                                  \n",
      "42           1             0.42          extra_trees  0.335911  349.723745\n",
      "22           2             0.42    gradient_boosting  0.338738  103.075567\n",
      "38           3             0.02          extra_trees  0.378697   97.617858\n",
      "19           4             0.02       ard_regression  0.458901   34.524695\n",
      "30           5             0.04  k_nearest_neighbors  0.506070   93.806569\n",
      "7            6             0.06        liblinear_svr  0.533668    6.109464\n",
      "43           7             0.02  k_nearest_neighbors  0.587535   20.401069\n",
      "Train R2 score: 0.8239834677578819\n",
      "Test R2 score: 0.6962955756294575\n",
      "prediction time cost 130.7963695526123\n",
      "now is processing dataset 3\n"
     ]
    },
    {
     "name": "stderr",
     "output_type": "stream",
     "text": [
      "/home/hx152/.conda/envs/merck/lib/python3.8/site-packages/autosklearn/metalearning/metalearning/meta_base.py:68: FutureWarning: The frame.append method is deprecated and will be removed from pandas in a future version. Use pandas.concat instead.\n",
      "  self.metafeatures = self.metafeatures.append(metafeatures)\n",
      "/home/hx152/.conda/envs/merck/lib/python3.8/site-packages/autosklearn/metalearning/metalearning/meta_base.py:72: FutureWarning: The frame.append method is deprecated and will be removed from pandas in a future version. Use pandas.concat instead.\n",
      "  self.algorithm_runs[metric].append(runs)\n"
     ]
    },
    {
     "name": "stdout",
     "output_type": "stream",
     "text": [
      "training time cost: 3621.756954431534\n",
      "          rank  ensemble_weight               type      cost    duration\n",
      "model_id                                                                \n",
      "94           1             0.32      random_forest  0.378432   24.574909\n",
      "42           2             0.18      random_forest  0.378465   20.715982\n",
      "37           3             0.04  gradient_boosting  0.430321  227.425438\n",
      "16           4             0.12   gaussian_process  0.433622  392.431791\n",
      "56           5             0.06      random_forest  0.508861  148.468632\n",
      "93           6             0.20      liblinear_svr  0.528577    2.159223\n",
      "122          7             0.08                sgd  0.592939  109.222768\n",
      "Train R2 score: 0.8502833083418859\n",
      "Test R2 score: 0.584041755071562\n",
      "prediction time cost 9.131048440933228\n",
      "now is processing dataset 4\n"
     ]
    },
    {
     "name": "stderr",
     "output_type": "stream",
     "text": [
      "/home/hx152/.conda/envs/merck/lib/python3.8/site-packages/autosklearn/metalearning/metalearning/meta_base.py:68: FutureWarning: The frame.append method is deprecated and will be removed from pandas in a future version. Use pandas.concat instead.\n",
      "  self.metafeatures = self.metafeatures.append(metafeatures)\n",
      "/home/hx152/.conda/envs/merck/lib/python3.8/site-packages/autosklearn/metalearning/metalearning/meta_base.py:72: FutureWarning: The frame.append method is deprecated and will be removed from pandas in a future version. Use pandas.concat instead.\n",
      "  self.algorithm_runs[metric].append(runs)\n"
     ]
    },
    {
     "name": "stdout",
     "output_type": "stream",
     "text": [
      "training time cost: 3607.0449216365814\n",
      "          rank  ensemble_weight               type      cost    duration\n",
      "model_id                                                                \n",
      "80           1             0.46        extra_trees  0.283484   81.594331\n",
      "48           2             0.10      random_forest  0.316217  280.282760\n",
      "91           3             0.02     ard_regression  0.367538    6.991723\n",
      "87           4             0.04     ard_regression  0.372286    5.214000\n",
      "32           5             0.06                mlp  0.382828  315.465069\n",
      "67           6             0.10      liblinear_svr  0.385812   32.057695\n",
      "71           7             0.10  gradient_boosting  0.398253    8.573241\n",
      "6            8             0.10      liblinear_svr  0.405443    4.344717\n",
      "86           9             0.02                mlp  0.430078   66.763316\n",
      "Train R2 score: 0.8521334441449239\n",
      "Test R2 score: 0.7453238687337538\n",
      "prediction time cost 14.38516092300415\n",
      "now is processing dataset 5\n"
     ]
    },
    {
     "name": "stderr",
     "output_type": "stream",
     "text": [
      "/home/hx152/.conda/envs/merck/lib/python3.8/site-packages/autosklearn/metalearning/metalearning/meta_base.py:68: FutureWarning: The frame.append method is deprecated and will be removed from pandas in a future version. Use pandas.concat instead.\n",
      "  self.metafeatures = self.metafeatures.append(metafeatures)\n",
      "/home/hx152/.conda/envs/merck/lib/python3.8/site-packages/autosklearn/metalearning/metalearning/meta_base.py:72: FutureWarning: The frame.append method is deprecated and will be removed from pandas in a future version. Use pandas.concat instead.\n",
      "  self.algorithm_runs[metric].append(runs)\n"
     ]
    }
   ],
   "source": [
    "for i in range(2,16):\n",
    "    x_path = 'dataset/QSAR_{}_train_x.csv'.format(i)\n",
    "    y_path = 'dataset/QSAR_{}_train_y.csv'.format(i)\n",
    "    compute(x_path, y_path)\n",
    "    print(\"now is processing dataset %s\" % i)"
   ]
  },
  {
   "cell_type": "code",
   "execution_count": null,
   "id": "fa53a9e2",
   "metadata": {},
   "outputs": [],
   "source": []
  }
 ],
 "metadata": {
  "kernelspec": {
   "display_name": "Python 3 (ipykernel)",
   "language": "python",
   "name": "python3"
  },
  "language_info": {
   "codemirror_mode": {
    "name": "ipython",
    "version": 3
   },
   "file_extension": ".py",
   "mimetype": "text/x-python",
   "name": "python",
   "nbconvert_exporter": "python",
   "pygments_lexer": "ipython3",
   "version": "3.8.0"
  }
 },
 "nbformat": 4,
 "nbformat_minor": 5
}
