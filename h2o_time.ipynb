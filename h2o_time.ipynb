{
 "cells": [
  {
   "cell_type": "code",
   "execution_count": 1,
   "metadata": {
    "scrolled": true
   },
   "outputs": [],
   "source": [
    "import pandas as pd\n",
    "import numpy as np\n",
    "import sklearn.metrics\n",
    "import sklearn.model_selection\n",
    "import time"
   ]
  },
  {
   "cell_type": "code",
   "execution_count": 2,
   "metadata": {
    "scrolled": true
   },
   "outputs": [],
   "source": [
    "import h2o\n",
    "from h2o.automl import H2OAutoML"
   ]
  },
  {
   "cell_type": "code",
   "execution_count": 3,
   "metadata": {
    "scrolled": true
   },
   "outputs": [],
   "source": [
    "def compute(x_path, y_path,comp_time):\n",
    "    X = pd.read_csv(x_path)\n",
    "    y = pd.read_csv(y_path)\n",
    "    X_train, X_test, y_train, y_test = sklearn.model_selection.train_test_split(X, y, test_size=0.2, random_state=7)\n",
    "    del X,y\n",
    "    df_train = pd.concat([X_train, y_train], axis=1)\n",
    "    \n",
    "    hf_train = h2o.H2OFrame(df_train)\n",
    "    \n",
    "    t0 = time.time()\n",
    "    \n",
    "    x_names = hf_train.columns\n",
    "    y_names = \"y\"\n",
    "    x_names.remove(y_names)\n",
    "    \n",
    "    aml = H2OAutoML(max_runtime_secs=comp_time, exclude_algos=['DeepLearning'], seed = 1, verbosity=\"NULL\")\n",
    "    aml.train(x=x_names, y=y_names, training_frame=hf_train)\n",
    "    \n",
    "    t1 = time.time()\n",
    "    print(\"training time cost:\",t1-t0)\n",
    "    \n",
    "    # View the AutoML Leaderboard\n",
    "    lb = aml.leaderboard\n",
    "    print(lb.head(10))  # Print all rows instead of default \n",
    "    \n",
    "    train_predictions = aml.predict(h2o.H2OFrame(X_train))\n",
    "    train_predictions = h2o.as_list(train_predictions)\n",
    "    print(\"Train R2 score:\", sklearn.metrics.r2_score(y_train, train_predictions))\n",
    "    test_predictions = aml.predict(h2o.H2OFrame(X_test))\n",
    "    test_predictions = h2o.as_list(test_predictions)\n",
    "    print(\"Test R2 score:\", sklearn.metrics.r2_score(y_test, test_predictions))\n",
    "        \n",
    "    t2 = time.time()\n",
    "    print(\"prediction time cost\",t2-t1)\n",
    "    m = aml.get_best_model()\n",
    "    print(pd.DataFrame(m.metalearner().coef_norm(),index=[\"r2\"]).T.sort_values('r2',ascending = False))"
   ]
  },
  {
   "cell_type": "code",
   "execution_count": 4,
   "metadata": {
    "scrolled": false
   },
   "outputs": [
    {
     "name": "stdout",
     "output_type": "stream",
     "text": [
      "Checking whether there is an H2O instance running at http://localhost:54321 ..... not found.\n",
      "Attempting to start a local H2O server...\n",
      "  Java Version: openjdk version \"1.8.0_152-release\"; OpenJDK Runtime Environment (build 1.8.0_152-release-1056-b12); OpenJDK 64-Bit Server VM (build 25.152-b12, mixed mode)\n",
      "  Starting server from /cache/home/hx152/.conda/envs/merck/lib/python3.8/site-packages/h2o/backend/bin/h2o.jar\n",
      "  Ice root: /tmp/tmpeymj2nmn\n",
      "  JVM stdout: /tmp/tmpeymj2nmn/h2o_hx152_started_from_python.out\n",
      "  JVM stderr: /tmp/tmpeymj2nmn/h2o_hx152_started_from_python.err\n",
      "  Server is running at http://127.0.0.1:54321\n",
      "Connecting to H2O server at http://127.0.0.1:54321 ... successful.\n"
     ]
    },
    {
     "data": {
      "text/html": [
       "<div style=\"overflow:auto\"><table style=\"width:50%\"><tr><td>H2O_cluster_uptime:</td>\n",
       "<td>01 secs</td></tr>\n",
       "<tr><td>H2O_cluster_timezone:</td>\n",
       "<td>America/New_York</td></tr>\n",
       "<tr><td>H2O_data_parsing_timezone:</td>\n",
       "<td>UTC</td></tr>\n",
       "<tr><td>H2O_cluster_version:</td>\n",
       "<td>3.36.0.3</td></tr>\n",
       "<tr><td>H2O_cluster_version_age:</td>\n",
       "<td>1 month and 24 days </td></tr>\n",
       "<tr><td>H2O_cluster_name:</td>\n",
       "<td>H2O_from_python_hx152_76g8zy</td></tr>\n",
       "<tr><td>H2O_cluster_total_nodes:</td>\n",
       "<td>1</td></tr>\n",
       "<tr><td>H2O_cluster_free_memory:</td>\n",
       "<td>26.67 Gb</td></tr>\n",
       "<tr><td>H2O_cluster_total_cores:</td>\n",
       "<td>4</td></tr>\n",
       "<tr><td>H2O_cluster_allowed_cores:</td>\n",
       "<td>4</td></tr>\n",
       "<tr><td>H2O_cluster_status:</td>\n",
       "<td>locked, healthy</td></tr>\n",
       "<tr><td>H2O_connection_url:</td>\n",
       "<td>http://127.0.0.1:54321</td></tr>\n",
       "<tr><td>H2O_connection_proxy:</td>\n",
       "<td>{\"http\": null, \"https\": null}</td></tr>\n",
       "<tr><td>H2O_internal_security:</td>\n",
       "<td>False</td></tr>\n",
       "<tr><td>Python_version:</td>\n",
       "<td>3.8.0 final</td></tr></table></div>"
      ],
      "text/plain": [
       "--------------------------  -----------------------------\n",
       "H2O_cluster_uptime:         01 secs\n",
       "H2O_cluster_timezone:       America/New_York\n",
       "H2O_data_parsing_timezone:  UTC\n",
       "H2O_cluster_version:        3.36.0.3\n",
       "H2O_cluster_version_age:    1 month and 24 days\n",
       "H2O_cluster_name:           H2O_from_python_hx152_76g8zy\n",
       "H2O_cluster_total_nodes:    1\n",
       "H2O_cluster_free_memory:    26.67 Gb\n",
       "H2O_cluster_total_cores:    4\n",
       "H2O_cluster_allowed_cores:  4\n",
       "H2O_cluster_status:         locked, healthy\n",
       "H2O_connection_url:         http://127.0.0.1:54321\n",
       "H2O_connection_proxy:       {\"http\": null, \"https\": null}\n",
       "H2O_internal_security:      False\n",
       "Python_version:             3.8.0 final\n",
       "--------------------------  -----------------------------"
      ]
     },
     "metadata": {},
     "output_type": "display_data"
    },
    {
     "name": "stdout",
     "output_type": "stream",
     "text": [
      "Parse progress: |████████████████████████████████████████████████████████████████| (done) 100%\n",
      "AutoML progress: |███████████████████████████████████████████████████████████████| (done) 100%\n",
      "training time cost: 605.7228455543518\n"
     ]
    },
    {
     "data": {
      "text/html": [
       "<table>\n",
       "<thead>\n",
       "<tr><th>model_id                                               </th><th style=\"text-align: right;\">  mean_residual_deviance</th><th style=\"text-align: right;\">    rmse</th><th style=\"text-align: right;\">     mse</th><th style=\"text-align: right;\">     mae</th><th style=\"text-align: right;\">  rmsle</th></tr>\n",
       "</thead>\n",
       "<tbody>\n",
       "<tr><td>StackedEnsemble_AllModels_1_AutoML_1_20220409_210624   </td><td style=\"text-align: right;\">                0.187938</td><td style=\"text-align: right;\">0.433518</td><td style=\"text-align: right;\">0.187938</td><td style=\"text-align: right;\">0.317335</td><td style=\"text-align: right;\">    nan</td></tr>\n",
       "<tr><td>StackedEnsemble_AllModels_2_AutoML_1_20220409_210624   </td><td style=\"text-align: right;\">                0.188184</td><td style=\"text-align: right;\">0.433801</td><td style=\"text-align: right;\">0.188184</td><td style=\"text-align: right;\">0.318242</td><td style=\"text-align: right;\">    nan</td></tr>\n",
       "<tr><td>StackedEnsemble_AllModels_3_AutoML_1_20220409_210624   </td><td style=\"text-align: right;\">                0.189229</td><td style=\"text-align: right;\">0.435004</td><td style=\"text-align: right;\">0.189229</td><td style=\"text-align: right;\">0.318043</td><td style=\"text-align: right;\">    nan</td></tr>\n",
       "<tr><td>StackedEnsemble_BestOfFamily_2_AutoML_1_20220409_210624</td><td style=\"text-align: right;\">                0.190344</td><td style=\"text-align: right;\">0.436284</td><td style=\"text-align: right;\">0.190344</td><td style=\"text-align: right;\">0.321659</td><td style=\"text-align: right;\">    nan</td></tr>\n",
       "<tr><td>StackedEnsemble_BestOfFamily_1_AutoML_1_20220409_210624</td><td style=\"text-align: right;\">                0.190487</td><td style=\"text-align: right;\">0.436448</td><td style=\"text-align: right;\">0.190487</td><td style=\"text-align: right;\">0.320091</td><td style=\"text-align: right;\">    nan</td></tr>\n",
       "<tr><td>StackedEnsemble_BestOfFamily_3_AutoML_1_20220409_210624</td><td style=\"text-align: right;\">                0.191612</td><td style=\"text-align: right;\">0.437735</td><td style=\"text-align: right;\">0.191612</td><td style=\"text-align: right;\">0.322189</td><td style=\"text-align: right;\">    nan</td></tr>\n",
       "<tr><td>GBM_4_AutoML_1_20220409_210624                         </td><td style=\"text-align: right;\">                0.196323</td><td style=\"text-align: right;\">0.443083</td><td style=\"text-align: right;\">0.196323</td><td style=\"text-align: right;\">0.322979</td><td style=\"text-align: right;\">    nan</td></tr>\n",
       "<tr><td>GBM_3_AutoML_1_20220409_210624                         </td><td style=\"text-align: right;\">                0.196596</td><td style=\"text-align: right;\">0.443391</td><td style=\"text-align: right;\">0.196596</td><td style=\"text-align: right;\">0.325281</td><td style=\"text-align: right;\">    nan</td></tr>\n",
       "<tr><td>GBM_2_AutoML_1_20220409_210624                         </td><td style=\"text-align: right;\">                0.197861</td><td style=\"text-align: right;\">0.444815</td><td style=\"text-align: right;\">0.197861</td><td style=\"text-align: right;\">0.329211</td><td style=\"text-align: right;\">    nan</td></tr>\n",
       "<tr><td>GBM_1_AutoML_1_20220409_210624                         </td><td style=\"text-align: right;\">                0.198806</td><td style=\"text-align: right;\">0.445877</td><td style=\"text-align: right;\">0.198806</td><td style=\"text-align: right;\">0.32371 </td><td style=\"text-align: right;\">    nan</td></tr>\n",
       "</tbody>\n",
       "</table>"
      ]
     },
     "metadata": {},
     "output_type": "display_data"
    },
    {
     "name": "stdout",
     "output_type": "stream",
     "text": [
      "\n",
      "Parse progress: |████████████████████████████████████████████████████████████████| (done) 100%\n",
      "stackedensemble prediction progress: |███████████████████████████████████████████| (done) 100%\n",
      "Train R2 score: 0.7580348651265019\n",
      "Parse progress: |████████████████████████████████████████████████████████████████| (done) 100%\n",
      "stackedensemble prediction progress: |███████████████████████████████████████████| (done) 100%\n",
      "Test R2 score: 0.49681962265735047\n",
      "prediction time cost 16.14554786682129\n",
      "                                          r2\n",
      "Intercept                           1.222523\n",
      "GBM_4_AutoML_1_20220409_210624      0.117838\n",
      "GBM_1_AutoML_1_20220409_210624      0.112800\n",
      "XGBoost_1_AutoML_1_20220409_210624  0.076571\n",
      "GLM_1_AutoML_1_20220409_210624      0.068572\n",
      "XGBoost_2_AutoML_1_20220409_210624  0.043812\n",
      "DRF_1_AutoML_1_20220409_210624      0.030989\n",
      "GBM_2_AutoML_1_20220409_210624      0.005760\n",
      "GBM_3_AutoML_1_20220409_210624      0.000000\n",
      "now is processing dataset 13\n",
      "Parse progress: |████████████████████████████████████████████████████████████████| (done) 100%\n",
      "AutoML progress: |███████████████████████████████████████████████████████████████| (done) 100%\n",
      "training time cost: 1203.3202688694\n"
     ]
    },
    {
     "data": {
      "text/html": [
       "<table>\n",
       "<thead>\n",
       "<tr><th>model_id                                               </th><th style=\"text-align: right;\">  mean_residual_deviance</th><th style=\"text-align: right;\">    rmse</th><th style=\"text-align: right;\">     mse</th><th style=\"text-align: right;\">     mae</th><th style=\"text-align: right;\">  rmsle</th></tr>\n",
       "</thead>\n",
       "<tbody>\n",
       "<tr><td>StackedEnsemble_BestOfFamily_4_AutoML_2_20220409_211703</td><td style=\"text-align: right;\">                0.185931</td><td style=\"text-align: right;\">0.431198</td><td style=\"text-align: right;\">0.185931</td><td style=\"text-align: right;\">0.317974</td><td style=\"text-align: right;\">    nan</td></tr>\n",
       "<tr><td>StackedEnsemble_AllModels_1_AutoML_2_20220409_211703   </td><td style=\"text-align: right;\">                0.18808 </td><td style=\"text-align: right;\">0.433682</td><td style=\"text-align: right;\">0.18808 </td><td style=\"text-align: right;\">0.318177</td><td style=\"text-align: right;\">    nan</td></tr>\n",
       "<tr><td>StackedEnsemble_AllModels_2_AutoML_2_20220409_211703   </td><td style=\"text-align: right;\">                0.188486</td><td style=\"text-align: right;\">0.43415 </td><td style=\"text-align: right;\">0.188486</td><td style=\"text-align: right;\">0.317749</td><td style=\"text-align: right;\">    nan</td></tr>\n",
       "<tr><td>StackedEnsemble_BestOfFamily_2_AutoML_2_20220409_211703</td><td style=\"text-align: right;\">                0.189903</td><td style=\"text-align: right;\">0.435778</td><td style=\"text-align: right;\">0.189903</td><td style=\"text-align: right;\">0.321044</td><td style=\"text-align: right;\">    nan</td></tr>\n",
       "<tr><td>StackedEnsemble_AllModels_3_AutoML_2_20220409_211703   </td><td style=\"text-align: right;\">                0.190456</td><td style=\"text-align: right;\">0.436412</td><td style=\"text-align: right;\">0.190456</td><td style=\"text-align: right;\">0.320688</td><td style=\"text-align: right;\">    nan</td></tr>\n",
       "<tr><td>StackedEnsemble_BestOfFamily_1_AutoML_2_20220409_211703</td><td style=\"text-align: right;\">                0.190487</td><td style=\"text-align: right;\">0.436448</td><td style=\"text-align: right;\">0.190487</td><td style=\"text-align: right;\">0.320091</td><td style=\"text-align: right;\">    nan</td></tr>\n",
       "<tr><td>StackedEnsemble_BestOfFamily_3_AutoML_2_20220409_211703</td><td style=\"text-align: right;\">                0.190626</td><td style=\"text-align: right;\">0.436608</td><td style=\"text-align: right;\">0.190626</td><td style=\"text-align: right;\">0.322211</td><td style=\"text-align: right;\">    nan</td></tr>\n",
       "<tr><td>XGBoost_grid_1_AutoML_2_20220409_211703_model_15       </td><td style=\"text-align: right;\">                0.192399</td><td style=\"text-align: right;\">0.438634</td><td style=\"text-align: right;\">0.192399</td><td style=\"text-align: right;\">0.319086</td><td style=\"text-align: right;\">    nan</td></tr>\n",
       "<tr><td>GBM_grid_1_AutoML_2_20220409_211703_model_1            </td><td style=\"text-align: right;\">                0.193676</td><td style=\"text-align: right;\">0.440086</td><td style=\"text-align: right;\">0.193676</td><td style=\"text-align: right;\">0.324957</td><td style=\"text-align: right;\">    nan</td></tr>\n",
       "<tr><td>GBM_3_AutoML_2_20220409_211703                         </td><td style=\"text-align: right;\">                0.195206</td><td style=\"text-align: right;\">0.441821</td><td style=\"text-align: right;\">0.195206</td><td style=\"text-align: right;\">0.323366</td><td style=\"text-align: right;\">    nan</td></tr>\n",
       "</tbody>\n",
       "</table>"
      ]
     },
     "metadata": {},
     "output_type": "display_data"
    },
    {
     "name": "stdout",
     "output_type": "stream",
     "text": [
      "\n",
      "Parse progress: |████████████████████████████████████████████████████████████████| (done) 100%\n",
      "stackedensemble prediction progress: |███████████████████████████████████████████| (done) 100%\n",
      "Train R2 score: 0.7705808199427746\n",
      "Parse progress: |████████████████████████████████████████████████████████████████| (done) 100%\n",
      "stackedensemble prediction progress: |███████████████████████████████████████████| (done) 100%\n",
      "Test R2 score: 0.4939404812900027\n",
      "prediction time cost 14.00875473022461\n",
      "                                                        r2\n",
      "Intercept                                         1.222523\n",
      "GBM_grid_1_AutoML_2_20220409_211703_model_1       0.138895\n",
      "GLM_1_AutoML_2_20220409_211703                    0.107179\n",
      "XGBoost_grid_1_AutoML_2_20220409_211703_model_15  0.090196\n",
      "DRF_1_AutoML_2_20220409_211703                    0.084616\n",
      "XRT_1_AutoML_2_20220409_211703                    0.036093\n",
      "now is processing dataset 13\n",
      "Parse progress: |████████████████████████████████████████████████████████████████| (done) 100%\n",
      "AutoML progress: |███████████████████████████████████████████████████████████████| (done) 100%\n",
      "training time cost: 1808.4831573963165\n"
     ]
    },
    {
     "data": {
      "text/html": [
       "<table>\n",
       "<thead>\n",
       "<tr><th>model_id                                               </th><th style=\"text-align: right;\">  mean_residual_deviance</th><th style=\"text-align: right;\">    rmse</th><th style=\"text-align: right;\">     mse</th><th style=\"text-align: right;\">     mae</th><th style=\"text-align: right;\">  rmsle</th></tr>\n",
       "</thead>\n",
       "<tbody>\n",
       "<tr><td>StackedEnsemble_BestOfFamily_4_AutoML_3_20220409_213737</td><td style=\"text-align: right;\">                0.18443 </td><td style=\"text-align: right;\">0.429453</td><td style=\"text-align: right;\">0.18443 </td><td style=\"text-align: right;\">0.313301</td><td style=\"text-align: right;\">    nan</td></tr>\n",
       "<tr><td>StackedEnsemble_AllModels_1_AutoML_3_20220409_213737   </td><td style=\"text-align: right;\">                0.187542</td><td style=\"text-align: right;\">0.433061</td><td style=\"text-align: right;\">0.187542</td><td style=\"text-align: right;\">0.316873</td><td style=\"text-align: right;\">    nan</td></tr>\n",
       "<tr><td>StackedEnsemble_AllModels_2_AutoML_3_20220409_213737   </td><td style=\"text-align: right;\">                0.188054</td><td style=\"text-align: right;\">0.433652</td><td style=\"text-align: right;\">0.188054</td><td style=\"text-align: right;\">0.316572</td><td style=\"text-align: right;\">    nan</td></tr>\n",
       "<tr><td>StackedEnsemble_BestOfFamily_2_AutoML_3_20220409_213737</td><td style=\"text-align: right;\">                0.188366</td><td style=\"text-align: right;\">0.434012</td><td style=\"text-align: right;\">0.188366</td><td style=\"text-align: right;\">0.319252</td><td style=\"text-align: right;\">    nan</td></tr>\n",
       "<tr><td>GBM_grid_1_AutoML_3_20220409_213737_model_4            </td><td style=\"text-align: right;\">                0.189112</td><td style=\"text-align: right;\">0.43487 </td><td style=\"text-align: right;\">0.189112</td><td style=\"text-align: right;\">0.315955</td><td style=\"text-align: right;\">    nan</td></tr>\n",
       "<tr><td>StackedEnsemble_AllModels_3_AutoML_3_20220409_213737   </td><td style=\"text-align: right;\">                0.189833</td><td style=\"text-align: right;\">0.435698</td><td style=\"text-align: right;\">0.189833</td><td style=\"text-align: right;\">0.320105</td><td style=\"text-align: right;\">    nan</td></tr>\n",
       "<tr><td>StackedEnsemble_BestOfFamily_3_AutoML_3_20220409_213737</td><td style=\"text-align: right;\">                0.19    </td><td style=\"text-align: right;\">0.435889</td><td style=\"text-align: right;\">0.19    </td><td style=\"text-align: right;\">0.320436</td><td style=\"text-align: right;\">    nan</td></tr>\n",
       "<tr><td>StackedEnsemble_BestOfFamily_1_AutoML_3_20220409_213737</td><td style=\"text-align: right;\">                0.190487</td><td style=\"text-align: right;\">0.436448</td><td style=\"text-align: right;\">0.190487</td><td style=\"text-align: right;\">0.320091</td><td style=\"text-align: right;\">    nan</td></tr>\n",
       "<tr><td>XGBoost_grid_1_AutoML_3_20220409_213737_model_15       </td><td style=\"text-align: right;\">                0.192399</td><td style=\"text-align: right;\">0.438634</td><td style=\"text-align: right;\">0.192399</td><td style=\"text-align: right;\">0.319086</td><td style=\"text-align: right;\">    nan</td></tr>\n",
       "<tr><td>GBM_grid_1_AutoML_3_20220409_213737_model_1            </td><td style=\"text-align: right;\">                0.193676</td><td style=\"text-align: right;\">0.440086</td><td style=\"text-align: right;\">0.193676</td><td style=\"text-align: right;\">0.324957</td><td style=\"text-align: right;\">    nan</td></tr>\n",
       "</tbody>\n",
       "</table>"
      ]
     },
     "metadata": {},
     "output_type": "display_data"
    },
    {
     "name": "stdout",
     "output_type": "stream",
     "text": [
      "\n",
      "Parse progress: |████████████████████████████████████████████████████████████████| (done) 100%\n",
      "stackedensemble prediction progress: |███████████████████████████████████████████| (done) 100%\n",
      "Train R2 score: 0.7635019182374625\n",
      "Parse progress: |████████████████████████████████████████████████████████████████| (done) 100%\n",
      "stackedensemble prediction progress: |███████████████████████████████████████████| (done) 100%\n",
      "Test R2 score: 0.495365664959604\n",
      "prediction time cost 13.929560661315918\n",
      "                                                        r2\n",
      "Intercept                                         1.222523\n",
      "GBM_grid_1_AutoML_3_20220409_213737_model_4       0.172123\n",
      "DRF_1_AutoML_3_20220409_213737                    0.112117\n",
      "GLM_1_AutoML_3_20220409_213737                    0.098849\n",
      "XGBoost_grid_1_AutoML_3_20220409_213737_model_15  0.064491\n",
      "XRT_1_AutoML_3_20220409_213737                    0.005391\n",
      "now is processing dataset 13\n",
      "Parse progress: |████████████████████████████████████████████████████████████████| (done) 100%\n",
      "AutoML progress: |███████████████████████████████████████████████████████████████| (done) 100%\n",
      "training time cost: 2427.191395521164\n"
     ]
    },
    {
     "data": {
      "text/html": [
       "<table>\n",
       "<thead>\n",
       "<tr><th>model_id                                               </th><th style=\"text-align: right;\">  mean_residual_deviance</th><th style=\"text-align: right;\">    rmse</th><th style=\"text-align: right;\">     mse</th><th style=\"text-align: right;\">     mae</th><th style=\"text-align: right;\">  rmsle</th></tr>\n",
       "</thead>\n",
       "<tbody>\n",
       "<tr><td>StackedEnsemble_BestOfFamily_4_AutoML_4_20220409_220816</td><td style=\"text-align: right;\">                0.184913</td><td style=\"text-align: right;\">0.430016</td><td style=\"text-align: right;\">0.184913</td><td style=\"text-align: right;\">0.314411</td><td style=\"text-align: right;\">    nan</td></tr>\n",
       "<tr><td>StackedEnsemble_AllModels_1_AutoML_4_20220409_220816   </td><td style=\"text-align: right;\">                0.187697</td><td style=\"text-align: right;\">0.43324 </td><td style=\"text-align: right;\">0.187697</td><td style=\"text-align: right;\">0.317705</td><td style=\"text-align: right;\">    nan</td></tr>\n",
       "<tr><td>StackedEnsemble_AllModels_2_AutoML_4_20220409_220816   </td><td style=\"text-align: right;\">                0.18831 </td><td style=\"text-align: right;\">0.433947</td><td style=\"text-align: right;\">0.18831 </td><td style=\"text-align: right;\">0.31808 </td><td style=\"text-align: right;\">    nan</td></tr>\n",
       "<tr><td>StackedEnsemble_BestOfFamily_2_AutoML_4_20220409_220816</td><td style=\"text-align: right;\">                0.188709</td><td style=\"text-align: right;\">0.434407</td><td style=\"text-align: right;\">0.188709</td><td style=\"text-align: right;\">0.31993 </td><td style=\"text-align: right;\">    nan</td></tr>\n",
       "<tr><td>GBM_grid_1_AutoML_4_20220409_220816_model_4            </td><td style=\"text-align: right;\">                0.189112</td><td style=\"text-align: right;\">0.43487 </td><td style=\"text-align: right;\">0.189112</td><td style=\"text-align: right;\">0.315955</td><td style=\"text-align: right;\">    nan</td></tr>\n",
       "<tr><td>StackedEnsemble_BestOfFamily_1_AutoML_4_20220409_220816</td><td style=\"text-align: right;\">                0.190487</td><td style=\"text-align: right;\">0.436448</td><td style=\"text-align: right;\">0.190487</td><td style=\"text-align: right;\">0.320091</td><td style=\"text-align: right;\">    nan</td></tr>\n",
       "<tr><td>StackedEnsemble_BestOfFamily_3_AutoML_4_20220409_220816</td><td style=\"text-align: right;\">                0.190749</td><td style=\"text-align: right;\">0.436748</td><td style=\"text-align: right;\">0.190749</td><td style=\"text-align: right;\">0.321657</td><td style=\"text-align: right;\">    nan</td></tr>\n",
       "<tr><td>StackedEnsemble_AllModels_3_AutoML_4_20220409_220816   </td><td style=\"text-align: right;\">                0.190919</td><td style=\"text-align: right;\">0.436943</td><td style=\"text-align: right;\">0.190919</td><td style=\"text-align: right;\">0.321492</td><td style=\"text-align: right;\">    nan</td></tr>\n",
       "<tr><td>XGBoost_grid_1_AutoML_4_20220409_220816_model_15       </td><td style=\"text-align: right;\">                0.192399</td><td style=\"text-align: right;\">0.438634</td><td style=\"text-align: right;\">0.192399</td><td style=\"text-align: right;\">0.319086</td><td style=\"text-align: right;\">    nan</td></tr>\n",
       "<tr><td>GBM_grid_1_AutoML_4_20220409_220816_model_1            </td><td style=\"text-align: right;\">                0.193676</td><td style=\"text-align: right;\">0.440086</td><td style=\"text-align: right;\">0.193676</td><td style=\"text-align: right;\">0.324957</td><td style=\"text-align: right;\">    nan</td></tr>\n",
       "</tbody>\n",
       "</table>"
      ]
     },
     "metadata": {},
     "output_type": "display_data"
    },
    {
     "name": "stdout",
     "output_type": "stream",
     "text": [
      "\n",
      "Parse progress: |████████████████████████████████████████████████████████████████| (done) 100%\n",
      "stackedensemble prediction progress: |███████████████████████████████████████████| (done) 100%\n",
      "Train R2 score: 0.7613512885063551\n",
      "Parse progress: |████████████████████████████████████████████████████████████████| (done) 100%\n",
      "stackedensemble prediction progress: |███████████████████████████████████████████| (done) 100%\n",
      "Test R2 score: 0.49600789314129057\n",
      "prediction time cost 14.208386659622192\n",
      "                                                        r2\n",
      "Intercept                                         1.222523\n",
      "GBM_grid_1_AutoML_4_20220409_220816_model_4       0.176061\n",
      "GLM_1_AutoML_4_20220409_220816                    0.096897\n",
      "DRF_1_AutoML_4_20220409_220816                    0.092412\n",
      "XGBoost_grid_1_AutoML_4_20220409_220816_model_15  0.067154\n",
      "XRT_1_AutoML_4_20220409_220816                    0.015581\n",
      "now is processing dataset 13\n",
      "Parse progress: |████████████████████████████████████████████████████████████████| (done) 100%\n",
      "AutoML progress: |███████████████████████████████████████████████████████| (done) 100%\n",
      "training time cost: 3033.667290687561\n"
     ]
    },
    {
     "data": {
      "text/html": [
       "<table>\n",
       "<thead>\n",
       "<tr><th>model_id                                               </th><th style=\"text-align: right;\">  mean_residual_deviance</th><th style=\"text-align: right;\">    rmse</th><th style=\"text-align: right;\">     mse</th><th style=\"text-align: right;\">     mae</th><th style=\"text-align: right;\">  rmsle</th></tr>\n",
       "</thead>\n",
       "<tbody>\n",
       "<tr><td>StackedEnsemble_BestOfFamily_4_AutoML_5_20220409_224914</td><td style=\"text-align: right;\">                0.184156</td><td style=\"text-align: right;\">0.429134</td><td style=\"text-align: right;\">0.184156</td><td style=\"text-align: right;\">0.313287</td><td style=\"text-align: right;\">    nan</td></tr>\n",
       "<tr><td>StackedEnsemble_AllModels_1_AutoML_5_20220409_224914   </td><td style=\"text-align: right;\">                0.187609</td><td style=\"text-align: right;\">0.433139</td><td style=\"text-align: right;\">0.187609</td><td style=\"text-align: right;\">0.317659</td><td style=\"text-align: right;\">    nan</td></tr>\n",
       "<tr><td>StackedEnsemble_AllModels_2_AutoML_5_20220409_224914   </td><td style=\"text-align: right;\">                0.188268</td><td style=\"text-align: right;\">0.433898</td><td style=\"text-align: right;\">0.188268</td><td style=\"text-align: right;\">0.317831</td><td style=\"text-align: right;\">    nan</td></tr>\n",
       "<tr><td>StackedEnsemble_BestOfFamily_2_AutoML_5_20220409_224914</td><td style=\"text-align: right;\">                0.188363</td><td style=\"text-align: right;\">0.434008</td><td style=\"text-align: right;\">0.188363</td><td style=\"text-align: right;\">0.319307</td><td style=\"text-align: right;\">    nan</td></tr>\n",
       "<tr><td>GBM_grid_1_AutoML_5_20220409_224914_model_4            </td><td style=\"text-align: right;\">                0.189112</td><td style=\"text-align: right;\">0.43487 </td><td style=\"text-align: right;\">0.189112</td><td style=\"text-align: right;\">0.315955</td><td style=\"text-align: right;\">    nan</td></tr>\n",
       "<tr><td>StackedEnsemble_BestOfFamily_3_AutoML_5_20220409_224914</td><td style=\"text-align: right;\">                0.189784</td><td style=\"text-align: right;\">0.435642</td><td style=\"text-align: right;\">0.189784</td><td style=\"text-align: right;\">0.320261</td><td style=\"text-align: right;\">    nan</td></tr>\n",
       "<tr><td>StackedEnsemble_BestOfFamily_1_AutoML_5_20220409_224914</td><td style=\"text-align: right;\">                0.190487</td><td style=\"text-align: right;\">0.436448</td><td style=\"text-align: right;\">0.190487</td><td style=\"text-align: right;\">0.320091</td><td style=\"text-align: right;\">    nan</td></tr>\n",
       "<tr><td>StackedEnsemble_AllModels_3_AutoML_5_20220409_224914   </td><td style=\"text-align: right;\">                0.191243</td><td style=\"text-align: right;\">0.437313</td><td style=\"text-align: right;\">0.191243</td><td style=\"text-align: right;\">0.320315</td><td style=\"text-align: right;\">    nan</td></tr>\n",
       "<tr><td>XGBoost_grid_1_AutoML_5_20220409_224914_model_15       </td><td style=\"text-align: right;\">                0.192399</td><td style=\"text-align: right;\">0.438634</td><td style=\"text-align: right;\">0.192399</td><td style=\"text-align: right;\">0.319086</td><td style=\"text-align: right;\">    nan</td></tr>\n",
       "<tr><td>GBM_grid_1_AutoML_5_20220409_224914_model_1            </td><td style=\"text-align: right;\">                0.193676</td><td style=\"text-align: right;\">0.440086</td><td style=\"text-align: right;\">0.193676</td><td style=\"text-align: right;\">0.324957</td><td style=\"text-align: right;\">    nan</td></tr>\n",
       "</tbody>\n",
       "</table>"
      ]
     },
     "metadata": {},
     "output_type": "display_data"
    },
    {
     "name": "stdout",
     "output_type": "stream",
     "text": [
      "\n",
      "Parse progress: |████████████████████████████████████████████████████████████████| (done) 100%\n",
      "stackedensemble prediction progress: |███████████████████████████████████████████| (done) 100%\n",
      "Train R2 score: 0.7629563238328495\n",
      "Parse progress: |████████████████████████████████████████████████████████████████| (done) 100%\n",
      "stackedensemble prediction progress: |███████████████████████████████████████████| (done) 100%\n",
      "Test R2 score: 0.49442705750650184\n",
      "prediction time cost 14.011562585830688\n",
      "                                                        r2\n",
      "Intercept                                         1.222523\n",
      "GBM_grid_1_AutoML_5_20220409_224914_model_4       0.179011\n",
      "DRF_1_AutoML_5_20220409_224914                    0.110707\n",
      "GLM_1_AutoML_5_20220409_224914                    0.098859\n",
      "XGBoost_grid_1_AutoML_5_20220409_224914_model_15  0.063350\n",
      "XRT_1_AutoML_5_20220409_224914                    0.000000\n",
      "now is processing dataset 13\n",
      "Parse progress: |████████████████████████████████████████████████████████████████| (done) 100%\n",
      "AutoML progress: |██████████████████████████████████████████████████████████████| (done) 100%\n",
      "training time cost: 7203.3417937755585\n"
     ]
    },
    {
     "data": {
      "text/html": [
       "<table>\n",
       "<thead>\n",
       "<tr><th>model_id                                               </th><th style=\"text-align: right;\">  mean_residual_deviance</th><th style=\"text-align: right;\">    rmse</th><th style=\"text-align: right;\">     mse</th><th style=\"text-align: right;\">     mae</th><th style=\"text-align: right;\">  rmsle</th></tr>\n",
       "</thead>\n",
       "<tbody>\n",
       "<tr><td>StackedEnsemble_AllModels_6_AutoML_6_20220409_234019   </td><td style=\"text-align: right;\">                0.166442</td><td style=\"text-align: right;\">0.407973</td><td style=\"text-align: right;\">0.166442</td><td style=\"text-align: right;\">0.299575</td><td style=\"text-align: right;\">    nan</td></tr>\n",
       "<tr><td>StackedEnsemble_AllModels_3_AutoML_6_20220409_234019   </td><td style=\"text-align: right;\">                0.166469</td><td style=\"text-align: right;\">0.408006</td><td style=\"text-align: right;\">0.166469</td><td style=\"text-align: right;\">0.298605</td><td style=\"text-align: right;\">    nan</td></tr>\n",
       "<tr><td>StackedEnsemble_AllModels_1_AutoML_6_20220409_234019   </td><td style=\"text-align: right;\">                0.167081</td><td style=\"text-align: right;\">0.408756</td><td style=\"text-align: right;\">0.167081</td><td style=\"text-align: right;\">0.300037</td><td style=\"text-align: right;\">    nan</td></tr>\n",
       "<tr><td>StackedEnsemble_AllModels_2_AutoML_6_20220409_234019   </td><td style=\"text-align: right;\">                0.167348</td><td style=\"text-align: right;\">0.409081</td><td style=\"text-align: right;\">0.167348</td><td style=\"text-align: right;\">0.300267</td><td style=\"text-align: right;\">    nan</td></tr>\n",
       "<tr><td>StackedEnsemble_BestOfFamily_4_AutoML_6_20220409_234019</td><td style=\"text-align: right;\">                0.168438</td><td style=\"text-align: right;\">0.410412</td><td style=\"text-align: right;\">0.168438</td><td style=\"text-align: right;\">0.301605</td><td style=\"text-align: right;\">    nan</td></tr>\n",
       "<tr><td>StackedEnsemble_AllModels_5_AutoML_6_20220409_234019   </td><td style=\"text-align: right;\">                0.168549</td><td style=\"text-align: right;\">0.410547</td><td style=\"text-align: right;\">0.168549</td><td style=\"text-align: right;\">0.30032 </td><td style=\"text-align: right;\">    nan</td></tr>\n",
       "<tr><td>StackedEnsemble_BestOfFamily_2_AutoML_6_20220409_234019</td><td style=\"text-align: right;\">                0.168877</td><td style=\"text-align: right;\">0.410946</td><td style=\"text-align: right;\">0.168877</td><td style=\"text-align: right;\">0.302037</td><td style=\"text-align: right;\">    nan</td></tr>\n",
       "<tr><td>StackedEnsemble_BestOfFamily_7_AutoML_6_20220409_234019</td><td style=\"text-align: right;\">                0.169196</td><td style=\"text-align: right;\">0.411335</td><td style=\"text-align: right;\">0.169196</td><td style=\"text-align: right;\">0.303129</td><td style=\"text-align: right;\">    nan</td></tr>\n",
       "<tr><td>StackedEnsemble_BestOfFamily_3_AutoML_6_20220409_234019</td><td style=\"text-align: right;\">                0.17024 </td><td style=\"text-align: right;\">0.412602</td><td style=\"text-align: right;\">0.17024 </td><td style=\"text-align: right;\">0.303745</td><td style=\"text-align: right;\">    nan</td></tr>\n",
       "<tr><td>StackedEnsemble_BestOfFamily_1_AutoML_6_20220409_234019</td><td style=\"text-align: right;\">                0.170929</td><td style=\"text-align: right;\">0.413435</td><td style=\"text-align: right;\">0.170929</td><td style=\"text-align: right;\">0.303717</td><td style=\"text-align: right;\">    nan</td></tr>\n",
       "</tbody>\n",
       "</table>"
      ]
     },
     "metadata": {},
     "output_type": "display_data"
    },
    {
     "name": "stdout",
     "output_type": "stream",
     "text": [
      "\n",
      "Parse progress: |████████████████████████████████████████████████████████████████| (done) 100%\n",
      "stackedensemble prediction progress: |███████████████████████████████████████████| (done) 100%\n",
      "Train R2 score: 0.9008513993584026\n",
      "Parse progress: |████████████████████████████████████████████████████████████████| (done) 100%\n",
      "stackedensemble prediction progress: |███████████████████████████████████████████| (done) 100%\n",
      "Test R2 score: 0.5249527449864487\n",
      "prediction time cost 18.08031177520752\n",
      "                                                        r2\n",
      "Intercept                                         1.254492\n",
      "GBM_1_AutoML_6_20220409_234019                    0.051021\n",
      "XGBoost_1_AutoML_6_20220409_234019                0.042263\n",
      "XGBoost_grid_1_AutoML_6_20220409_234019_model_2   0.041822\n",
      "XGBoost_grid_1_AutoML_6_20220409_234019_model_9   0.040515\n",
      "XGBoost_grid_1_AutoML_6_20220409_234019_model_5   0.036833\n",
      "GBM_4_AutoML_6_20220409_234019                    0.035730\n",
      "DRF_1_AutoML_6_20220409_234019                    0.030705\n",
      "GLM_1_AutoML_6_20220409_234019                    0.025871\n",
      "XGBoost_grid_1_AutoML_6_20220409_234019_model_3   0.023488\n",
      "XGBoost_grid_1_AutoML_6_20220409_234019_model_7   0.023277\n",
      "XGBoost_grid_1_AutoML_6_20220409_234019_model_1   0.022000\n",
      "XGBoost_2_AutoML_6_20220409_234019                0.020725\n",
      "GBM_grid_1_AutoML_6_20220409_234019_model_1       0.019308\n",
      "GBM_3_AutoML_6_20220409_234019                    0.018928\n",
      "XGBoost_grid_1_AutoML_6_20220409_234019_model_6   0.013016\n",
      "XGBoost_grid_1_AutoML_6_20220409_234019_model_4   0.004223\n",
      "XGBoost_grid_1_AutoML_6_20220409_234019_model_10  0.004108\n",
      "GBM_5_AutoML_6_20220409_234019                    0.000000\n",
      "XGBoost_3_AutoML_6_20220409_234019                0.000000\n",
      "GBM_2_AutoML_6_20220409_234019                    0.000000\n",
      "XGBoost_grid_1_AutoML_6_20220409_234019_model_8   0.000000\n",
      "XRT_1_AutoML_6_20220409_234019                    0.000000\n",
      "GBM_grid_1_AutoML_6_20220409_234019_model_2       0.000000\n",
      "now is processing dataset 13\n"
     ]
    }
   ],
   "source": [
    "h2o.init()\n",
    "i = 13\n",
    "for comp_time in [600, 1200, 1800, 2400, 3000, 7200]:\n",
    "    x_path = 'dataset/QSAR_{}_train_x.csv'.format(i)\n",
    "    y_path = 'dataset/QSAR_{}_train_y.csv'.format(i)\n",
    "    compute(x_path, y_path, comp_time)\n",
    "    print(\"now is processing dataset %s\" % i)"
   ]
  },
  {
   "cell_type": "code",
   "execution_count": null,
   "metadata": {},
   "outputs": [],
   "source": []
  }
 ],
 "metadata": {
  "kernelspec": {
   "display_name": "Python 3 (ipykernel)",
   "language": "python",
   "name": "python3"
  },
  "language_info": {
   "codemirror_mode": {
    "name": "ipython",
    "version": 3
   },
   "file_extension": ".py",
   "mimetype": "text/x-python",
   "name": "python",
   "nbconvert_exporter": "python",
   "pygments_lexer": "ipython3",
   "version": "3.8.0"
  }
 },
 "nbformat": 4,
 "nbformat_minor": 2
}
