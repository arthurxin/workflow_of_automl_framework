{
 "cells": [
  {
   "cell_type": "code",
   "execution_count": 1,
   "id": "6a1a338a",
   "metadata": {},
   "outputs": [],
   "source": [
    "import pandas as pd\n",
    "import numpy as np\n",
    "import sklearn.metrics\n",
    "import sklearn.model_selection\n",
    "import time"
   ]
  },
  {
   "cell_type": "code",
   "execution_count": 2,
   "id": "85cc8c77",
   "metadata": {},
   "outputs": [],
   "source": [
    "import autosklearn.regression"
   ]
  },
  {
   "cell_type": "code",
   "execution_count": 3,
   "id": "b0516dc5",
   "metadata": {},
   "outputs": [],
   "source": [
    "def compute(x_path, y_path, comp_time):\n",
    "    X = pd.read_csv(x_path)\n",
    "    y = pd.read_csv(y_path)\n",
    "    X_train, X_test, y_train, y_test = sklearn.model_selection.train_test_split(X, y, test_size=0.2, random_state=7)\n",
    "    del X,y\n",
    "    \n",
    "    t0 = time.time()\n",
    "    \n",
    "    reg = autosklearn.regression.AutoSklearnRegressor(\n",
    "        time_left_for_this_task=comp_time,\n",
    "        per_run_time_limit=1800,\n",
    "        n_jobs=4,\n",
    "        memory_limit=20*1024,\n",
    "        tmp_folder='/home/hx152/tmp/autosklearn_regression_example_tmp',\n",
    "        metric=autosklearn.metrics.r2)\n",
    "    reg.fit(X_train, y_train, dataset_name='QSAR')\n",
    "    \n",
    "    t1 = time.time()\n",
    "    print(\"training time cost:\",t1-t0)\n",
    "    \n",
    "    print(reg.leaderboard())\n",
    "    train_predictions = reg.predict(X_train)\n",
    "    print(\"Train R2 score:\", sklearn.metrics.r2_score(y_train, train_predictions))\n",
    "    test_predictions = reg.predict(X_test)\n",
    "    print(\"Test R2 score:\", sklearn.metrics.r2_score(y_test, test_predictions))\n",
    "    \n",
    "    t2 = time.time()\n",
    "    print(\"prediction time cost\",t2-t1)"
   ]
  },
  {
   "cell_type": "code",
   "execution_count": 5,
   "id": "86a543a4",
   "metadata": {},
   "outputs": [
    {
     "name": "stdout",
     "output_type": "stream",
     "text": [
      "[WARNING] [2022-04-11 16:10:56,586:Client-AutoML(1):QSAR] Time limit for a single run is higher than total time limit. Capping the limit for a single run to the total time given to SMAC (599.402275)\n",
      "[WARNING] [2022-04-11 16:10:56,587:Client-AutoML(1):QSAR] Capping the per_run_time_limit to 299.0 to have time for a least 2 models in each process.\n"
     ]
    },
    {
     "name": "stderr",
     "output_type": "stream",
     "text": [
      "/home/hx152/.conda/envs/merck/lib/python3.8/site-packages/autosklearn/metalearning/metalearning/meta_base.py:68: FutureWarning: The frame.append method is deprecated and will be removed from pandas in a future version. Use pandas.concat instead.\n",
      "  self.metafeatures = self.metafeatures.append(metafeatures)\n",
      "/home/hx152/.conda/envs/merck/lib/python3.8/site-packages/autosklearn/metalearning/metalearning/meta_base.py:72: FutureWarning: The frame.append method is deprecated and will be removed from pandas in a future version. Use pandas.concat instead.\n",
      "  self.algorithm_runs[metric].append(runs)\n"
     ]
    },
    {
     "name": "stdout",
     "output_type": "stream",
     "text": [
      "training time cost: 598.9210512638092\n",
      "          rank  ensemble_weight           type      cost    duration\n",
      "model_id                                                            \n",
      "2            1             0.50  random_forest  0.390476  121.352212\n",
      "20           2             0.36    extra_trees  0.399818   16.511409\n",
      "5            3             0.14  liblinear_svr  0.714588    1.773315\n",
      "Train R2 score: 0.8466675224919007\n",
      "Test R2 score: 0.5896112279273136\n",
      "prediction time cost 2.7691006660461426\n",
      "now is processing dataset 4\n",
      "[WARNING] [2022-04-11 16:20:57,110:Client-AutoML(1):QSAR] Time limit for a single run is higher than total time limit. Capping the limit for a single run to the total time given to SMAC (1199.481649)\n",
      "[WARNING] [2022-04-11 16:20:57,110:Client-AutoML(1):QSAR] Capping the per_run_time_limit to 599.0 to have time for a least 2 models in each process.\n"
     ]
    },
    {
     "name": "stderr",
     "output_type": "stream",
     "text": [
      "/home/hx152/.conda/envs/merck/lib/python3.8/site-packages/autosklearn/metalearning/metalearning/meta_base.py:68: FutureWarning: The frame.append method is deprecated and will be removed from pandas in a future version. Use pandas.concat instead.\n",
      "  self.metafeatures = self.metafeatures.append(metafeatures)\n",
      "/home/hx152/.conda/envs/merck/lib/python3.8/site-packages/autosklearn/metalearning/metalearning/meta_base.py:72: FutureWarning: The frame.append method is deprecated and will be removed from pandas in a future version. Use pandas.concat instead.\n",
      "  self.algorithm_runs[metric].append(runs)\n"
     ]
    },
    {
     "name": "stdout",
     "output_type": "stream",
     "text": [
      "training time cost: 1196.9594032764435\n",
      "          rank  ensemble_weight              type      cost    duration\n",
      "model_id                                                               \n",
      "2            1             0.26     random_forest  0.390476  119.315510\n",
      "20           2             0.36       extra_trees  0.399818   16.837643\n",
      "16           3             0.24  gaussian_process  0.433622  330.461034\n",
      "5            4             0.14     liblinear_svr  0.714588    1.760209\n",
      "Train R2 score: 0.8343149598627807\n",
      "Test R2 score: 0.6037281119877926\n",
      "prediction time cost 4.120919466018677\n",
      "now is processing dataset 4\n",
      "[WARNING] [2022-04-11 16:40:59,592:Client-AutoML(1):QSAR] Time limit for a single run is higher than total time limit. Capping the limit for a single run to the total time given to SMAC (1799.502232)\n",
      "[WARNING] [2022-04-11 16:40:59,592:Client-AutoML(1):QSAR] Capping the per_run_time_limit to 899.0 to have time for a least 2 models in each process.\n"
     ]
    },
    {
     "name": "stderr",
     "output_type": "stream",
     "text": [
      "/home/hx152/.conda/envs/merck/lib/python3.8/site-packages/autosklearn/metalearning/metalearning/meta_base.py:68: FutureWarning: The frame.append method is deprecated and will be removed from pandas in a future version. Use pandas.concat instead.\n",
      "  self.metafeatures = self.metafeatures.append(metafeatures)\n",
      "/home/hx152/.conda/envs/merck/lib/python3.8/site-packages/autosklearn/metalearning/metalearning/meta_base.py:72: FutureWarning: The frame.append method is deprecated and will be removed from pandas in a future version. Use pandas.concat instead.\n",
      "  self.algorithm_runs[metric].append(runs)\n"
     ]
    },
    {
     "name": "stdout",
     "output_type": "stream",
     "text": [
      "training time cost: 1797.5157079696655\n",
      "          rank  ensemble_weight              type      cost    duration\n",
      "model_id                                                               \n",
      "2            1             0.02     random_forest  0.390476  119.613055\n",
      "44           2             0.26          adaboost  0.392253   78.598985\n",
      "20           3             0.24       extra_trees  0.399818   16.061789\n",
      "16           4             0.18  gaussian_process  0.433622  323.669347\n",
      "35           5             0.10        libsvm_svr  0.535603    2.263692\n",
      "40           6             0.04     decision_tree  0.577952   20.687332\n",
      "30           7             0.06     decision_tree  0.598790    1.775560\n",
      "5            8             0.10     liblinear_svr  0.714588    1.744015\n",
      "Train R2 score: 0.8236993419440105\n",
      "Test R2 score: 0.6084682711413009\n",
      "prediction time cost 9.92443323135376\n",
      "now is processing dataset 4\n",
      "[WARNING] [2022-04-11 17:11:08,251:Client-AutoML(1):QSAR] Capping the per_run_time_limit to 1199.0 to have time for a least 2 models in each process.\n"
     ]
    },
    {
     "name": "stderr",
     "output_type": "stream",
     "text": [
      "/home/hx152/.conda/envs/merck/lib/python3.8/site-packages/autosklearn/metalearning/metalearning/meta_base.py:68: FutureWarning: The frame.append method is deprecated and will be removed from pandas in a future version. Use pandas.concat instead.\n",
      "  self.metafeatures = self.metafeatures.append(metafeatures)\n",
      "/home/hx152/.conda/envs/merck/lib/python3.8/site-packages/autosklearn/metalearning/metalearning/meta_base.py:72: FutureWarning: The frame.append method is deprecated and will be removed from pandas in a future version. Use pandas.concat instead.\n",
      "  self.algorithm_runs[metric].append(runs)\n"
     ]
    },
    {
     "name": "stdout",
     "output_type": "stream",
     "text": [
      "training time cost: 2399.708261013031\n",
      "          rank  ensemble_weight                 type      cost     duration\n",
      "model_id                                                                   \n",
      "2            1             0.08        random_forest  0.390476   119.480814\n",
      "20           2             0.24          extra_trees  0.399818    15.506121\n",
      "14           3             0.12          extra_trees  0.404699  1075.177829\n",
      "16           4             0.28     gaussian_process  0.433622   375.200506\n",
      "38           5             0.04    gradient_boosting  0.567333     6.382556\n",
      "66           6             0.06  k_nearest_neighbors  0.645104     6.127273\n",
      "61           7             0.02                  mlp  0.683122    73.279599\n",
      "5            8             0.12        liblinear_svr  0.714588     1.725785\n",
      "34           9             0.04           libsvm_svr  0.763340    13.492776\n",
      "Train R2 score: 0.8404376394313575\n",
      "Test R2 score: 0.6114701761768158\n",
      "prediction time cost 17.222675561904907\n",
      "now is processing dataset 4\n",
      "[WARNING] [2022-04-11 17:51:25,575:Client-AutoML(1):QSAR] Capping the per_run_time_limit to 1499.0 to have time for a least 2 models in each process.\n"
     ]
    },
    {
     "name": "stderr",
     "output_type": "stream",
     "text": [
      "/home/hx152/.conda/envs/merck/lib/python3.8/site-packages/autosklearn/metalearning/metalearning/meta_base.py:68: FutureWarning: The frame.append method is deprecated and will be removed from pandas in a future version. Use pandas.concat instead.\n",
      "  self.metafeatures = self.metafeatures.append(metafeatures)\n",
      "/home/hx152/.conda/envs/merck/lib/python3.8/site-packages/autosklearn/metalearning/metalearning/meta_base.py:72: FutureWarning: The frame.append method is deprecated and will be removed from pandas in a future version. Use pandas.concat instead.\n",
      "  self.algorithm_runs[metric].append(runs)\n"
     ]
    },
    {
     "name": "stdout",
     "output_type": "stream",
     "text": [
      "training time cost: 3006.1362018585205\n",
      "          rank  ensemble_weight                 type      cost     duration\n",
      "model_id                                                                   \n",
      "63           1             0.02        random_forest  0.388145   111.195806\n",
      "20           2             0.20          extra_trees  0.399818    16.668816\n",
      "47           3             0.16             adaboost  0.399874    25.179994\n",
      "14           4             0.14          extra_trees  0.404699  1122.767091\n",
      "16           5             0.16     gaussian_process  0.433622   372.138611\n",
      "106          6             0.04  k_nearest_neighbors  0.503052     9.072143\n",
      "90           7             0.20           libsvm_svr  0.517807    15.070807\n",
      "49           8             0.02        decision_tree  0.606311     1.513634\n",
      "104          9             0.06  k_nearest_neighbors  0.626616    22.553326\n",
      "Train R2 score: 0.8472278152267789\n",
      "Test R2 score: 0.6066372911402145\n",
      "prediction time cost 25.489718198776245\n",
      "now is processing dataset 4\n"
     ]
    },
    {
     "name": "stderr",
     "output_type": "stream",
     "text": [
      "/home/hx152/.conda/envs/merck/lib/python3.8/site-packages/autosklearn/metalearning/metalearning/meta_base.py:68: FutureWarning: The frame.append method is deprecated and will be removed from pandas in a future version. Use pandas.concat instead.\n",
      "  self.metafeatures = self.metafeatures.append(metafeatures)\n",
      "/home/hx152/.conda/envs/merck/lib/python3.8/site-packages/autosklearn/metalearning/metalearning/meta_base.py:72: FutureWarning: The frame.append method is deprecated and will be removed from pandas in a future version. Use pandas.concat instead.\n",
      "  self.algorithm_runs[metric].append(runs)\n"
     ]
    },
    {
     "name": "stdout",
     "output_type": "stream",
     "text": [
      "training time cost: 7204.501343011856\n",
      "          rank  ensemble_weight               type      cost    duration\n",
      "model_id                                                                \n",
      "66           1             0.46        extra_trees  0.385046  135.733377\n",
      "62           2             0.10  gradient_boosting  0.409172   74.489470\n",
      "16           3             0.22   gaussian_process  0.433622  357.177770\n",
      "200          4             0.18  gradient_boosting  0.469942   20.968207\n",
      "63           5             0.02        extra_trees  0.476003  125.989673\n",
      "178          6             0.02         libsvm_svr  0.484342   18.928509\n",
      "Train R2 score: 0.8581239468715914\n",
      "Test R2 score: 0.6153375933098728\n",
      "prediction time cost 12.960584878921509\n",
      "now is processing dataset 4\n"
     ]
    },
    {
     "name": "stderr",
     "output_type": "stream",
     "text": [
      "/home/hx152/.conda/envs/merck/lib/python3.8/site-packages/autosklearn/metalearning/metalearning/meta_base.py:68: FutureWarning: The frame.append method is deprecated and will be removed from pandas in a future version. Use pandas.concat instead.\n",
      "  self.metafeatures = self.metafeatures.append(metafeatures)\n",
      "/home/hx152/.conda/envs/merck/lib/python3.8/site-packages/autosklearn/metalearning/metalearning/meta_base.py:72: FutureWarning: The frame.append method is deprecated and will be removed from pandas in a future version. Use pandas.concat instead.\n",
      "  self.algorithm_runs[metric].append(runs)\n"
     ]
    },
    {
     "name": "stdout",
     "output_type": "stream",
     "text": [
      "training time cost: 10807.109637022018\n",
      "          rank  ensemble_weight               type      cost    duration\n",
      "model_id                                                                \n",
      "229          1             0.02        extra_trees  0.383366  123.281954\n",
      "251          2             0.16        extra_trees  0.389000  183.994160\n",
      "172          3             0.08        extra_trees  0.392084   67.910981\n",
      "108          4             0.04  gradient_boosting  0.395673  117.393287\n",
      "171          5             0.08  gradient_boosting  0.415969   32.094254\n",
      "74           6             0.14  gradient_boosting  0.419828   16.568245\n",
      "16           7             0.14   gaussian_process  0.433622  414.565016\n",
      "99           8             0.08                mlp  0.433908    7.077404\n",
      "114          9             0.04  gradient_boosting  0.437462   21.741786\n",
      "348         10             0.12                sgd  0.442953    4.131014\n",
      "359         11             0.10                mlp  0.448648    9.428937\n",
      "Train R2 score: 0.8520776860893705\n",
      "Test R2 score: 0.6203271697282222\n",
      "prediction time cost 11.030565977096558\n",
      "now is processing dataset 4\n",
      "[WARNING] [2022-04-11 23:42:38,655:Client-AutoML(1):QSAR] Time limit for a single run is higher than total time limit. Capping the limit for a single run to the total time given to SMAC (599.173629)\n",
      "[WARNING] [2022-04-11 23:42:38,656:Client-AutoML(1):QSAR] Capping the per_run_time_limit to 299.0 to have time for a least 2 models in each process.\n"
     ]
    },
    {
     "name": "stderr",
     "output_type": "stream",
     "text": [
      "/home/hx152/.conda/envs/merck/lib/python3.8/site-packages/autosklearn/metalearning/metalearning/meta_base.py:68: FutureWarning: The frame.append method is deprecated and will be removed from pandas in a future version. Use pandas.concat instead.\n",
      "  self.metafeatures = self.metafeatures.append(metafeatures)\n",
      "/home/hx152/.conda/envs/merck/lib/python3.8/site-packages/autosklearn/metalearning/metalearning/meta_base.py:72: FutureWarning: The frame.append method is deprecated and will be removed from pandas in a future version. Use pandas.concat instead.\n",
      "  self.algorithm_runs[metric].append(runs)\n"
     ]
    },
    {
     "name": "stdout",
     "output_type": "stream",
     "text": [
      "[WARNING] [2022-04-11 23:43:54,561:Client-EnsembleBuilder] No models better than random - using Dummy loss!Number of models besides current dummy model: 1. Number of dummy models: 1\n",
      "[WARNING] [2022-04-11 23:43:58,508:Client-EnsembleBuilder] No models better than random - using Dummy loss!Number of models besides current dummy model: 1. Number of dummy models: 1\n",
      "training time cost: 602.8323650360107\n",
      "          rank  ensemble_weight               type      cost    duration\n",
      "model_id                                                                \n",
      "4            1             0.62        extra_trees  0.544787  100.603548\n",
      "18           2             0.36  gradient_boosting  0.568639  100.014519\n",
      "29           3             0.02     ard_regression  0.716173   39.439303\n",
      "Train R2 score: 0.7669297742379659\n",
      "Test R2 score: 0.44434334965123423\n",
      "prediction time cost 6.082393646240234\n",
      "now is processing dataset 14\n",
      "[WARNING] [2022-04-11 23:52:50,774:Client-AutoML(1):QSAR] Time limit for a single run is higher than total time limit. Capping the limit for a single run to the total time given to SMAC (1199.241569)\n",
      "[WARNING] [2022-04-11 23:52:50,774:Client-AutoML(1):QSAR] Capping the per_run_time_limit to 599.0 to have time for a least 2 models in each process.\n"
     ]
    },
    {
     "name": "stderr",
     "output_type": "stream",
     "text": [
      "/home/hx152/.conda/envs/merck/lib/python3.8/site-packages/autosklearn/metalearning/metalearning/meta_base.py:68: FutureWarning: The frame.append method is deprecated and will be removed from pandas in a future version. Use pandas.concat instead.\n",
      "  self.metafeatures = self.metafeatures.append(metafeatures)\n",
      "/home/hx152/.conda/envs/merck/lib/python3.8/site-packages/autosklearn/metalearning/metalearning/meta_base.py:72: FutureWarning: The frame.append method is deprecated and will be removed from pandas in a future version. Use pandas.concat instead.\n",
      "  self.algorithm_runs[metric].append(runs)\n"
     ]
    },
    {
     "name": "stdout",
     "output_type": "stream",
     "text": [
      "[WARNING] [2022-04-11 23:54:02,881:Client-EnsembleBuilder] No models better than random - using Dummy loss!Number of models besides current dummy model: 1. Number of dummy models: 1\n",
      "[WARNING] [2022-04-11 23:54:13,546:Client-EnsembleBuilder] No models better than random - using Dummy loss!Number of models besides current dummy model: 1. Number of dummy models: 1\n",
      "training time cost: 1202.056161403656\n",
      "          rank  ensemble_weight               type      cost    duration\n",
      "model_id                                                                \n",
      "2            1             0.66      random_forest  0.530401  468.281847\n",
      "4            2             0.04        extra_trees  0.544787   98.806195\n",
      "18           3             0.22  gradient_boosting  0.568639  107.963315\n",
      "32           4             0.08                mlp  0.857756   50.582053\n",
      "Train R2 score: 0.7805597208214214\n",
      "Test R2 score: 0.43515252203550703\n",
      "prediction time cost 8.605086326599121\n",
      "now is processing dataset 14\n",
      "[WARNING] [2022-04-12 00:13:03,861:Client-AutoML(1):QSAR] Time limit for a single run is higher than total time limit. Capping the limit for a single run to the total time given to SMAC (1799.182475)\n",
      "[WARNING] [2022-04-12 00:13:03,862:Client-AutoML(1):QSAR] Capping the per_run_time_limit to 899.0 to have time for a least 2 models in each process.\n"
     ]
    },
    {
     "name": "stderr",
     "output_type": "stream",
     "text": [
      "/home/hx152/.conda/envs/merck/lib/python3.8/site-packages/autosklearn/metalearning/metalearning/meta_base.py:68: FutureWarning: The frame.append method is deprecated and will be removed from pandas in a future version. Use pandas.concat instead.\n",
      "  self.metafeatures = self.metafeatures.append(metafeatures)\n",
      "/home/hx152/.conda/envs/merck/lib/python3.8/site-packages/autosklearn/metalearning/metalearning/meta_base.py:72: FutureWarning: The frame.append method is deprecated and will be removed from pandas in a future version. Use pandas.concat instead.\n",
      "  self.algorithm_runs[metric].append(runs)\n"
     ]
    },
    {
     "name": "stdout",
     "output_type": "stream",
     "text": [
      "[WARNING] [2022-04-12 00:14:17,872:Client-EnsembleBuilder] No models better than random - using Dummy loss!Number of models besides current dummy model: 1. Number of dummy models: 1\n",
      "[WARNING] [2022-04-12 00:14:21,675:Client-EnsembleBuilder] No models better than random - using Dummy loss!Number of models besides current dummy model: 1. Number of dummy models: 1\n",
      "training time cost: 1797.720332145691\n",
      "          rank  ensemble_weight               type      cost    duration\n",
      "model_id                                                                \n",
      "2            1             0.64      random_forest  0.530401  462.138535\n",
      "4            2             0.14        extra_trees  0.544787   98.657630\n",
      "18           3             0.22  gradient_boosting  0.568639  102.919301\n",
      "Train R2 score: 0.7813834457551676\n",
      "Test R2 score: 0.4323945781319436\n",
      "prediction time cost 6.324856996536255\n",
      "now is processing dataset 14\n",
      "[WARNING] [2022-04-12 00:43:11,234:Client-AutoML(1):QSAR] Capping the per_run_time_limit to 1199.0 to have time for a least 2 models in each process.\n"
     ]
    },
    {
     "name": "stderr",
     "output_type": "stream",
     "text": [
      "/home/hx152/.conda/envs/merck/lib/python3.8/site-packages/autosklearn/metalearning/metalearning/meta_base.py:68: FutureWarning: The frame.append method is deprecated and will be removed from pandas in a future version. Use pandas.concat instead.\n",
      "  self.metafeatures = self.metafeatures.append(metafeatures)\n",
      "/home/hx152/.conda/envs/merck/lib/python3.8/site-packages/autosklearn/metalearning/metalearning/meta_base.py:72: FutureWarning: The frame.append method is deprecated and will be removed from pandas in a future version. Use pandas.concat instead.\n",
      "  self.algorithm_runs[metric].append(runs)\n"
     ]
    },
    {
     "name": "stdout",
     "output_type": "stream",
     "text": [
      "[WARNING] [2022-04-12 00:44:23,463:Client-EnsembleBuilder] No models better than random - using Dummy loss!Number of models besides current dummy model: 1. Number of dummy models: 1\n",
      "[WARNING] [2022-04-12 00:44:27,351:Client-EnsembleBuilder] No models better than random - using Dummy loss!Number of models besides current dummy model: 1. Number of dummy models: 1\n",
      "training time cost: 2402.382839679718\n",
      "          rank  ensemble_weight               type      cost    duration\n",
      "model_id                                                                \n",
      "2            1             0.64      random_forest  0.530401  460.841856\n",
      "4            2             0.10        extra_trees  0.544787  102.871305\n",
      "18           3             0.22  gradient_boosting  0.568639  106.305001\n",
      "37           4             0.04     ard_regression  0.703879   40.069541\n",
      "Train R2 score: 0.7768038585395391\n",
      "Test R2 score: 0.43060803967642547\n",
      "prediction time cost 8.600765228271484\n",
      "now is processing dataset 14\n",
      "[WARNING] [2022-04-12 01:23:24,740:Client-AutoML(1):QSAR] Capping the per_run_time_limit to 1499.0 to have time for a least 2 models in each process.\n"
     ]
    },
    {
     "name": "stderr",
     "output_type": "stream",
     "text": [
      "/home/hx152/.conda/envs/merck/lib/python3.8/site-packages/autosklearn/metalearning/metalearning/meta_base.py:68: FutureWarning: The frame.append method is deprecated and will be removed from pandas in a future version. Use pandas.concat instead.\n",
      "  self.metafeatures = self.metafeatures.append(metafeatures)\n",
      "/home/hx152/.conda/envs/merck/lib/python3.8/site-packages/autosklearn/metalearning/metalearning/meta_base.py:72: FutureWarning: The frame.append method is deprecated and will be removed from pandas in a future version. Use pandas.concat instead.\n",
      "  self.algorithm_runs[metric].append(runs)\n"
     ]
    },
    {
     "name": "stdout",
     "output_type": "stream",
     "text": [
      "[WARNING] [2022-04-12 01:24:44,022:Client-EnsembleBuilder] No models better than random - using Dummy loss!Number of models besides current dummy model: 1. Number of dummy models: 1\n",
      "[WARNING] [2022-04-12 01:24:47,980:Client-EnsembleBuilder] No models better than random - using Dummy loss!Number of models besides current dummy model: 1. Number of dummy models: 1\n",
      "training time cost: 3004.368674516678\n",
      "          rank  ensemble_weight                 type      cost    duration\n",
      "model_id                                                                  \n",
      "41           1             0.42          extra_trees  0.525940  499.572873\n",
      "2            2             0.32        random_forest  0.530401  470.814751\n",
      "50           3             0.06          extra_trees  0.543334  128.374528\n",
      "18           4             0.12    gradient_boosting  0.568639  105.046506\n",
      "19           5             0.02       ard_regression  0.730700   29.585375\n",
      "47           6             0.06  k_nearest_neighbors  0.928243   73.191355\n",
      "Train R2 score: 0.8139783832516633\n",
      "Test R2 score: 0.4401226849739496\n",
      "prediction time cost 69.03351736068726\n",
      "now is processing dataset 14\n"
     ]
    },
    {
     "name": "stderr",
     "output_type": "stream",
     "text": [
      "/home/hx152/.conda/envs/merck/lib/python3.8/site-packages/autosklearn/metalearning/metalearning/meta_base.py:68: FutureWarning: The frame.append method is deprecated and will be removed from pandas in a future version. Use pandas.concat instead.\n",
      "  self.metafeatures = self.metafeatures.append(metafeatures)\n",
      "/home/hx152/.conda/envs/merck/lib/python3.8/site-packages/autosklearn/metalearning/metalearning/meta_base.py:72: FutureWarning: The frame.append method is deprecated and will be removed from pandas in a future version. Use pandas.concat instead.\n",
      "  self.algorithm_runs[metric].append(runs)\n"
     ]
    },
    {
     "name": "stdout",
     "output_type": "stream",
     "text": [
      "[WARNING] [2022-04-12 02:15:54,712:Client-EnsembleBuilder] No models better than random - using Dummy loss!Number of models besides current dummy model: 1. Number of dummy models: 1\n",
      "[WARNING] [2022-04-12 02:15:58,955:Client-EnsembleBuilder] No models better than random - using Dummy loss!Number of models besides current dummy model: 1. Number of dummy models: 1\n",
      "training time cost: 7206.525003671646\n",
      "          rank  ensemble_weight                 type      cost    duration\n",
      "model_id                                                                  \n",
      "52           1             0.32             adaboost  0.529592  542.993303\n",
      "2            2             0.22        random_forest  0.530401  459.683846\n",
      "67           3             0.16           libsvm_svr  0.586580   88.783751\n",
      "98           4             0.04  k_nearest_neighbors  0.643688   54.964767\n",
      "46           5             0.04    gradient_boosting  0.696189  147.365484\n",
      "118          6             0.10    gradient_boosting  0.714191   97.475735\n",
      "86           7             0.06                  sgd  0.744554   47.518601\n",
      "69           8             0.06           libsvm_svr  0.799495   94.098731\n",
      "Train R2 score: 0.8014107513909927\n",
      "Test R2 score: 0.44039003018164957\n",
      "prediction time cost 176.17856907844543\n",
      "now is processing dataset 14\n"
     ]
    },
    {
     "name": "stderr",
     "output_type": "stream",
     "text": [
      "/home/hx152/.conda/envs/merck/lib/python3.8/site-packages/autosklearn/metalearning/metalearning/meta_base.py:68: FutureWarning: The frame.append method is deprecated and will be removed from pandas in a future version. Use pandas.concat instead.\n",
      "  self.metafeatures = self.metafeatures.append(metafeatures)\n",
      "/home/hx152/.conda/envs/merck/lib/python3.8/site-packages/autosklearn/metalearning/metalearning/meta_base.py:72: FutureWarning: The frame.append method is deprecated and will be removed from pandas in a future version. Use pandas.concat instead.\n",
      "  self.algorithm_runs[metric].append(runs)\n"
     ]
    },
    {
     "name": "stdout",
     "output_type": "stream",
     "text": [
      "[WARNING] [2022-04-12 04:18:59,791:Client-EnsembleBuilder] No models better than random - using Dummy loss!Number of models besides current dummy model: 1. Number of dummy models: 1\n",
      "[WARNING] [2022-04-12 04:19:03,937:Client-EnsembleBuilder] No models better than random - using Dummy loss!Number of models besides current dummy model: 1. Number of dummy models: 1\n",
      "training time cost: 10805.191621303558\n",
      "          rank  ensemble_weight               type      cost    duration\n",
      "model_id                                                                \n",
      "79           1             0.14      random_forest  0.524170  387.514988\n",
      "47           2             0.36      random_forest  0.526747   64.538943\n",
      "66           3             0.08      random_forest  0.538419  231.792117\n",
      "18           4             0.04  gradient_boosting  0.568639  106.769529\n",
      "99           5             0.08  gradient_boosting  0.616244  124.876472\n",
      "176          6             0.08                sgd  0.664461   22.814139\n",
      "186          7             0.14                mlp  0.669049   54.620443\n",
      "95           8             0.08     ard_regression  0.671809  320.221783\n",
      "Train R2 score: 0.8033954404765409\n",
      "Test R2 score: 0.44814651406252837\n",
      "prediction time cost 13.465645790100098\n",
      "now is processing dataset 14\n"
     ]
    }
   ],
   "source": [
    "for i in [4,14]:\n",
    "    for comp_time in [600, 1200, 1800, 2400, 3000, 7200, 10800]:\n",
    "        x_path = 'dataset/QSAR_{}_train_x.csv'.format(i)\n",
    "        y_path = 'dataset/QSAR_{}_train_y.csv'.format(i)\n",
    "        compute(x_path, y_path,comp_time)\n",
    "        print(\"now is processing dataset %s\" % i)"
   ]
  },
  {
   "cell_type": "code",
   "execution_count": null,
   "id": "fa53a9e2",
   "metadata": {},
   "outputs": [],
   "source": []
  }
 ],
 "metadata": {
  "kernelspec": {
   "display_name": "Python 3 (ipykernel)",
   "language": "python",
   "name": "python3"
  },
  "language_info": {
   "codemirror_mode": {
    "name": "ipython",
    "version": 3
   },
   "file_extension": ".py",
   "mimetype": "text/x-python",
   "name": "python",
   "nbconvert_exporter": "python",
   "pygments_lexer": "ipython3",
   "version": "3.8.0"
  }
 },
 "nbformat": 4,
 "nbformat_minor": 5
}
