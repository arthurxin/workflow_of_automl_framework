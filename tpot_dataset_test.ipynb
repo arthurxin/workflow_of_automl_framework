{
 "cells": [
  {
   "cell_type": "code",
   "execution_count": 5,
   "id": "bb947bc1",
   "metadata": {},
   "outputs": [],
   "source": [
    "import pandas as pd\n",
    "import numpy as np\n",
    "import sklearn.metrics\n",
    "import sklearn.model_selection\n",
    "import time\n",
    "import tpot\n",
    "from tpot import TPOTRegressor\n",
    "import gc"
   ]
  },
  {
   "cell_type": "code",
   "execution_count": 6,
   "id": "78eb6a1f",
   "metadata": {},
   "outputs": [],
   "source": [
    "x_data = 'dataset/QSAR_{}_train_x.csv'\n",
    "y_data = 'dataset/QSAR_{}_train_y.csv'\n",
    "target_file = './tpot_{}.py'\n",
    "pareto_front_fitted_pipelines_ = './pareto_front_fitted_pipelines_{}.txt'\n",
    "evaluated_individuals_ = './evaluated_individuals_{}.txt'\n",
    "dataset_list = []"
   ]
  },
  {
   "cell_type": "code",
   "execution_count": 7,
   "id": "de5dc702",
   "metadata": {},
   "outputs": [],
   "source": [
    "def model_compute(X_train, y_train):\n",
    "    tpot = TPOTRegressor(random_state=1, max_time_mins=60, n_jobs=1, verbosity=2)\n",
    "    tpot.fit(X_train, y_train)\n",
    "    return tpot"
   ]
  },
  {
   "cell_type": "code",
   "execution_count": null,
   "id": "e1430683",
   "metadata": {},
   "outputs": [
    {
     "name": "stdout",
     "output_type": "stream",
     "text": [
      "start\n",
      "30 operators have been imported by TPOT.\n"
     ]
    },
    {
     "name": "stderr",
     "output_type": "stream",
     "text": [
      "/home/jl2707/.conda/envs/jy/lib/python3.8/site-packages/sklearn/utils/validation.py:993: DataConversionWarning: A column-vector y was passed when a 1d array was expected. Please change the shape of y to (n_samples, ), for example using ravel().\n",
      "  y = column_or_1d(y, warn=True)\n"
     ]
    },
    {
     "name": "stdout",
     "output_type": "stream",
     "text": [
      "Skipped pipeline #4 due to time out. Continuing to the next pipeline.         \n",
      "Skipped pipeline #6 due to time out. Continuing to the next pipeline.         \n",
      "Skipped pipeline #9 due to time out. Continuing to the next pipeline.         \n",
      "Skipped pipeline #11 due to time out. Continuing to the next pipeline.        \n",
      "Skipped pipeline #15 due to time out. Continuing to the next pipeline.         \n",
      "Skipped pipeline #17 due to time out. Continuing to the next pipeline.         \n",
      "Skipped pipeline #20 due to time out. Continuing to the next pipeline.       \n",
      "Skipped pipeline #22 due to time out. Continuing to the next pipeline.       \n",
      "Optimization Progress: 22pipeline [13:29, 809.53s/pipeline]"
     ]
    },
    {
     "name": "stderr",
     "output_type": "stream",
     "text": [
      "/home/jl2707/.conda/envs/jy/lib/python3.8/site-packages/tpot/builtins/__init__.py:36: UserWarning: Warning: optional dependency `torch` is not available. - skipping import of NN models.\n",
      "  warnings.warn(\"Warning: optional dependency `torch` is not available. - skipping import of NN models.\")\n",
      "/home/jl2707/.conda/envs/jy/lib/python3.8/site-packages/xgboost/compat.py:36: FutureWarning: pandas.Int64Index is deprecated and will be removed from pandas in a future version. Use pandas.Index with the appropriate dtype instead.\n",
      "  from pandas import MultiIndex, Int64Index\n",
      "/home/jl2707/.conda/envs/jy/lib/python3.8/site-packages/tpot/builtins/__init__.py:36: UserWarning: Warning: optional dependency `torch` is not available. - skipping import of NN models.\n",
      "  warnings.warn(\"Warning: optional dependency `torch` is not available. - skipping import of NN models.\")\n"
     ]
    },
    {
     "name": "stdout",
     "output_type": "stream",
     "text": [
      "Skipped pipeline #25 due to time out. Continuing to the next pipeline.\n",
      "Skipped pipeline #27 due to time out. Continuing to the next pipeline.\n",
      "Pipeline encountered that has previously been evaluated during the optimization process. Using the score from the previous evaluation.\n",
      "Skipped pipeline #33 due to time out. Continuing to the next pipeline.      \n",
      "Skipped pipeline #37 due to time out. Continuing to the next pipeline.      \n",
      "Skipped pipeline #39 due to time out. Continuing to the next pipeline.      \n",
      "Skipped pipeline #42 due to time out. Continuing to the next pipeline.      \n",
      "Skipped pipeline #44 due to time out. Continuing to the next pipeline.\n",
      "Skipped pipeline #46 due to time out. Continuing to the next pipeline.\n",
      "Skipped pipeline #48 due to time out. Continuing to the next pipeline.\n",
      "Skipped pipeline #51 due to time out. Continuing to the next pipeline.\n",
      "Optimization Progress: 51pipeline [35:29, 76.09s/pipeline]"
     ]
    },
    {
     "name": "stderr",
     "output_type": "stream",
     "text": [
      "/home/jl2707/.conda/envs/jy/lib/python3.8/site-packages/tpot/builtins/__init__.py:36: UserWarning: Warning: optional dependency `torch` is not available. - skipping import of NN models.\n",
      "  warnings.warn(\"Warning: optional dependency `torch` is not available. - skipping import of NN models.\")\n",
      "/home/jl2707/.conda/envs/jy/lib/python3.8/site-packages/xgboost/compat.py:36: FutureWarning: pandas.Int64Index is deprecated and will be removed from pandas in a future version. Use pandas.Index with the appropriate dtype instead.\n",
      "  from pandas import MultiIndex, Int64Index\n"
     ]
    }
   ],
   "source": [
    "for i in [1, 15]:\n",
    "    t1 = time.time()\n",
    "    X = pd.read_csv(x_data.format(i))\n",
    "    y = pd.read_csv(y_data.format(i))\n",
    "    X_train, X_test, y_train, y_test = sklearn.model_selection.train_test_split(X, y, test_size=0.2, random_state=7)\n",
    "    del X\n",
    "    del y\n",
    "    gc.collect()\n",
    "    \n",
    "    print('start')\n",
    "    tpot = TPOTRegressor(random_state=1, max_time_mins=60, n_jobs=4, verbosity=3, generations=10, population_size=20)\n",
    "    tpot.fit(X_train, y_train)\n",
    "    print('end')\n",
    "    \n",
    "    t2 = time.time()\n",
    "    t = t2 - t1\n",
    "    \n",
    "    tpot.export(target_file.format(i))\n",
    "    \n",
    "    with open(pareto_front_fitted_pipelines_.format(i), 'w') as file:\n",
    "        file.write(str(tpot.pareto_front_fitted_pipelines_))\n",
    "    file.close()\n",
    "    \n",
    "    with open(evaluated_individuals_.format(i), 'w') as file:\n",
    "        file.write(str(tpot.evaluated_individuals_))\n",
    "    file.close()\n",
    "    \n",
    "    res = (i, tpot.score(X_train, y_train), tpot.score(X_test, y_test), t)\n",
    "    dataset_list.append(res)  \n",
    "    \n",
    "    del tpot\n",
    "    gc.collect()\n",
    "    \n",
    "    print(i, 'finished')\n",
    "with open('./summary.txt', 'w') as file:\n",
    "    file.write(str(dataset_list))"
   ]
  },
  {
   "cell_type": "code",
   "execution_count": null,
   "id": "0f504882",
   "metadata": {},
   "outputs": [],
   "source": []
  }
 ],
 "metadata": {
  "kernelspec": {
   "display_name": "Python 3 (ipykernel)",
   "language": "python",
   "name": "python3"
  },
  "language_info": {
   "codemirror_mode": {
    "name": "ipython",
    "version": 3
   },
   "file_extension": ".py",
   "mimetype": "text/x-python",
   "name": "python",
   "nbconvert_exporter": "python",
   "pygments_lexer": "ipython3",
   "version": "3.8.0"
  }
 },
 "nbformat": 4,
 "nbformat_minor": 5
}
