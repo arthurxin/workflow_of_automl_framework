{
 "cells": [
  {
   "cell_type": "code",
   "execution_count": 1,
   "metadata": {
    "scrolled": true
   },
   "outputs": [],
   "source": [
    "import pandas as pd\n",
    "import numpy as np\n",
    "import sklearn.metrics\n",
    "import sklearn.model_selection\n",
    "import time"
   ]
  },
  {
   "cell_type": "code",
   "execution_count": 2,
   "metadata": {
    "scrolled": true
   },
   "outputs": [],
   "source": [
    "import h2o\n",
    "from h2o.automl import H2OAutoML"
   ]
  },
  {
   "cell_type": "code",
   "execution_count": 3,
   "metadata": {
    "scrolled": true
   },
   "outputs": [],
   "source": [
    "def compute(x_path, y_path):\n",
    "    X = pd.read_csv(x_path)\n",
    "    y = pd.read_csv(y_path)\n",
    "    X_train, X_test, y_train, y_test = sklearn.model_selection.train_test_split(X, y, test_size=0.2, random_state=7)\n",
    "    df_train = pd.concat([X_train, y_train], axis=1)\n",
    "    \n",
    "    hf_train = h2o.H2OFrame(df_train)\n",
    "    \n",
    "    t0 = time.time()\n",
    "    \n",
    "    x_names = hf_train.columns\n",
    "    y_names = \"y\"\n",
    "    x_names.remove(y_names)\n",
    "    \n",
    "    aml = H2OAutoML(max_runtime_secs=3*3600, exclude_algos=['DeepLearning'], seed = 1, verbosity=\"NULL\")\n",
    "    aml.train(x=x_names, y=y_names, training_frame=hf_train)\n",
    "    \n",
    "    t1 = time.time()\n",
    "    print(\"training time cost:\",t1-t0)\n",
    "    \n",
    "    # View the AutoML Leaderboard\n",
    "    lb = aml.leaderboard\n",
    "    print(lb.head(10))  # Print all rows instead of default \n",
    "    \n",
    "    train_predictions = aml.predict(h2o.H2OFrame(X_train))\n",
    "    train_predictions = h2o.as_list(train_predictions)\n",
    "    print(\"Train R2 score:\", sklearn.metrics.r2_score(y_train, train_predictions))\n",
    "    test_predictions = aml.predict(h2o.H2OFrame(X_test))\n",
    "    test_predictions = h2o.as_list(test_predictions)\n",
    "    print(\"Test R2 score:\", sklearn.metrics.r2_score(y_test, test_predictions))\n",
    "        \n",
    "    t2 = time.time()\n",
    "    print(\"prediction time cost\",t2-t1)"
   ]
  },
  {
   "cell_type": "code",
   "execution_count": 4,
   "metadata": {
    "scrolled": false
   },
   "outputs": [
    {
     "name": "stdout",
     "output_type": "stream",
     "text": [
      "Checking whether there is an H2O instance running at http://localhost:54321 ..... not found.\n",
      "Attempting to start a local H2O server...\n",
      "  Java Version: openjdk version \"1.8.0_152-release\"; OpenJDK Runtime Environment (build 1.8.0_152-release-1056-b12); OpenJDK 64-Bit Server VM (build 25.152-b12, mixed mode)\n",
      "  Starting server from /cache/home/hx152/.conda/envs/merck/lib/python3.8/site-packages/h2o/backend/bin/h2o.jar\n",
      "  Ice root: /tmp/tmpzvzb63y0\n",
      "  JVM stdout: /tmp/tmpzvzb63y0/h2o_hx152_started_from_python.out\n",
      "  JVM stderr: /tmp/tmpzvzb63y0/h2o_hx152_started_from_python.err\n",
      "  Server is running at http://127.0.0.1:54321\n",
      "Connecting to H2O server at http://127.0.0.1:54321 ... successful.\n"
     ]
    },
    {
     "data": {
      "text/html": [
       "<div style=\"overflow:auto\"><table style=\"width:50%\"><tr><td>H2O_cluster_uptime:</td>\n",
       "<td>01 secs</td></tr>\n",
       "<tr><td>H2O_cluster_timezone:</td>\n",
       "<td>America/New_York</td></tr>\n",
       "<tr><td>H2O_data_parsing_timezone:</td>\n",
       "<td>UTC</td></tr>\n",
       "<tr><td>H2O_cluster_version:</td>\n",
       "<td>3.36.0.3</td></tr>\n",
       "<tr><td>H2O_cluster_version_age:</td>\n",
       "<td>1 month and 28 days </td></tr>\n",
       "<tr><td>H2O_cluster_name:</td>\n",
       "<td>H2O_from_python_hx152_z9a4ol</td></tr>\n",
       "<tr><td>H2O_cluster_total_nodes:</td>\n",
       "<td>1</td></tr>\n",
       "<tr><td>H2O_cluster_free_memory:</td>\n",
       "<td>26.67 Gb</td></tr>\n",
       "<tr><td>H2O_cluster_total_cores:</td>\n",
       "<td>4</td></tr>\n",
       "<tr><td>H2O_cluster_allowed_cores:</td>\n",
       "<td>4</td></tr>\n",
       "<tr><td>H2O_cluster_status:</td>\n",
       "<td>locked, healthy</td></tr>\n",
       "<tr><td>H2O_connection_url:</td>\n",
       "<td>http://127.0.0.1:54321</td></tr>\n",
       "<tr><td>H2O_connection_proxy:</td>\n",
       "<td>{\"http\": null, \"https\": null}</td></tr>\n",
       "<tr><td>H2O_internal_security:</td>\n",
       "<td>False</td></tr>\n",
       "<tr><td>Python_version:</td>\n",
       "<td>3.8.0 final</td></tr></table></div>"
      ],
      "text/plain": [
       "--------------------------  -----------------------------\n",
       "H2O_cluster_uptime:         01 secs\n",
       "H2O_cluster_timezone:       America/New_York\n",
       "H2O_data_parsing_timezone:  UTC\n",
       "H2O_cluster_version:        3.36.0.3\n",
       "H2O_cluster_version_age:    1 month and 28 days\n",
       "H2O_cluster_name:           H2O_from_python_hx152_z9a4ol\n",
       "H2O_cluster_total_nodes:    1\n",
       "H2O_cluster_free_memory:    26.67 Gb\n",
       "H2O_cluster_total_cores:    4\n",
       "H2O_cluster_allowed_cores:  4\n",
       "H2O_cluster_status:         locked, healthy\n",
       "H2O_connection_url:         http://127.0.0.1:54321\n",
       "H2O_connection_proxy:       {\"http\": null, \"https\": null}\n",
       "H2O_internal_security:      False\n",
       "Python_version:             3.8.0 final\n",
       "--------------------------  -----------------------------"
      ]
     },
     "metadata": {},
     "output_type": "display_data"
    },
    {
     "name": "stdout",
     "output_type": "stream",
     "text": [
      "Parse progress: |████████████████████████████████████████████████████████████████| (done) 100%\n",
      "AutoML progress: |█████████████████████████████████████████████████████████████| (done) 100%\n",
      "training time cost: 11888.685725927353\n"
     ]
    },
    {
     "data": {
      "text/html": [
       "<table>\n",
       "<thead>\n",
       "<tr><th>model_id                                              </th><th style=\"text-align: right;\">  mean_residual_deviance</th><th style=\"text-align: right;\">    rmse</th><th style=\"text-align: right;\">     mse</th><th style=\"text-align: right;\">     mae</th><th style=\"text-align: right;\">  rmsle</th></tr>\n",
       "</thead>\n",
       "<tbody>\n",
       "<tr><td>StackedEnsemble_AllModels_1_AutoML_1_20220414_34236   </td><td style=\"text-align: right;\">                0.205822</td><td style=\"text-align: right;\">0.453676</td><td style=\"text-align: right;\">0.205822</td><td style=\"text-align: right;\">0.313536</td><td style=\"text-align: right;\">    nan</td></tr>\n",
       "<tr><td>StackedEnsemble_BestOfFamily_1_AutoML_1_20220414_34236</td><td style=\"text-align: right;\">                0.207184</td><td style=\"text-align: right;\">0.455174</td><td style=\"text-align: right;\">0.207184</td><td style=\"text-align: right;\">0.3158  </td><td style=\"text-align: right;\">    nan</td></tr>\n",
       "<tr><td>StackedEnsemble_BestOfFamily_2_AutoML_1_20220414_34236</td><td style=\"text-align: right;\">                0.208002</td><td style=\"text-align: right;\">0.456072</td><td style=\"text-align: right;\">0.208002</td><td style=\"text-align: right;\">0.315908</td><td style=\"text-align: right;\">    nan</td></tr>\n",
       "<tr><td>GBM_1_AutoML_1_20220414_34236                         </td><td style=\"text-align: right;\">                0.239471</td><td style=\"text-align: right;\">0.489358</td><td style=\"text-align: right;\">0.239471</td><td style=\"text-align: right;\">0.347207</td><td style=\"text-align: right;\">    nan</td></tr>\n",
       "<tr><td>XGBoost_3_AutoML_1_20220414_34236                     </td><td style=\"text-align: right;\">                0.273026</td><td style=\"text-align: right;\">0.522519</td><td style=\"text-align: right;\">0.273026</td><td style=\"text-align: right;\">0.379547</td><td style=\"text-align: right;\">    nan</td></tr>\n",
       "<tr><td>GLM_1_AutoML_1_20220414_34236                         </td><td style=\"text-align: right;\">                0.291326</td><td style=\"text-align: right;\">0.539746</td><td style=\"text-align: right;\">0.291326</td><td style=\"text-align: right;\">0.379238</td><td style=\"text-align: right;\">    nan</td></tr>\n",
       "<tr><td>XGBoost_2_AutoML_1_20220414_34236                     </td><td style=\"text-align: right;\">                0.339825</td><td style=\"text-align: right;\">0.582945</td><td style=\"text-align: right;\">0.339825</td><td style=\"text-align: right;\">0.421083</td><td style=\"text-align: right;\">    nan</td></tr>\n",
       "<tr><td>XGBoost_1_AutoML_1_20220414_34236                     </td><td style=\"text-align: right;\">                0.355101</td><td style=\"text-align: right;\">0.595904</td><td style=\"text-align: right;\">0.355101</td><td style=\"text-align: right;\">0.437031</td><td style=\"text-align: right;\">    nan</td></tr>\n",
       "<tr><td>GBM_2_AutoML_1_20220414_34236                         </td><td style=\"text-align: right;\">                0.703225</td><td style=\"text-align: right;\">0.838585</td><td style=\"text-align: right;\">0.703225</td><td style=\"text-align: right;\">0.660691</td><td style=\"text-align: right;\">    nan</td></tr>\n",
       "<tr><td>GBM_3_AutoML_1_20220414_34236                         </td><td style=\"text-align: right;\">                0.767945</td><td style=\"text-align: right;\">0.876325</td><td style=\"text-align: right;\">0.767945</td><td style=\"text-align: right;\">0.692392</td><td style=\"text-align: right;\">    nan</td></tr>\n",
       "</tbody>\n",
       "</table>"
      ]
     },
     "metadata": {},
     "output_type": "display_data"
    },
    {
     "name": "stdout",
     "output_type": "stream",
     "text": [
      "\n",
      "Parse progress: |████████████████████████████████████████████████████████████████| (done) 100%\n",
      "stackedensemble prediction progress: |███████████████████████████████████████████| (done) 100%\n",
      "Train R2 score: 0.9071583875730205\n",
      "Parse progress: |████████████████████████████████████████████████████████████████| (done) 100%\n",
      "stackedensemble prediction progress: |███████████████████████████████████████████| (done) 100%\n",
      "Test R2 score: 0.8451595380208887\n",
      "prediction time cost 124.17309665679932\n",
      "now is processing dataset 6\n",
      "Parse progress: |████████████████████████████████████████████████████████████████| (done) 100%\n",
      "AutoML progress: |███████████████████████████████████████████████████████████████| (done) 100%\n",
      "training time cost: 8968.960248947144\n"
     ]
    },
    {
     "data": {
      "text/html": [
       "<table>\n",
       "<thead>\n",
       "<tr><th>model_id                                              </th><th style=\"text-align: right;\">  mean_residual_deviance</th><th style=\"text-align: right;\">   rmse</th><th style=\"text-align: right;\">    mse</th><th style=\"text-align: right;\">    mae</th><th style=\"text-align: right;\">    rmsle</th></tr>\n",
       "</thead>\n",
       "<tbody>\n",
       "<tr><td>StackedEnsemble_AllModels_3_AutoML_2_20220414_70254   </td><td style=\"text-align: right;\">                 432.071</td><td style=\"text-align: right;\">20.7863</td><td style=\"text-align: right;\">432.071</td><td style=\"text-align: right;\">15.5187</td><td style=\"text-align: right;\">nan      </td></tr>\n",
       "<tr><td>StackedEnsemble_AllModels_6_AutoML_2_20220414_70254   </td><td style=\"text-align: right;\">                 434.678</td><td style=\"text-align: right;\">20.8489</td><td style=\"text-align: right;\">434.678</td><td style=\"text-align: right;\">15.7146</td><td style=\"text-align: right;\">nan      </td></tr>\n",
       "<tr><td>StackedEnsemble_AllModels_2_AutoML_2_20220414_70254   </td><td style=\"text-align: right;\">                 438.079</td><td style=\"text-align: right;\">20.9303</td><td style=\"text-align: right;\">438.079</td><td style=\"text-align: right;\">15.7281</td><td style=\"text-align: right;\">nan      </td></tr>\n",
       "<tr><td>StackedEnsemble_BestOfFamily_7_AutoML_2_20220414_70254</td><td style=\"text-align: right;\">                 439.945</td><td style=\"text-align: right;\">20.9749</td><td style=\"text-align: right;\">439.945</td><td style=\"text-align: right;\">15.8713</td><td style=\"text-align: right;\">nan      </td></tr>\n",
       "<tr><td>StackedEnsemble_BestOfFamily_2_AutoML_2_20220414_70254</td><td style=\"text-align: right;\">                 440.716</td><td style=\"text-align: right;\">20.9932</td><td style=\"text-align: right;\">440.716</td><td style=\"text-align: right;\">15.8581</td><td style=\"text-align: right;\">nan      </td></tr>\n",
       "<tr><td>StackedEnsemble_BestOfFamily_3_AutoML_2_20220414_70254</td><td style=\"text-align: right;\">                 441.496</td><td style=\"text-align: right;\">21.0118</td><td style=\"text-align: right;\">441.496</td><td style=\"text-align: right;\">15.8639</td><td style=\"text-align: right;\">nan      </td></tr>\n",
       "<tr><td>StackedEnsemble_AllModels_1_AutoML_2_20220414_70254   </td><td style=\"text-align: right;\">                 442.066</td><td style=\"text-align: right;\">21.0254</td><td style=\"text-align: right;\">442.066</td><td style=\"text-align: right;\">15.8523</td><td style=\"text-align: right;\">nan      </td></tr>\n",
       "<tr><td>StackedEnsemble_BestOfFamily_4_AutoML_2_20220414_70254</td><td style=\"text-align: right;\">                 444.69 </td><td style=\"text-align: right;\">21.0877</td><td style=\"text-align: right;\">444.69 </td><td style=\"text-align: right;\">15.8723</td><td style=\"text-align: right;\">nan      </td></tr>\n",
       "<tr><td>StackedEnsemble_Best1000_1_AutoML_2_20220414_70254    </td><td style=\"text-align: right;\">                 450.303</td><td style=\"text-align: right;\">21.2204</td><td style=\"text-align: right;\">450.303</td><td style=\"text-align: right;\">16.6686</td><td style=\"text-align: right;\">  1.17653</td></tr>\n",
       "<tr><td>StackedEnsemble_AllModels_5_AutoML_2_20220414_70254   </td><td style=\"text-align: right;\">                 451.125</td><td style=\"text-align: right;\">21.2397</td><td style=\"text-align: right;\">451.125</td><td style=\"text-align: right;\">15.6699</td><td style=\"text-align: right;\">  1.06377</td></tr>\n",
       "</tbody>\n",
       "</table>"
      ]
     },
     "metadata": {},
     "output_type": "display_data"
    },
    {
     "name": "stdout",
     "output_type": "stream",
     "text": [
      "\n",
      "Parse progress: |████████████████████████████████████████████████████████████████| (done) 100%\n",
      "stackedensemble prediction progress: |███████████████████████████████████████████| (done) 100%\n",
      "Train R2 score: 0.9794076165277259\n",
      "Parse progress: |████████████████████████████████████████████████████████████████| (done) 100%\n",
      "stackedensemble prediction progress: |███████████████████████████████████████████| (done) 100%\n",
      "Test R2 score: 0.6745653400096651\n",
      "prediction time cost 5.0137779712677\n",
      "now is processing dataset 7\n",
      "Parse progress: |████████████████████████████████████████████████████████████████| (done) 100%\n",
      "AutoML progress: |███████████████████████████████████████████████████████████████| (done) 100%\n",
      "training time cost: 10801.369727134705\n"
     ]
    },
    {
     "data": {
      "text/html": [
       "<table>\n",
       "<thead>\n",
       "<tr><th>model_id                                              </th><th style=\"text-align: right;\">  mean_residual_deviance</th><th style=\"text-align: right;\">    rmse</th><th style=\"text-align: right;\">     mse</th><th style=\"text-align: right;\">     mae</th><th style=\"text-align: right;\">    rmsle</th></tr>\n",
       "</thead>\n",
       "<tbody>\n",
       "<tr><td>StackedEnsemble_AllModels_5_AutoML_3_20220414_93257   </td><td style=\"text-align: right;\">                0.393085</td><td style=\"text-align: right;\">0.626965</td><td style=\"text-align: right;\">0.393085</td><td style=\"text-align: right;\">0.470565</td><td style=\"text-align: right;\">0.0697539</td></tr>\n",
       "<tr><td>StackedEnsemble_BestOfFamily_7_AutoML_3_20220414_93257</td><td style=\"text-align: right;\">                0.40039 </td><td style=\"text-align: right;\">0.632764</td><td style=\"text-align: right;\">0.40039 </td><td style=\"text-align: right;\">0.478591</td><td style=\"text-align: right;\">0.0704596</td></tr>\n",
       "<tr><td>StackedEnsemble_AllModels_3_AutoML_3_20220414_93257   </td><td style=\"text-align: right;\">                0.403248</td><td style=\"text-align: right;\">0.635018</td><td style=\"text-align: right;\">0.403248</td><td style=\"text-align: right;\">0.477382</td><td style=\"text-align: right;\">0.0707433</td></tr>\n",
       "<tr><td>StackedEnsemble_AllModels_1_AutoML_3_20220414_93257   </td><td style=\"text-align: right;\">                0.403865</td><td style=\"text-align: right;\">0.635504</td><td style=\"text-align: right;\">0.403865</td><td style=\"text-align: right;\">0.477939</td><td style=\"text-align: right;\">0.0708068</td></tr>\n",
       "<tr><td>StackedEnsemble_AllModels_2_AutoML_3_20220414_93257   </td><td style=\"text-align: right;\">                0.404276</td><td style=\"text-align: right;\">0.635827</td><td style=\"text-align: right;\">0.404276</td><td style=\"text-align: right;\">0.478131</td><td style=\"text-align: right;\">0.0708426</td></tr>\n",
       "<tr><td>StackedEnsemble_BestOfFamily_1_AutoML_3_20220414_93257</td><td style=\"text-align: right;\">                0.404649</td><td style=\"text-align: right;\">0.63612 </td><td style=\"text-align: right;\">0.404649</td><td style=\"text-align: right;\">0.478635</td><td style=\"text-align: right;\">0.0708894</td></tr>\n",
       "<tr><td>StackedEnsemble_BestOfFamily_2_AutoML_3_20220414_93257</td><td style=\"text-align: right;\">                0.405724</td><td style=\"text-align: right;\">0.636965</td><td style=\"text-align: right;\">0.405724</td><td style=\"text-align: right;\">0.479296</td><td style=\"text-align: right;\">0.0709754</td></tr>\n",
       "<tr><td>StackedEnsemble_BestOfFamily_4_AutoML_3_20220414_93257</td><td style=\"text-align: right;\">                0.405729</td><td style=\"text-align: right;\">0.636969</td><td style=\"text-align: right;\">0.405729</td><td style=\"text-align: right;\">0.480201</td><td style=\"text-align: right;\">0.0709757</td></tr>\n",
       "<tr><td>StackedEnsemble_BestOfFamily_6_AutoML_3_20220414_93257</td><td style=\"text-align: right;\">                0.406156</td><td style=\"text-align: right;\">0.637304</td><td style=\"text-align: right;\">0.406156</td><td style=\"text-align: right;\">0.480876</td><td style=\"text-align: right;\">0.070945 </td></tr>\n",
       "<tr><td>StackedEnsemble_BestOfFamily_3_AutoML_3_20220414_93257</td><td style=\"text-align: right;\">                0.408508</td><td style=\"text-align: right;\">0.639146</td><td style=\"text-align: right;\">0.408508</td><td style=\"text-align: right;\">0.482488</td><td style=\"text-align: right;\">0.0712415</td></tr>\n",
       "</tbody>\n",
       "</table>"
      ]
     },
     "metadata": {},
     "output_type": "display_data"
    },
    {
     "name": "stdout",
     "output_type": "stream",
     "text": [
      "\n",
      "Parse progress: |████████████████████████████████████████████████████████████████| (done) 100%\n",
      "stackedensemble prediction progress: |███████████████████████████████████████████| (done) 100%\n",
      "Train R2 score: 0.8779004185220038\n",
      "Parse progress: |████████████████████████████████████████████████████████████████| (done) 100%\n",
      "stackedensemble prediction progress: |███████████████████████████████████████████| (done) 100%\n",
      "Test R2 score: 0.7440634276173057\n",
      "prediction time cost 28.0816068649292\n",
      "now is processing dataset 8\n",
      "Parse progress: |████████████████████████████████████████████████████████████████| (done) 100%\n",
      "AutoML progress: |███████████████████████████████████████████████████████████████| (done) 100%\n",
      "training time cost: 10714.526232481003\n"
     ]
    },
    {
     "data": {
      "text/html": [
       "<table>\n",
       "<thead>\n",
       "<tr><th>model_id                                               </th><th style=\"text-align: right;\">  mean_residual_deviance</th><th style=\"text-align: right;\">    rmse</th><th style=\"text-align: right;\">     mse</th><th style=\"text-align: right;\">     mae</th><th style=\"text-align: right;\">    rmsle</th></tr>\n",
       "</thead>\n",
       "<tbody>\n",
       "<tr><td>StackedEnsemble_AllModels_6_AutoML_4_20220414_123340   </td><td style=\"text-align: right;\">                0.31675 </td><td style=\"text-align: right;\">0.562806</td><td style=\"text-align: right;\">0.31675 </td><td style=\"text-align: right;\">0.408622</td><td style=\"text-align: right;\">0.0786082</td></tr>\n",
       "<tr><td>StackedEnsemble_AllModels_5_AutoML_4_20220414_123340   </td><td style=\"text-align: right;\">                0.32297 </td><td style=\"text-align: right;\">0.568305</td><td style=\"text-align: right;\">0.32297 </td><td style=\"text-align: right;\">0.408612</td><td style=\"text-align: right;\">0.0791341</td></tr>\n",
       "<tr><td>StackedEnsemble_AllModels_3_AutoML_4_20220414_123340   </td><td style=\"text-align: right;\">                0.327185</td><td style=\"text-align: right;\">0.572001</td><td style=\"text-align: right;\">0.327185</td><td style=\"text-align: right;\">0.415978</td><td style=\"text-align: right;\">0.0798913</td></tr>\n",
       "<tr><td>StackedEnsemble_Best1000_1_AutoML_4_20220414_123340    </td><td style=\"text-align: right;\">                0.327273</td><td style=\"text-align: right;\">0.572078</td><td style=\"text-align: right;\">0.327273</td><td style=\"text-align: right;\">0.415941</td><td style=\"text-align: right;\">0.0798992</td></tr>\n",
       "<tr><td>StackedEnsemble_BestOfFamily_7_AutoML_4_20220414_123340</td><td style=\"text-align: right;\">                0.327968</td><td style=\"text-align: right;\">0.572685</td><td style=\"text-align: right;\">0.327968</td><td style=\"text-align: right;\">0.4208  </td><td style=\"text-align: right;\">0.0800918</td></tr>\n",
       "<tr><td>StackedEnsemble_BestOfFamily_4_AutoML_4_20220414_123340</td><td style=\"text-align: right;\">                0.329317</td><td style=\"text-align: right;\">0.573862</td><td style=\"text-align: right;\">0.329317</td><td style=\"text-align: right;\">0.419568</td><td style=\"text-align: right;\">0.0801987</td></tr>\n",
       "<tr><td>StackedEnsemble_AllModels_1_AutoML_4_20220414_123340   </td><td style=\"text-align: right;\">                0.333483</td><td style=\"text-align: right;\">0.57748 </td><td style=\"text-align: right;\">0.333483</td><td style=\"text-align: right;\">0.422718</td><td style=\"text-align: right;\">0.0806968</td></tr>\n",
       "<tr><td>StackedEnsemble_BestOfFamily_2_AutoML_4_20220414_123340</td><td style=\"text-align: right;\">                0.334054</td><td style=\"text-align: right;\">0.577974</td><td style=\"text-align: right;\">0.334054</td><td style=\"text-align: right;\">0.423476</td><td style=\"text-align: right;\">0.0807278</td></tr>\n",
       "<tr><td>StackedEnsemble_AllModels_2_AutoML_4_20220414_123340   </td><td style=\"text-align: right;\">                0.334132</td><td style=\"text-align: right;\">0.578042</td><td style=\"text-align: right;\">0.334132</td><td style=\"text-align: right;\">0.422797</td><td style=\"text-align: right;\">0.0807691</td></tr>\n",
       "<tr><td>StackedEnsemble_BestOfFamily_3_AutoML_4_20220414_123340</td><td style=\"text-align: right;\">                0.335989</td><td style=\"text-align: right;\">0.579645</td><td style=\"text-align: right;\">0.335989</td><td style=\"text-align: right;\">0.424412</td><td style=\"text-align: right;\">0.0809671</td></tr>\n",
       "</tbody>\n",
       "</table>"
      ]
     },
     "metadata": {},
     "output_type": "display_data"
    },
    {
     "name": "stdout",
     "output_type": "stream",
     "text": [
      "\n",
      "Parse progress: |████████████████████████████████████████████████████████████████| (done) 100%\n",
      "stackedensemble prediction progress: |███████████████████████████████████████████| (done) 100%\n",
      "Train R2 score: 0.9655220091858868\n",
      "Parse progress: |████████████████████████████████████████████████████████████████| (done) 100%\n",
      "stackedensemble prediction progress: |███████████████████████████████████████████| (done) 100%\n",
      "Test R2 score: 0.8140721333856284\n",
      "prediction time cost 16.94817543029785\n",
      "now is processing dataset 9\n",
      "Parse progress: |████████████████████████████████████████████████████████████████| (done) 100%\n",
      "AutoML progress: |███████████████████████████████████████████████████████████████| (done) 100%\n",
      "training time cost: 10802.025424957275\n"
     ]
    },
    {
     "data": {
      "text/html": [
       "<table>\n",
       "<thead>\n",
       "<tr><th>model_id                                               </th><th style=\"text-align: right;\">  mean_residual_deviance</th><th style=\"text-align: right;\">    rmse</th><th style=\"text-align: right;\">     mse</th><th style=\"text-align: right;\">     mae</th><th style=\"text-align: right;\">    rmsle</th></tr>\n",
       "</thead>\n",
       "<tbody>\n",
       "<tr><td>StackedEnsemble_AllModels_3_AutoML_5_20220414_153305   </td><td style=\"text-align: right;\">                0.465736</td><td style=\"text-align: right;\">0.682448</td><td style=\"text-align: right;\">0.465736</td><td style=\"text-align: right;\">0.517425</td><td style=\"text-align: right;\">0.0875518</td></tr>\n",
       "<tr><td>StackedEnsemble_AllModels_2_AutoML_5_20220414_153305   </td><td style=\"text-align: right;\">                0.466907</td><td style=\"text-align: right;\">0.683306</td><td style=\"text-align: right;\">0.466907</td><td style=\"text-align: right;\">0.518998</td><td style=\"text-align: right;\">0.0877017</td></tr>\n",
       "<tr><td>StackedEnsemble_AllModels_1_AutoML_5_20220414_153305   </td><td style=\"text-align: right;\">                0.470614</td><td style=\"text-align: right;\">0.686013</td><td style=\"text-align: right;\">0.470614</td><td style=\"text-align: right;\">0.521324</td><td style=\"text-align: right;\">0.088075 </td></tr>\n",
       "<tr><td>StackedEnsemble_BestOfFamily_2_AutoML_5_20220414_153305</td><td style=\"text-align: right;\">                0.472925</td><td style=\"text-align: right;\">0.687695</td><td style=\"text-align: right;\">0.472925</td><td style=\"text-align: right;\">0.523707</td><td style=\"text-align: right;\">0.0882558</td></tr>\n",
       "<tr><td>StackedEnsemble_BestOfFamily_1_AutoML_5_20220414_153305</td><td style=\"text-align: right;\">                0.473448</td><td style=\"text-align: right;\">0.688076</td><td style=\"text-align: right;\">0.473448</td><td style=\"text-align: right;\">0.524001</td><td style=\"text-align: right;\">0.0883099</td></tr>\n",
       "<tr><td>StackedEnsemble_BestOfFamily_3_AutoML_5_20220414_153305</td><td style=\"text-align: right;\">                0.473639</td><td style=\"text-align: right;\">0.688214</td><td style=\"text-align: right;\">0.473639</td><td style=\"text-align: right;\">0.524302</td><td style=\"text-align: right;\">0.0882401</td></tr>\n",
       "<tr><td>GBM_1_AutoML_5_20220414_153305                         </td><td style=\"text-align: right;\">                0.485454</td><td style=\"text-align: right;\">0.696745</td><td style=\"text-align: right;\">0.485454</td><td style=\"text-align: right;\">0.532419</td><td style=\"text-align: right;\">0.0894098</td></tr>\n",
       "<tr><td>StackedEnsemble_BestOfFamily_4_AutoML_5_20220414_153305</td><td style=\"text-align: right;\">                0.493433</td><td style=\"text-align: right;\">0.702448</td><td style=\"text-align: right;\">0.493433</td><td style=\"text-align: right;\">0.535207</td><td style=\"text-align: right;\">0.0898682</td></tr>\n",
       "<tr><td>XGBoost_3_AutoML_5_20220414_153305                     </td><td style=\"text-align: right;\">                0.548951</td><td style=\"text-align: right;\">0.740912</td><td style=\"text-align: right;\">0.548951</td><td style=\"text-align: right;\">0.56684 </td><td style=\"text-align: right;\">0.0953564</td></tr>\n",
       "<tr><td>GBM_2_AutoML_5_20220414_153305                         </td><td style=\"text-align: right;\">                0.566919</td><td style=\"text-align: right;\">0.75294 </td><td style=\"text-align: right;\">0.566919</td><td style=\"text-align: right;\">0.592528</td><td style=\"text-align: right;\">0.0960149</td></tr>\n",
       "</tbody>\n",
       "</table>"
      ]
     },
     "metadata": {},
     "output_type": "display_data"
    },
    {
     "name": "stdout",
     "output_type": "stream",
     "text": [
      "\n",
      "Parse progress: |████████████████████████████████████████████████████████████████| (done) 100%\n",
      "stackedensemble prediction progress: |███████████████████████████████████████████| (done) 100%\n",
      "Train R2 score: 0.9267756098430852\n",
      "Parse progress: |████████████████████████████████████████████████████████████████| (done) 100%\n",
      "stackedensemble prediction progress: |███████████████████████████████████████████| (done) 100%\n",
      "Test R2 score: 0.7945234513315509\n",
      "prediction time cost 24.908323287963867\n",
      "now is processing dataset 10\n",
      "Parse progress: |████████████████████████████████████████████████████████████████| (done) 100%\n",
      "AutoML progress: |███████████████████████████████████████████████████████████████| (done) 100%\n",
      "training time cost: 10768.209941148758\n"
     ]
    },
    {
     "data": {
      "text/html": [
       "<table>\n",
       "<thead>\n",
       "<tr><th>model_id                                               </th><th style=\"text-align: right;\">  mean_residual_deviance</th><th style=\"text-align: right;\">    rmse</th><th style=\"text-align: right;\">      mse</th><th style=\"text-align: right;\">     mae</th><th style=\"text-align: right;\">   rmsle</th></tr>\n",
       "</thead>\n",
       "<tbody>\n",
       "<tr><td>StackedEnsemble_AllModels_6_AutoML_6_20220414_183348   </td><td style=\"text-align: right;\">               0.0937642</td><td style=\"text-align: right;\">0.306209</td><td style=\"text-align: right;\">0.0937642</td><td style=\"text-align: right;\">0.226534</td><td style=\"text-align: right;\">0.239457</td></tr>\n",
       "<tr><td>StackedEnsemble_Best1000_1_AutoML_6_20220414_183348    </td><td style=\"text-align: right;\">               0.0938258</td><td style=\"text-align: right;\">0.30631 </td><td style=\"text-align: right;\">0.0938258</td><td style=\"text-align: right;\">0.226374</td><td style=\"text-align: right;\">0.239603</td></tr>\n",
       "<tr><td>StackedEnsemble_AllModels_3_AutoML_6_20220414_183348   </td><td style=\"text-align: right;\">               0.0939151</td><td style=\"text-align: right;\">0.306456</td><td style=\"text-align: right;\">0.0939151</td><td style=\"text-align: right;\">0.22653 </td><td style=\"text-align: right;\">0.239643</td></tr>\n",
       "<tr><td>StackedEnsemble_AllModels_2_AutoML_6_20220414_183348   </td><td style=\"text-align: right;\">               0.09513  </td><td style=\"text-align: right;\">0.308431</td><td style=\"text-align: right;\">0.09513  </td><td style=\"text-align: right;\">0.229899</td><td style=\"text-align: right;\">0.241646</td></tr>\n",
       "<tr><td>StackedEnsemble_AllModels_1_AutoML_6_20220414_183348   </td><td style=\"text-align: right;\">               0.095736 </td><td style=\"text-align: right;\">0.309412</td><td style=\"text-align: right;\">0.095736 </td><td style=\"text-align: right;\">0.230313</td><td style=\"text-align: right;\">0.24202 </td></tr>\n",
       "<tr><td>StackedEnsemble_AllModels_5_AutoML_6_20220414_183348   </td><td style=\"text-align: right;\">               0.0957721</td><td style=\"text-align: right;\">0.309471</td><td style=\"text-align: right;\">0.0957721</td><td style=\"text-align: right;\">0.226277</td><td style=\"text-align: right;\">0.240229</td></tr>\n",
       "<tr><td>StackedEnsemble_BestOfFamily_3_AutoML_6_20220414_183348</td><td style=\"text-align: right;\">               0.0971966</td><td style=\"text-align: right;\">0.311764</td><td style=\"text-align: right;\">0.0971966</td><td style=\"text-align: right;\">0.232937</td><td style=\"text-align: right;\">0.244373</td></tr>\n",
       "<tr><td>StackedEnsemble_BestOfFamily_7_AutoML_6_20220414_183348</td><td style=\"text-align: right;\">               0.0973254</td><td style=\"text-align: right;\">0.31197 </td><td style=\"text-align: right;\">0.0973254</td><td style=\"text-align: right;\">0.232774</td><td style=\"text-align: right;\">0.244125</td></tr>\n",
       "<tr><td>StackedEnsemble_BestOfFamily_2_AutoML_6_20220414_183348</td><td style=\"text-align: right;\">               0.0974525</td><td style=\"text-align: right;\">0.312174</td><td style=\"text-align: right;\">0.0974525</td><td style=\"text-align: right;\">0.232112</td><td style=\"text-align: right;\">0.244182</td></tr>\n",
       "<tr><td>StackedEnsemble_BestOfFamily_4_AutoML_6_20220414_183348</td><td style=\"text-align: right;\">               0.0975134</td><td style=\"text-align: right;\">0.312271</td><td style=\"text-align: right;\">0.0975134</td><td style=\"text-align: right;\">0.232394</td><td style=\"text-align: right;\">0.244295</td></tr>\n",
       "</tbody>\n",
       "</table>"
      ]
     },
     "metadata": {},
     "output_type": "display_data"
    },
    {
     "name": "stdout",
     "output_type": "stream",
     "text": [
      "\n",
      "Parse progress: |████████████████████████████████████████████████████████████████| (done) 100%\n",
      "stackedensemble prediction progress: |███████████████████████████████████████████| (done) 100%\n",
      "Train R2 score: 0.9560655135093112\n",
      "Parse progress: |████████████████████████████████████████████████████████████████| (done) 100%\n",
      "stackedensemble prediction progress: |███████████████████████████████████████████| (done) 100%\n",
      "Test R2 score: 0.6917540398522294\n",
      "prediction time cost 18.140254259109497\n",
      "now is processing dataset 11\n",
      "Parse progress: |████████████████████████████████████████████████████████████████| (done) 100%\n",
      "AutoML progress: |███████████████████████████████████████████████████████████████| (done) 100%\n",
      "training time cost: 10801.259329319\n"
     ]
    },
    {
     "data": {
      "text/html": [
       "<table>\n",
       "<thead>\n",
       "<tr><th>model_id                                               </th><th style=\"text-align: right;\">  mean_residual_deviance</th><th style=\"text-align: right;\">    rmse</th><th style=\"text-align: right;\">     mse</th><th style=\"text-align: right;\">     mae</th><th style=\"text-align: right;\">  rmsle</th></tr>\n",
       "</thead>\n",
       "<tbody>\n",
       "<tr><td>StackedEnsemble_AllModels_5_AutoML_7_20220414_213357   </td><td style=\"text-align: right;\">                0.145354</td><td style=\"text-align: right;\">0.381253</td><td style=\"text-align: right;\">0.145354</td><td style=\"text-align: right;\">0.281822</td><td style=\"text-align: right;\">    nan</td></tr>\n",
       "<tr><td>StackedEnsemble_AllModels_3_AutoML_7_20220414_213357   </td><td style=\"text-align: right;\">                0.145697</td><td style=\"text-align: right;\">0.381703</td><td style=\"text-align: right;\">0.145697</td><td style=\"text-align: right;\">0.281711</td><td style=\"text-align: right;\">    nan</td></tr>\n",
       "<tr><td>StackedEnsemble_AllModels_2_AutoML_7_20220414_213357   </td><td style=\"text-align: right;\">                0.146604</td><td style=\"text-align: right;\">0.382889</td><td style=\"text-align: right;\">0.146604</td><td style=\"text-align: right;\">0.282279</td><td style=\"text-align: right;\">    nan</td></tr>\n",
       "<tr><td>StackedEnsemble_AllModels_1_AutoML_7_20220414_213357   </td><td style=\"text-align: right;\">                0.146985</td><td style=\"text-align: right;\">0.383387</td><td style=\"text-align: right;\">0.146985</td><td style=\"text-align: right;\">0.282604</td><td style=\"text-align: right;\">    nan</td></tr>\n",
       "<tr><td>StackedEnsemble_BestOfFamily_2_AutoML_7_20220414_213357</td><td style=\"text-align: right;\">                0.148462</td><td style=\"text-align: right;\">0.385308</td><td style=\"text-align: right;\">0.148462</td><td style=\"text-align: right;\">0.284222</td><td style=\"text-align: right;\">    nan</td></tr>\n",
       "<tr><td>StackedEnsemble_BestOfFamily_3_AutoML_7_20220414_213357</td><td style=\"text-align: right;\">                0.148731</td><td style=\"text-align: right;\">0.385657</td><td style=\"text-align: right;\">0.148731</td><td style=\"text-align: right;\">0.285138</td><td style=\"text-align: right;\">    nan</td></tr>\n",
       "<tr><td>StackedEnsemble_BestOfFamily_6_AutoML_7_20220414_213357</td><td style=\"text-align: right;\">                0.148922</td><td style=\"text-align: right;\">0.385904</td><td style=\"text-align: right;\">0.148922</td><td style=\"text-align: right;\">0.285357</td><td style=\"text-align: right;\">    nan</td></tr>\n",
       "<tr><td>StackedEnsemble_BestOfFamily_1_AutoML_7_20220414_213357</td><td style=\"text-align: right;\">                0.148955</td><td style=\"text-align: right;\">0.385947</td><td style=\"text-align: right;\">0.148955</td><td style=\"text-align: right;\">0.284549</td><td style=\"text-align: right;\">    nan</td></tr>\n",
       "<tr><td>StackedEnsemble_BestOfFamily_5_AutoML_7_20220414_213357</td><td style=\"text-align: right;\">                0.15197 </td><td style=\"text-align: right;\">0.389833</td><td style=\"text-align: right;\">0.15197 </td><td style=\"text-align: right;\">0.290339</td><td style=\"text-align: right;\">    nan</td></tr>\n",
       "<tr><td>GBM_1_AutoML_7_20220414_213357                         </td><td style=\"text-align: right;\">                0.157142</td><td style=\"text-align: right;\">0.396411</td><td style=\"text-align: right;\">0.157142</td><td style=\"text-align: right;\">0.294506</td><td style=\"text-align: right;\">    nan</td></tr>\n",
       "</tbody>\n",
       "</table>"
      ]
     },
     "metadata": {},
     "output_type": "display_data"
    },
    {
     "name": "stdout",
     "output_type": "stream",
     "text": [
      "\n",
      "Parse progress: |████████████████████████████████████████████████████████████████| (done) 100%\n",
      "stackedensemble prediction progress: |███████████████████████████████████████████| (done) 100%\n",
      "Train R2 score: 0.9387665068777332\n",
      "Parse progress: |████████████████████████████████████████████████████████████████| (done) 100%\n",
      "stackedensemble prediction progress: |███████████████████████████████████████████| (done) 100%\n",
      "Test R2 score: 0.7541078353437852\n",
      "prediction time cost 24.90511989593506\n",
      "now is processing dataset 12\n",
      "Parse progress: |████████████████████████████████████████████████████████████████| (done) 100%\n",
      "AutoML progress: |███████████████████████████████████████████████████████████████| (done) 100%\n",
      "training time cost: 10784.775527715683\n"
     ]
    },
    {
     "data": {
      "text/html": [
       "<table>\n",
       "<thead>\n",
       "<tr><th>model_id                                              </th><th style=\"text-align: right;\">  mean_residual_deviance</th><th style=\"text-align: right;\">    rmse</th><th style=\"text-align: right;\">     mse</th><th style=\"text-align: right;\">     mae</th><th style=\"text-align: right;\">  rmsle</th></tr>\n",
       "</thead>\n",
       "<tbody>\n",
       "<tr><td>StackedEnsemble_Best1000_1_AutoML_8_20220415_03441    </td><td style=\"text-align: right;\">                0.166532</td><td style=\"text-align: right;\">0.408084</td><td style=\"text-align: right;\">0.166532</td><td style=\"text-align: right;\">0.298783</td><td style=\"text-align: right;\">    nan</td></tr>\n",
       "<tr><td>StackedEnsemble_AllModels_6_AutoML_8_20220415_03441   </td><td style=\"text-align: right;\">                0.166671</td><td style=\"text-align: right;\">0.408253</td><td style=\"text-align: right;\">0.166671</td><td style=\"text-align: right;\">0.299747</td><td style=\"text-align: right;\">    nan</td></tr>\n",
       "<tr><td>StackedEnsemble_AllModels_3_AutoML_8_20220415_03441   </td><td style=\"text-align: right;\">                0.166713</td><td style=\"text-align: right;\">0.408305</td><td style=\"text-align: right;\">0.166713</td><td style=\"text-align: right;\">0.298845</td><td style=\"text-align: right;\">    nan</td></tr>\n",
       "<tr><td>StackedEnsemble_AllModels_1_AutoML_8_20220415_03441   </td><td style=\"text-align: right;\">                0.167343</td><td style=\"text-align: right;\">0.409076</td><td style=\"text-align: right;\">0.167343</td><td style=\"text-align: right;\">0.30036 </td><td style=\"text-align: right;\">    nan</td></tr>\n",
       "<tr><td>StackedEnsemble_AllModels_2_AutoML_8_20220415_03441   </td><td style=\"text-align: right;\">                0.167576</td><td style=\"text-align: right;\">0.40936 </td><td style=\"text-align: right;\">0.167576</td><td style=\"text-align: right;\">0.300593</td><td style=\"text-align: right;\">    nan</td></tr>\n",
       "<tr><td>StackedEnsemble_BestOfFamily_4_AutoML_8_20220415_03441</td><td style=\"text-align: right;\">                0.168223</td><td style=\"text-align: right;\">0.41015 </td><td style=\"text-align: right;\">0.168223</td><td style=\"text-align: right;\">0.30124 </td><td style=\"text-align: right;\">    nan</td></tr>\n",
       "<tr><td>StackedEnsemble_AllModels_5_AutoML_8_20220415_03441   </td><td style=\"text-align: right;\">                0.168276</td><td style=\"text-align: right;\">0.410214</td><td style=\"text-align: right;\">0.168276</td><td style=\"text-align: right;\">0.301476</td><td style=\"text-align: right;\">    nan</td></tr>\n",
       "<tr><td>StackedEnsemble_BestOfFamily_7_AutoML_8_20220415_03441</td><td style=\"text-align: right;\">                0.168904</td><td style=\"text-align: right;\">0.41098 </td><td style=\"text-align: right;\">0.168904</td><td style=\"text-align: right;\">0.302751</td><td style=\"text-align: right;\">    nan</td></tr>\n",
       "<tr><td>StackedEnsemble_BestOfFamily_2_AutoML_8_20220415_03441</td><td style=\"text-align: right;\">                0.168987</td><td style=\"text-align: right;\">0.41108 </td><td style=\"text-align: right;\">0.168987</td><td style=\"text-align: right;\">0.302421</td><td style=\"text-align: right;\">    nan</td></tr>\n",
       "<tr><td>StackedEnsemble_BestOfFamily_3_AutoML_8_20220415_03441</td><td style=\"text-align: right;\">                0.170375</td><td style=\"text-align: right;\">0.412765</td><td style=\"text-align: right;\">0.170375</td><td style=\"text-align: right;\">0.304262</td><td style=\"text-align: right;\">    nan</td></tr>\n",
       "</tbody>\n",
       "</table>"
      ]
     },
     "metadata": {},
     "output_type": "display_data"
    },
    {
     "name": "stdout",
     "output_type": "stream",
     "text": [
      "\n",
      "Parse progress: |████████████████████████████████████████████████████████████████| (done) 100%\n",
      "stackedensemble prediction progress: |███████████████████████████████████████████| (done) 100%\n",
      "Train R2 score: 0.8969535784047189\n",
      "Parse progress: |████████████████████████████████████████████████████████████████| (done) 100%\n",
      "stackedensemble prediction progress: |███████████████████████████████████████████| (done) 100%\n",
      "Test R2 score: 0.5280032494119464\n",
      "prediction time cost 20.61082434654236\n",
      "now is processing dataset 13\n",
      "Parse progress: |████████████████████████████████████████████████████████████████| (done) 100%\n",
      "AutoML progress: |███████████████████████████████████████████████████████████████| (done) 100%\n",
      "training time cost: 10742.083377122879\n"
     ]
    },
    {
     "data": {
      "text/html": [
       "<table>\n",
       "<thead>\n",
       "<tr><th>model_id                                              </th><th style=\"text-align: right;\">  mean_residual_deviance</th><th style=\"text-align: right;\">    rmse</th><th style=\"text-align: right;\">     mse</th><th style=\"text-align: right;\">     mae</th><th style=\"text-align: right;\">  rmsle</th></tr>\n",
       "</thead>\n",
       "<tbody>\n",
       "<tr><td>StackedEnsemble_AllModels_3_AutoML_9_20220415_33500   </td><td style=\"text-align: right;\">                0.112112</td><td style=\"text-align: right;\">0.334831</td><td style=\"text-align: right;\">0.112112</td><td style=\"text-align: right;\">0.249792</td><td style=\"text-align: right;\">    nan</td></tr>\n",
       "<tr><td>StackedEnsemble_AllModels_6_AutoML_9_20220415_33500   </td><td style=\"text-align: right;\">                0.112163</td><td style=\"text-align: right;\">0.334907</td><td style=\"text-align: right;\">0.112163</td><td style=\"text-align: right;\">0.250387</td><td style=\"text-align: right;\">    nan</td></tr>\n",
       "<tr><td>StackedEnsemble_Best1000_1_AutoML_9_20220415_33500    </td><td style=\"text-align: right;\">                0.112206</td><td style=\"text-align: right;\">0.334972</td><td style=\"text-align: right;\">0.112206</td><td style=\"text-align: right;\">0.250243</td><td style=\"text-align: right;\">    nan</td></tr>\n",
       "<tr><td>StackedEnsemble_BestOfFamily_7_AutoML_9_20220415_33500</td><td style=\"text-align: right;\">                0.113805</td><td style=\"text-align: right;\">0.33735 </td><td style=\"text-align: right;\">0.113805</td><td style=\"text-align: right;\">0.253807</td><td style=\"text-align: right;\">    nan</td></tr>\n",
       "<tr><td>StackedEnsemble_BestOfFamily_4_AutoML_9_20220415_33500</td><td style=\"text-align: right;\">                0.113965</td><td style=\"text-align: right;\">0.337588</td><td style=\"text-align: right;\">0.113965</td><td style=\"text-align: right;\">0.253869</td><td style=\"text-align: right;\">    nan</td></tr>\n",
       "<tr><td>StackedEnsemble_AllModels_2_AutoML_9_20220415_33500   </td><td style=\"text-align: right;\">                0.114654</td><td style=\"text-align: right;\">0.338606</td><td style=\"text-align: right;\">0.114654</td><td style=\"text-align: right;\">0.25427 </td><td style=\"text-align: right;\">    nan</td></tr>\n",
       "<tr><td>StackedEnsemble_AllModels_1_AutoML_9_20220415_33500   </td><td style=\"text-align: right;\">                0.115203</td><td style=\"text-align: right;\">0.339415</td><td style=\"text-align: right;\">0.115203</td><td style=\"text-align: right;\">0.254818</td><td style=\"text-align: right;\">    nan</td></tr>\n",
       "<tr><td>StackedEnsemble_BestOfFamily_2_AutoML_9_20220415_33500</td><td style=\"text-align: right;\">                0.115222</td><td style=\"text-align: right;\">0.339444</td><td style=\"text-align: right;\">0.115222</td><td style=\"text-align: right;\">0.254396</td><td style=\"text-align: right;\">    nan</td></tr>\n",
       "<tr><td>StackedEnsemble_BestOfFamily_3_AutoML_9_20220415_33500</td><td style=\"text-align: right;\">                0.11558 </td><td style=\"text-align: right;\">0.339971</td><td style=\"text-align: right;\">0.11558 </td><td style=\"text-align: right;\">0.255243</td><td style=\"text-align: right;\">    nan</td></tr>\n",
       "<tr><td>StackedEnsemble_AllModels_5_AutoML_9_20220415_33500   </td><td style=\"text-align: right;\">                0.115589</td><td style=\"text-align: right;\">0.339984</td><td style=\"text-align: right;\">0.115589</td><td style=\"text-align: right;\">0.254053</td><td style=\"text-align: right;\">    nan</td></tr>\n",
       "</tbody>\n",
       "</table>"
      ]
     },
     "metadata": {},
     "output_type": "display_data"
    },
    {
     "name": "stdout",
     "output_type": "stream",
     "text": [
      "\n",
      "Parse progress: |████████████████████████████████████████████████████████████████| (done) 100%\n",
      "stackedensemble prediction progress: |███████████████████████████████████████████| (done) 100%\n",
      "Train R2 score: 0.9439266788279845\n",
      "Parse progress: |████████████████████████████████████████████████████████████████| (done) 100%\n",
      "stackedensemble prediction progress: |███████████████████████████████████████████| (done) 100%\n",
      "Test R2 score: 0.46311902264248284\n",
      "prediction time cost 18.165236711502075\n",
      "now is processing dataset 14\n",
      "Parse progress: |████████████████████████████████████████████████████████████████| (done) 100%\n",
      "AutoML progress: |██████████████████████████████████████████████████████████████| (done) 100%\n",
      "training time cost: 10764.776508331299\n"
     ]
    },
    {
     "data": {
      "text/html": [
       "<table>\n",
       "<thead>\n",
       "<tr><th>model_id                                               </th><th style=\"text-align: right;\">  mean_residual_deviance</th><th style=\"text-align: right;\">    rmse</th><th style=\"text-align: right;\">     mse</th><th style=\"text-align: right;\">     mae</th><th style=\"text-align: right;\">   rmsle</th></tr>\n",
       "</thead>\n",
       "<tbody>\n",
       "<tr><td>StackedEnsemble_AllModels_6_AutoML_10_20220415_63435   </td><td style=\"text-align: right;\">                0.677045</td><td style=\"text-align: right;\">0.822828</td><td style=\"text-align: right;\">0.677045</td><td style=\"text-align: right;\">0.603312</td><td style=\"text-align: right;\">0.117271</td></tr>\n",
       "<tr><td>StackedEnsemble_AllModels_5_AutoML_10_20220415_63435   </td><td style=\"text-align: right;\">                0.687565</td><td style=\"text-align: right;\">0.829195</td><td style=\"text-align: right;\">0.687565</td><td style=\"text-align: right;\">0.605153</td><td style=\"text-align: right;\">0.117184</td></tr>\n",
       "<tr><td>StackedEnsemble_Best1000_1_AutoML_10_20220415_63435    </td><td style=\"text-align: right;\">                0.687586</td><td style=\"text-align: right;\">0.829208</td><td style=\"text-align: right;\">0.687586</td><td style=\"text-align: right;\">0.607822</td><td style=\"text-align: right;\">0.118033</td></tr>\n",
       "<tr><td>StackedEnsemble_AllModels_3_AutoML_10_20220415_63435   </td><td style=\"text-align: right;\">                0.687618</td><td style=\"text-align: right;\">0.829227</td><td style=\"text-align: right;\">0.687618</td><td style=\"text-align: right;\">0.607824</td><td style=\"text-align: right;\">0.118028</td></tr>\n",
       "<tr><td>StackedEnsemble_BestOfFamily_4_AutoML_10_20220415_63435</td><td style=\"text-align: right;\">                0.701444</td><td style=\"text-align: right;\">0.837523</td><td style=\"text-align: right;\">0.701444</td><td style=\"text-align: right;\">0.617218</td><td style=\"text-align: right;\">0.119428</td></tr>\n",
       "<tr><td>StackedEnsemble_BestOfFamily_7_AutoML_10_20220415_63435</td><td style=\"text-align: right;\">                0.703043</td><td style=\"text-align: right;\">0.838477</td><td style=\"text-align: right;\">0.703043</td><td style=\"text-align: right;\">0.618485</td><td style=\"text-align: right;\">0.119594</td></tr>\n",
       "<tr><td>StackedEnsemble_AllModels_2_AutoML_10_20220415_63435   </td><td style=\"text-align: right;\">                0.703308</td><td style=\"text-align: right;\">0.838635</td><td style=\"text-align: right;\">0.703308</td><td style=\"text-align: right;\">0.618473</td><td style=\"text-align: right;\">0.119805</td></tr>\n",
       "<tr><td>StackedEnsemble_AllModels_1_AutoML_10_20220415_63435   </td><td style=\"text-align: right;\">                0.704572</td><td style=\"text-align: right;\">0.839388</td><td style=\"text-align: right;\">0.704572</td><td style=\"text-align: right;\">0.620749</td><td style=\"text-align: right;\">0.119893</td></tr>\n",
       "<tr><td>StackedEnsemble_BestOfFamily_2_AutoML_10_20220415_63435</td><td style=\"text-align: right;\">                0.71266 </td><td style=\"text-align: right;\">0.844192</td><td style=\"text-align: right;\">0.71266 </td><td style=\"text-align: right;\">0.627963</td><td style=\"text-align: right;\">0.120609</td></tr>\n",
       "<tr><td>StackedEnsemble_BestOfFamily_3_AutoML_10_20220415_63435</td><td style=\"text-align: right;\">                0.714079</td><td style=\"text-align: right;\">0.845032</td><td style=\"text-align: right;\">0.714079</td><td style=\"text-align: right;\">0.625952</td><td style=\"text-align: right;\">0.120901</td></tr>\n",
       "</tbody>\n",
       "</table>"
      ]
     },
     "metadata": {},
     "output_type": "display_data"
    },
    {
     "name": "stdout",
     "output_type": "stream",
     "text": [
      "\n",
      "Parse progress: |████████████████████████████████████████████████████████████████| (done) 100%\n",
      "stackedensemble prediction progress: |███████████████████████████████████████████| (done) 100%\n",
      "Train R2 score: 0.9716114818185428\n",
      "Parse progress: |████████████████████████████████████████████████████████████████| (done) 100%\n",
      "stackedensemble prediction progress: |███████████████████████████████████████████| (done) 100%\n",
      "Test R2 score: 0.8276266179095901\n",
      "prediction time cost 17.88947319984436\n",
      "now is processing dataset 15\n"
     ]
    }
   ],
   "source": [
    "h2o.init()\n",
    "for i in range(6,16):\n",
    "    x_path = 'dataset/QSAR_{}_train_x.csv'.format(i)\n",
    "    y_path = 'dataset/QSAR_{}_train_y.csv'.format(i)\n",
    "    compute(x_path, y_path)\n",
    "    print(\"now is processing dataset %s\" % i)"
   ]
  },
  {
   "cell_type": "code",
   "execution_count": null,
   "metadata": {
    "scrolled": true
   },
   "outputs": [],
   "source": []
  }
 ],
 "metadata": {
  "kernelspec": {
   "display_name": "Python 3 (ipykernel)",
   "language": "python",
   "name": "python3"
  },
  "language_info": {
   "codemirror_mode": {
    "name": "ipython",
    "version": 3
   },
   "file_extension": ".py",
   "mimetype": "text/x-python",
   "name": "python",
   "nbconvert_exporter": "python",
   "pygments_lexer": "ipython3",
   "version": "3.8.0"
  }
 },
 "nbformat": 4,
 "nbformat_minor": 2
}
