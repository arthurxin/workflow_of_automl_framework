{
 "cells": [
  {
   "cell_type": "code",
   "execution_count": 1,
   "id": "6a1a338a",
   "metadata": {
    "collapsed": true
   },
   "outputs": [],
   "source": [
    "import pandas as pd\n",
    "import numpy as np\n",
    "import sklearn.metrics\n",
    "import sklearn.model_selection\n",
    "import time"
   ]
  },
  {
   "cell_type": "code",
   "execution_count": 2,
   "id": "85cc8c77",
   "metadata": {
    "collapsed": true
   },
   "outputs": [],
   "source": [
    "import autosklearn.regression"
   ]
  },
  {
   "cell_type": "code",
   "execution_count": 3,
   "id": "b0516dc5",
   "metadata": {
    "collapsed": true
   },
   "outputs": [],
   "source": [
    "def compute(x_path, y_path):\n",
    "    X = pd.read_csv(x_path)\n",
    "    y = pd.read_csv(y_path)\n",
    "    X_train, X_test, y_train, y_test = sklearn.model_selection.train_test_split(X, y, test_size=0.2, random_state=7)\n",
    "    del X,y\n",
    "    \n",
    "    t0 = time.time()\n",
    "    \n",
    "    reg = autosklearn.regression.AutoSklearnRegressor(\n",
    "        time_left_for_this_task=3600,\n",
    "        per_run_time_limit=600,\n",
    "        n_jobs=4,\n",
    "        memory_limit=20*1024,\n",
    "        tmp_folder='/home/hx152/tmp/autosklearn_regression_example_tmp',\n",
    "        metric=autosklearn.metrics.r2)\n",
    "    reg.fit(X_train, y_train, dataset_name='QSAR')\n",
    "    \n",
    "    t1 = time.time()\n",
    "    print(\"training time cost:\",t1-t0)\n",
    "    \n",
    "    print(reg.leaderboard())\n",
    "    train_predictions = reg.predict(X_train)\n",
    "    print(\"Train R2 score:\", sklearn.metrics.r2_score(y_train, train_predictions))\n",
    "    test_predictions = reg.predict(X_test)\n",
    "    print(\"Test R2 score:\", sklearn.metrics.r2_score(y_test, test_predictions))\n",
    "    \n",
    "    t2 = time.time()\n",
    "    print(\"prediction time cost\",t2-t1)"
   ]
  },
  {
   "cell_type": "code",
   "execution_count": 4,
   "id": "86a543a4",
   "metadata": {},
   "outputs": [
    {
     "name": "stderr",
     "output_type": "stream",
     "text": [
      "/home/hx152/.conda/envs/merck/lib/python3.8/site-packages/autosklearn/metalearning/metalearning/meta_base.py:68: FutureWarning: The frame.append method is deprecated and will be removed from pandas in a future version. Use pandas.concat instead.\n",
      "  self.metafeatures = self.metafeatures.append(metafeatures)\n",
      "/home/hx152/.conda/envs/merck/lib/python3.8/site-packages/autosklearn/metalearning/metalearning/meta_base.py:72: FutureWarning: The frame.append method is deprecated and will be removed from pandas in a future version. Use pandas.concat instead.\n",
      "  self.algorithm_runs[metric].append(runs)\n"
     ]
    },
    {
     "name": "stdout",
     "output_type": "stream",
     "text": [
      "training time cost: 3613.8050198554993\n",
      "          rank  ensemble_weight                 type      cost   duration\n",
      "model_id                                                                 \n",
      "58           1             0.28             adaboost  0.354750  32.168534\n",
      "65           2             0.26             adaboost  0.364440  25.757483\n",
      "60           3             0.28    gradient_boosting  0.365418  47.283773\n",
      "41           4             0.16  k_nearest_neighbors  0.517231  30.667390\n",
      "5            5             0.02        liblinear_svr  0.595085   2.335446\n",
      "Train R2 score: 0.8832606440518818\n",
      "Test R2 score: 0.684722650094119\n",
      "prediction time cost 5.638550519943237\n",
      "now is processing dataset 7\n"
     ]
    },
    {
     "name": "stderr",
     "output_type": "stream",
     "text": [
      "/home/hx152/.conda/envs/merck/lib/python3.8/site-packages/autosklearn/metalearning/metalearning/meta_base.py:68: FutureWarning: The frame.append method is deprecated and will be removed from pandas in a future version. Use pandas.concat instead.\n",
      "  self.metafeatures = self.metafeatures.append(metafeatures)\n",
      "/home/hx152/.conda/envs/merck/lib/python3.8/site-packages/autosklearn/metalearning/metalearning/meta_base.py:72: FutureWarning: The frame.append method is deprecated and will be removed from pandas in a future version. Use pandas.concat instead.\n",
      "  self.algorithm_runs[metric].append(runs)\n"
     ]
    },
    {
     "name": "stdout",
     "output_type": "stream",
     "text": [
      "training time cost: 3605.4713022708893\n",
      "          rank  ensemble_weight               type      cost    duration\n",
      "model_id                                                                \n",
      "23           1             0.36  gradient_boosting  0.294415  177.666881\n",
      "4            2             0.14        extra_trees  0.304654  269.145688\n",
      "53           3             0.30  gradient_boosting  0.310390   91.759521\n",
      "35           4             0.02        extra_trees  0.324099  412.624947\n",
      "24           5             0.10     ard_regression  0.367319  264.470663\n",
      "29           6             0.04      liblinear_svr  0.380746    6.352851\n",
      "44           7             0.04                mlp  0.444543   51.684170\n",
      "Train R2 score: 0.8419925984391813\n",
      "Test R2 score: 0.7243848773357868\n",
      "prediction time cost 21.759733200073242\n",
      "now is processing dataset 8\n"
     ]
    },
    {
     "name": "stderr",
     "output_type": "stream",
     "text": [
      "/home/hx152/.conda/envs/merck/lib/python3.8/site-packages/autosklearn/metalearning/metalearning/meta_base.py:68: FutureWarning: The frame.append method is deprecated and will be removed from pandas in a future version. Use pandas.concat instead.\n",
      "  self.metafeatures = self.metafeatures.append(metafeatures)\n",
      "/home/hx152/.conda/envs/merck/lib/python3.8/site-packages/autosklearn/metalearning/metalearning/meta_base.py:72: FutureWarning: The frame.append method is deprecated and will be removed from pandas in a future version. Use pandas.concat instead.\n",
      "  self.algorithm_runs[metric].append(runs)\n"
     ]
    },
    {
     "name": "stdout",
     "output_type": "stream",
     "text": [
      "Train R2 score: 0.8964501658551156\n",
      "Test R2 score: 0.7772597400015809\n",
      "prediction time cost 97.62283945083618\n",
      "now is processing dataset 9\n"
     ]
    },
    {
     "name": "stderr",
     "output_type": "stream",
     "text": [
      "/home/hx152/.conda/envs/merck/lib/python3.8/site-packages/autosklearn/metalearning/metalearning/meta_base.py:68: FutureWarning: The frame.append method is deprecated and will be removed from pandas in a future version. Use pandas.concat instead.\n",
      "  self.metafeatures = self.metafeatures.append(metafeatures)\n",
      "/home/hx152/.conda/envs/merck/lib/python3.8/site-packages/autosklearn/metalearning/metalearning/meta_base.py:72: FutureWarning: The frame.append method is deprecated and will be removed from pandas in a future version. Use pandas.concat instead.\n",
      "  self.algorithm_runs[metric].append(runs)\n"
     ]
    },
    {
     "name": "stdout",
     "output_type": "stream",
     "text": [
      "training time cost: 3607.1713376045227\n",
      "          rank  ensemble_weight               type      cost    duration\n",
      "model_id                                                                \n",
      "34           1             0.62  gradient_boosting  0.231520  135.136688\n",
      "4            2             0.26        extra_trees  0.252542  256.616417\n",
      "7            3             0.02      liblinear_svr  0.356987   12.662319\n",
      "38           4             0.10      liblinear_svr  0.359553   61.270005\n",
      "Train R2 score: 0.8740513450031653\n",
      "Test R2 score: 0.7709115373604967\n",
      "prediction time cost 30.03468370437622\n",
      "now is processing dataset 10\n"
     ]
    },
    {
     "name": "stderr",
     "output_type": "stream",
     "text": [
      "/home/hx152/.conda/envs/merck/lib/python3.8/site-packages/autosklearn/metalearning/metalearning/meta_base.py:68: FutureWarning: The frame.append method is deprecated and will be removed from pandas in a future version. Use pandas.concat instead.\n",
      "  self.metafeatures = self.metafeatures.append(metafeatures)\n",
      "/home/hx152/.conda/envs/merck/lib/python3.8/site-packages/autosklearn/metalearning/metalearning/meta_base.py:72: FutureWarning: The frame.append method is deprecated and will be removed from pandas in a future version. Use pandas.concat instead.\n",
      "  self.algorithm_runs[metric].append(runs)\n"
     ]
    },
    {
     "name": "stdout",
     "output_type": "stream",
     "text": [
      "training time cost: 3597.4502370357513\n",
      "          rank  ensemble_weight                 type      cost    duration\n",
      "model_id                                                                  \n",
      "59           1             0.48    gradient_boosting  0.358914  221.231918\n",
      "15           2             0.14    gradient_boosting  0.371364  117.704353\n",
      "50           3             0.02          extra_trees  0.393629  153.969325\n",
      "77           4             0.04       ard_regression  0.442883   23.855717\n",
      "7            5             0.12        liblinear_svr  0.484106    7.166655\n",
      "73           6             0.02        liblinear_svr  0.489556   77.980924\n",
      "63           7             0.06                  mlp  0.582936   20.817856\n",
      "35           8             0.08       ard_regression  0.590654   44.269489\n",
      "60           9             0.04  k_nearest_neighbors  0.622522  309.655712\n",
      "Train R2 score: 0.8325214390887545\n",
      "Test R2 score: 0.6456185117107031\n",
      "prediction time cost 51.28995084762573\n",
      "now is processing dataset 11\n"
     ]
    },
    {
     "name": "stderr",
     "output_type": "stream",
     "text": [
      "/home/hx152/.conda/envs/merck/lib/python3.8/site-packages/autosklearn/metalearning/metalearning/meta_base.py:68: FutureWarning: The frame.append method is deprecated and will be removed from pandas in a future version. Use pandas.concat instead.\n",
      "  self.metafeatures = self.metafeatures.append(metafeatures)\n",
      "/home/hx152/.conda/envs/merck/lib/python3.8/site-packages/autosklearn/metalearning/metalearning/meta_base.py:72: FutureWarning: The frame.append method is deprecated and will be removed from pandas in a future version. Use pandas.concat instead.\n",
      "  self.algorithm_runs[metric].append(runs)\n"
     ]
    },
    {
     "name": "stdout",
     "output_type": "stream",
     "text": [
      "training time cost: 3607.793043613434\n",
      "          rank  ensemble_weight               type      cost    duration\n",
      "model_id                                                                \n",
      "18           1             0.30  gradient_boosting  0.312323  139.189399\n",
      "58           2             0.26                mlp  0.342685   45.395288\n",
      "24           3             0.14     ard_regression  0.358574  130.187661\n",
      "7            4             0.04      liblinear_svr  0.383494    9.707822\n",
      "52           5             0.06                mlp  0.422698  161.091348\n",
      "56           6             0.02                mlp  0.431151  130.838092\n",
      "62           7             0.08                mlp  0.506914  139.337537\n",
      "46           8             0.04                mlp  0.566672  105.365150\n",
      "40           9             0.02      liblinear_svr  0.735631  319.140934\n",
      "41          10             0.04      liblinear_svr  0.875455  410.332393\n",
      "Train R2 score: 0.8768344653321177\n",
      "Test R2 score: 0.7396137847971496\n",
      "prediction time cost 27.303794145584106\n",
      "now is processing dataset 12\n"
     ]
    },
    {
     "name": "stderr",
     "output_type": "stream",
     "text": [
      "/home/hx152/.conda/envs/merck/lib/python3.8/site-packages/autosklearn/metalearning/metalearning/meta_base.py:68: FutureWarning: The frame.append method is deprecated and will be removed from pandas in a future version. Use pandas.concat instead.\n",
      "  self.metafeatures = self.metafeatures.append(metafeatures)\n",
      "/home/hx152/.conda/envs/merck/lib/python3.8/site-packages/autosklearn/metalearning/metalearning/meta_base.py:72: FutureWarning: The frame.append method is deprecated and will be removed from pandas in a future version. Use pandas.concat instead.\n",
      "  self.algorithm_runs[metric].append(runs)\n"
     ]
    },
    {
     "name": "stdout",
     "output_type": "stream",
     "text": [
      "training time cost: 3607.30238366127\n",
      "          rank  ensemble_weight               type      cost    duration\n",
      "model_id                                                                \n",
      "49           1             0.46        extra_trees  0.448538  327.731198\n",
      "46           2             0.06  gradient_boosting  0.475338  232.672350\n",
      "22           3             0.02  gradient_boosting  0.487001  137.230012\n",
      "60           4             0.26                mlp  0.520918   51.124135\n",
      "21           5             0.02     ard_regression  0.577180  115.447556\n",
      "31           6             0.12                mlp  0.605588  122.482851\n",
      "43           7             0.06                mlp  0.642139   79.933470\n",
      "Train R2 score: 0.8192378715586294\n",
      "Test R2 score: 0.49988472735438005\n",
      "prediction time cost 30.205313205718994\n",
      "now is processing dataset 13\n"
     ]
    },
    {
     "name": "stderr",
     "output_type": "stream",
     "text": [
      "/home/hx152/.conda/envs/merck/lib/python3.8/site-packages/autosklearn/metalearning/metalearning/meta_base.py:68: FutureWarning: The frame.append method is deprecated and will be removed from pandas in a future version. Use pandas.concat instead.\n",
      "  self.metafeatures = self.metafeatures.append(metafeatures)\n",
      "/home/hx152/.conda/envs/merck/lib/python3.8/site-packages/autosklearn/metalearning/metalearning/meta_base.py:72: FutureWarning: The frame.append method is deprecated and will be removed from pandas in a future version. Use pandas.concat instead.\n",
      "  self.algorithm_runs[metric].append(runs)\n"
     ]
    },
    {
     "name": "stdout",
     "output_type": "stream",
     "text": [
      "[WARNING] [2022-04-05 04:45:19,258:Client-EnsembleBuilder] No models better than random - using Dummy loss!Number of models besides current dummy model: 1. Number of dummy models: 1\n",
      "[WARNING] [2022-04-05 04:45:24,364:Client-EnsembleBuilder] No models better than random - using Dummy loss!Number of models besides current dummy model: 1. Number of dummy models: 1\n",
      "training time cost: 3610.669638156891\n",
      "          rank  ensemble_weight                 type      cost    duration\n",
      "model_id                                                                  \n",
      "2            1             0.44        random_forest  0.530401  506.313231\n",
      "50           2             0.04             adaboost  0.552283  148.109532\n",
      "39           3             0.10          extra_trees  0.563049  151.289491\n",
      "18           4             0.08    gradient_boosting  0.568639  129.225305\n",
      "63           5             0.12    gradient_boosting  0.571451   56.762853\n",
      "74           6             0.18                  mlp  0.656213   43.074644\n",
      "47           7             0.04  k_nearest_neighbors  0.793071   90.231580\n",
      "Train R2 score: 0.7765726474100745\n",
      "Test R2 score: 0.4420485381593512\n",
      "prediction time cost 128.9028844833374\n",
      "now is processing dataset 14\n"
     ]
    },
    {
     "name": "stderr",
     "output_type": "stream",
     "text": [
      "/home/hx152/.conda/envs/merck/lib/python3.8/site-packages/autosklearn/metalearning/metalearning/meta_base.py:68: FutureWarning: The frame.append method is deprecated and will be removed from pandas in a future version. Use pandas.concat instead.\n",
      "  self.metafeatures = self.metafeatures.append(metafeatures)\n",
      "/home/hx152/.conda/envs/merck/lib/python3.8/site-packages/autosklearn/metalearning/metalearning/meta_base.py:72: FutureWarning: The frame.append method is deprecated and will be removed from pandas in a future version. Use pandas.concat instead.\n",
      "  self.algorithm_runs[metric].append(runs)\n"
     ]
    },
    {
     "name": "stdout",
     "output_type": "stream",
     "text": [
      "training time cost: 3610.009008407593\n",
      "          rank  ensemble_weight                 type      cost    duration\n",
      "model_id                                                                  \n",
      "19           1             0.32    gradient_boosting  0.190197  118.084250\n",
      "70           2             0.36          extra_trees  0.191257  270.998414\n",
      "20           3             0.10       ard_regression  0.253183  241.323148\n",
      "34           4             0.04                  mlp  0.282238  101.103994\n",
      "37           5             0.14        liblinear_svr  0.320455   13.766447\n",
      "72           6             0.04  k_nearest_neighbors  0.374726  104.010592\n",
      "Train R2 score: 0.9220798404547729\n",
      "Test R2 score: 0.8057530600038161\n",
      "prediction time cost 115.54414653778076\n",
      "now is processing dataset 15\n"
     ]
    }
   ],
   "source": [
    "for i in range(7,16):\n",
    "    x_path = 'dataset/QSAR_{}_train_x.csv'.format(i)\n",
    "    y_path = 'dataset/QSAR_{}_train_y.csv'.format(i)\n",
    "    compute(x_path, y_path)\n",
    "    print(\"now is processing dataset %s\" % i)"
   ]
  },
  {
   "cell_type": "code",
   "execution_count": null,
   "id": "fa53a9e2",
   "metadata": {
    "collapsed": true
   },
   "outputs": [],
   "source": []
  }
 ],
 "metadata": {
  "kernelspec": {
   "display_name": "Python 3 (ipykernel)",
   "language": "python",
   "name": "python3"
  },
  "language_info": {
   "codemirror_mode": {
    "name": "ipython",
    "version": 3
   },
   "file_extension": ".py",
   "mimetype": "text/x-python",
   "name": "python",
   "nbconvert_exporter": "python",
   "pygments_lexer": "ipython3",
   "version": "3.8.0"
  }
 },
 "nbformat": 4,
 "nbformat_minor": 5
}
