{
 "cells": [
  {
   "cell_type": "code",
   "execution_count": 1,
   "metadata": {
    "scrolled": true
   },
   "outputs": [],
   "source": [
    "import pandas as pd\n",
    "import numpy as np\n",
    "import sklearn.metrics\n",
    "import sklearn.model_selection\n",
    "import time"
   ]
  },
  {
   "cell_type": "code",
   "execution_count": 2,
   "metadata": {
    "scrolled": true
   },
   "outputs": [],
   "source": [
    "import h2o\n",
    "from h2o.automl import H2OAutoML"
   ]
  },
  {
   "cell_type": "code",
   "execution_count": 3,
   "metadata": {
    "scrolled": true
   },
   "outputs": [],
   "source": [
    "def compute(x_path, y_path,comp_time):\n",
    "    X = pd.read_csv(x_path)\n",
    "    y = pd.read_csv(y_path)\n",
    "    X_train, X_test, y_train, y_test = sklearn.model_selection.train_test_split(X, y, test_size=0.2, random_state=7)\n",
    "    del X,y\n",
    "    df_train = pd.concat([X_train, y_train], axis=1)\n",
    "    \n",
    "    hf_train = h2o.H2OFrame(df_train)\n",
    "    \n",
    "    t0 = time.time()\n",
    "    \n",
    "    x_names = hf_train.columns\n",
    "    y_names = \"y\"\n",
    "    x_names.remove(y_names)\n",
    "    \n",
    "    aml = H2OAutoML(max_runtime_secs=comp_time, exclude_algos=['DeepLearning'], seed = 1, verbosity=\"NULL\")\n",
    "    aml.train(x=x_names, y=y_names, training_frame=hf_train)\n",
    "    \n",
    "    t1 = time.time()\n",
    "    print(\"training time cost:\",t1-t0)\n",
    "    \n",
    "    # View the AutoML Leaderboard\n",
    "    lb = aml.leaderboard\n",
    "    print(lb.head(10))  # Print all rows instead of default \n",
    "    \n",
    "    train_predictions = aml.predict(h2o.H2OFrame(X_train))\n",
    "    train_predictions = h2o.as_list(train_predictions)\n",
    "    print(\"Train R2 score:\", sklearn.metrics.r2_score(y_train, train_predictions))\n",
    "    test_predictions = aml.predict(h2o.H2OFrame(X_test))\n",
    "    test_predictions = h2o.as_list(test_predictions)\n",
    "    print(\"Test R2 score:\", sklearn.metrics.r2_score(y_test, test_predictions))\n",
    "        \n",
    "    t2 = time.time()\n",
    "    print(\"prediction time cost\",t2-t1)\n",
    "    m = aml.get_best_model()\n",
    "    print(pd.DataFrame(m.metalearner().coef_norm(),index=[\"r2\"]).T.sort_values('r2',ascending = False))"
   ]
  },
  {
   "cell_type": "code",
   "execution_count": 4,
   "metadata": {
    "scrolled": false
   },
   "outputs": [
    {
     "name": "stdout",
     "output_type": "stream",
     "text": [
      "Checking whether there is an H2O instance running at http://localhost:54321 ..... not found.\n",
      "Attempting to start a local H2O server...\n",
      "  Java Version: openjdk version \"1.8.0_152-release\"; OpenJDK Runtime Environment (build 1.8.0_152-release-1056-b12); OpenJDK 64-Bit Server VM (build 25.152-b12, mixed mode)\n",
      "  Starting server from /cache/home/hx152/.conda/envs/merck/lib/python3.8/site-packages/h2o/backend/bin/h2o.jar\n",
      "  Ice root: /tmp/tmpro12r4p3\n",
      "  JVM stdout: /tmp/tmpro12r4p3/h2o_hx152_started_from_python.out\n",
      "  JVM stderr: /tmp/tmpro12r4p3/h2o_hx152_started_from_python.err\n",
      "  Server is running at http://127.0.0.1:54321\n",
      "Connecting to H2O server at http://127.0.0.1:54321 ... successful.\n"
     ]
    },
    {
     "data": {
      "text/html": [
       "<div style=\"overflow:auto\"><table style=\"width:50%\"><tr><td>H2O_cluster_uptime:</td>\n",
       "<td>01 secs</td></tr>\n",
       "<tr><td>H2O_cluster_timezone:</td>\n",
       "<td>America/New_York</td></tr>\n",
       "<tr><td>H2O_data_parsing_timezone:</td>\n",
       "<td>UTC</td></tr>\n",
       "<tr><td>H2O_cluster_version:</td>\n",
       "<td>3.36.0.3</td></tr>\n",
       "<tr><td>H2O_cluster_version_age:</td>\n",
       "<td>1 month and 25 days </td></tr>\n",
       "<tr><td>H2O_cluster_name:</td>\n",
       "<td>H2O_from_python_hx152_nta59b</td></tr>\n",
       "<tr><td>H2O_cluster_total_nodes:</td>\n",
       "<td>1</td></tr>\n",
       "<tr><td>H2O_cluster_free_memory:</td>\n",
       "<td>26.67 Gb</td></tr>\n",
       "<tr><td>H2O_cluster_total_cores:</td>\n",
       "<td>4</td></tr>\n",
       "<tr><td>H2O_cluster_allowed_cores:</td>\n",
       "<td>4</td></tr>\n",
       "<tr><td>H2O_cluster_status:</td>\n",
       "<td>locked, healthy</td></tr>\n",
       "<tr><td>H2O_connection_url:</td>\n",
       "<td>http://127.0.0.1:54321</td></tr>\n",
       "<tr><td>H2O_connection_proxy:</td>\n",
       "<td>{\"http\": null, \"https\": null}</td></tr>\n",
       "<tr><td>H2O_internal_security:</td>\n",
       "<td>False</td></tr>\n",
       "<tr><td>Python_version:</td>\n",
       "<td>3.8.0 final</td></tr></table></div>"
      ],
      "text/plain": [
       "--------------------------  -----------------------------\n",
       "H2O_cluster_uptime:         01 secs\n",
       "H2O_cluster_timezone:       America/New_York\n",
       "H2O_data_parsing_timezone:  UTC\n",
       "H2O_cluster_version:        3.36.0.3\n",
       "H2O_cluster_version_age:    1 month and 25 days\n",
       "H2O_cluster_name:           H2O_from_python_hx152_nta59b\n",
       "H2O_cluster_total_nodes:    1\n",
       "H2O_cluster_free_memory:    26.67 Gb\n",
       "H2O_cluster_total_cores:    4\n",
       "H2O_cluster_allowed_cores:  4\n",
       "H2O_cluster_status:         locked, healthy\n",
       "H2O_connection_url:         http://127.0.0.1:54321\n",
       "H2O_connection_proxy:       {\"http\": null, \"https\": null}\n",
       "H2O_internal_security:      False\n",
       "Python_version:             3.8.0 final\n",
       "--------------------------  -----------------------------"
      ]
     },
     "metadata": {},
     "output_type": "display_data"
    },
    {
     "name": "stdout",
     "output_type": "stream",
     "text": [
      "Parse progress: |████████████████████████████████████████████████████████████████| (done) 100%\n",
      "AutoML progress: |███████████████████████████████████████████████████████████████| (done) 100%\n",
      "training time cost: 10742.749240636826\n"
     ]
    },
    {
     "data": {
      "text/html": [
       "<table>\n",
       "<thead>\n",
       "<tr><th>model_id                                               </th><th style=\"text-align: right;\">  mean_residual_deviance</th><th style=\"text-align: right;\">    rmse</th><th style=\"text-align: right;\">     mse</th><th style=\"text-align: right;\">     mae</th><th style=\"text-align: right;\">  rmsle</th></tr>\n",
       "</thead>\n",
       "<tbody>\n",
       "<tr><td>StackedEnsemble_AllModels_3_AutoML_1_20220410_210949   </td><td style=\"text-align: right;\">                0.166124</td><td style=\"text-align: right;\">0.407583</td><td style=\"text-align: right;\">0.166124</td><td style=\"text-align: right;\">0.298773</td><td style=\"text-align: right;\">    nan</td></tr>\n",
       "<tr><td>StackedEnsemble_Best1000_1_AutoML_1_20220410_210949    </td><td style=\"text-align: right;\">                0.16626 </td><td style=\"text-align: right;\">0.407749</td><td style=\"text-align: right;\">0.16626 </td><td style=\"text-align: right;\">0.29868 </td><td style=\"text-align: right;\">    nan</td></tr>\n",
       "<tr><td>StackedEnsemble_AllModels_6_AutoML_1_20220410_210949   </td><td style=\"text-align: right;\">                0.16671 </td><td style=\"text-align: right;\">0.408301</td><td style=\"text-align: right;\">0.16671 </td><td style=\"text-align: right;\">0.300023</td><td style=\"text-align: right;\">    nan</td></tr>\n",
       "<tr><td>StackedEnsemble_AllModels_1_AutoML_1_20220410_210949   </td><td style=\"text-align: right;\">                0.167335</td><td style=\"text-align: right;\">0.409066</td><td style=\"text-align: right;\">0.167335</td><td style=\"text-align: right;\">0.300364</td><td style=\"text-align: right;\">    nan</td></tr>\n",
       "<tr><td>StackedEnsemble_AllModels_5_AutoML_1_20220410_210949   </td><td style=\"text-align: right;\">                0.167431</td><td style=\"text-align: right;\">0.409183</td><td style=\"text-align: right;\">0.167431</td><td style=\"text-align: right;\">0.300288</td><td style=\"text-align: right;\">    nan</td></tr>\n",
       "<tr><td>StackedEnsemble_AllModels_2_AutoML_1_20220410_210949   </td><td style=\"text-align: right;\">                0.167565</td><td style=\"text-align: right;\">0.409346</td><td style=\"text-align: right;\">0.167565</td><td style=\"text-align: right;\">0.30058 </td><td style=\"text-align: right;\">    nan</td></tr>\n",
       "<tr><td>StackedEnsemble_BestOfFamily_4_AutoML_1_20220410_210949</td><td style=\"text-align: right;\">                0.168105</td><td style=\"text-align: right;\">0.410006</td><td style=\"text-align: right;\">0.168105</td><td style=\"text-align: right;\">0.300976</td><td style=\"text-align: right;\">    nan</td></tr>\n",
       "<tr><td>StackedEnsemble_BestOfFamily_7_AutoML_1_20220410_210949</td><td style=\"text-align: right;\">                0.168917</td><td style=\"text-align: right;\">0.410995</td><td style=\"text-align: right;\">0.168917</td><td style=\"text-align: right;\">0.302735</td><td style=\"text-align: right;\">    nan</td></tr>\n",
       "<tr><td>StackedEnsemble_BestOfFamily_2_AutoML_1_20220410_210949</td><td style=\"text-align: right;\">                0.168998</td><td style=\"text-align: right;\">0.411094</td><td style=\"text-align: right;\">0.168998</td><td style=\"text-align: right;\">0.302269</td><td style=\"text-align: right;\">    nan</td></tr>\n",
       "<tr><td>StackedEnsemble_BestOfFamily_3_AutoML_1_20220410_210949</td><td style=\"text-align: right;\">                0.170305</td><td style=\"text-align: right;\">0.41268 </td><td style=\"text-align: right;\">0.170305</td><td style=\"text-align: right;\">0.304046</td><td style=\"text-align: right;\">    nan</td></tr>\n",
       "</tbody>\n",
       "</table>"
      ]
     },
     "metadata": {},
     "output_type": "display_data"
    },
    {
     "name": "stdout",
     "output_type": "stream",
     "text": [
      "\n",
      "Parse progress: |████████████████████████████████████████████████████████████████| (done) 100%\n",
      "stackedensemble prediction progress: |███████████████████████████████████████████| (done) 100%\n",
      "Train R2 score: 0.9049888291045766\n",
      "Parse progress: |████████████████████████████████████████████████████████████████| (done) 100%\n",
      "stackedensemble prediction progress: |███████████████████████████████████████████| (done) 100%\n",
      "Test R2 score: 0.5259253959149157\n",
      "prediction time cost 23.944796562194824\n",
      "                                                        r2\n",
      "Intercept                                         1.254492\n",
      "XGBoost_grid_1_AutoML_1_20220410_210949_model_33  0.067387\n",
      "GBM_1_AutoML_1_20220410_210949                    0.053011\n",
      "GBM_4_AutoML_1_20220410_210949                    0.038710\n",
      "XGBoost_grid_1_AutoML_1_20220410_210949_model_30  0.037455\n",
      "...                                                    ...\n",
      "XGBoost_grid_1_AutoML_1_20220410_210949_model_18  0.000000\n",
      "XGBoost_grid_1_AutoML_1_20220410_210949_model_37  0.000000\n",
      "XGBoost_grid_1_AutoML_1_20220410_210949_model_23  0.000000\n",
      "XGBoost_grid_1_AutoML_1_20220410_210949_model_32  0.000000\n",
      "GBM_grid_1_AutoML_1_20220410_210949_model_5       0.000000\n",
      "\n",
      "[62 rows x 1 columns]\n",
      "now is processing dataset 13\n",
      "Parse progress: |████████████████████████████████████████████████████████████████| (done) 100%\n",
      "AutoML progress: |███████████████████████████████████████████████████████████████| (done) 100%\n",
      "training time cost: 21170.17543888092\n"
     ]
    },
    {
     "data": {
      "text/html": [
       "<table>\n",
       "<thead>\n",
       "<tr><th>model_id                                                               </th><th style=\"text-align: right;\">  mean_residual_deviance</th><th style=\"text-align: right;\">    rmse</th><th style=\"text-align: right;\">     mse</th><th style=\"text-align: right;\">     mae</th><th style=\"text-align: right;\">  rmsle</th></tr>\n",
       "</thead>\n",
       "<tbody>\n",
       "<tr><td>StackedEnsemble_Best1000_1_AutoML_2_20220411_00934                     </td><td style=\"text-align: right;\">                0.16553 </td><td style=\"text-align: right;\">0.406854</td><td style=\"text-align: right;\">0.16553 </td><td style=\"text-align: right;\">0.297511</td><td style=\"text-align: right;\">    nan</td></tr>\n",
       "<tr><td>StackedEnsemble_AllModels_3_AutoML_2_20220411_00934                    </td><td style=\"text-align: right;\">                0.165729</td><td style=\"text-align: right;\">0.407098</td><td style=\"text-align: right;\">0.165729</td><td style=\"text-align: right;\">0.297954</td><td style=\"text-align: right;\">    nan</td></tr>\n",
       "<tr><td>StackedEnsemble_AllModels_6_AutoML_2_20220411_00934                    </td><td style=\"text-align: right;\">                0.166221</td><td style=\"text-align: right;\">0.407703</td><td style=\"text-align: right;\">0.166221</td><td style=\"text-align: right;\">0.299195</td><td style=\"text-align: right;\">    nan</td></tr>\n",
       "<tr><td>StackedEnsemble_BestOfFamily_7_AutoML_2_20220411_00934                 </td><td style=\"text-align: right;\">                0.166556</td><td style=\"text-align: right;\">0.408113</td><td style=\"text-align: right;\">0.166556</td><td style=\"text-align: right;\">0.299638</td><td style=\"text-align: right;\">    nan</td></tr>\n",
       "<tr><td>StackedEnsemble_AllModels_5_AutoML_2_20220411_00934                    </td><td style=\"text-align: right;\">                0.166749</td><td style=\"text-align: right;\">0.408349</td><td style=\"text-align: right;\">0.166749</td><td style=\"text-align: right;\">0.299735</td><td style=\"text-align: right;\">    nan</td></tr>\n",
       "<tr><td>StackedEnsemble_AllModels_1_AutoML_2_20220411_00934                    </td><td style=\"text-align: right;\">                0.167296</td><td style=\"text-align: right;\">0.409018</td><td style=\"text-align: right;\">0.167296</td><td style=\"text-align: right;\">0.30014 </td><td style=\"text-align: right;\">    nan</td></tr>\n",
       "<tr><td>StackedEnsemble_AllModels_2_AutoML_2_20220411_00934                    </td><td style=\"text-align: right;\">                0.167461</td><td style=\"text-align: right;\">0.40922 </td><td style=\"text-align: right;\">0.167461</td><td style=\"text-align: right;\">0.300267</td><td style=\"text-align: right;\">    nan</td></tr>\n",
       "<tr><td>StackedEnsemble_BestOfFamily_4_AutoML_2_20220411_00934                 </td><td style=\"text-align: right;\">                0.167965</td><td style=\"text-align: right;\">0.409835</td><td style=\"text-align: right;\">0.167965</td><td style=\"text-align: right;\">0.300788</td><td style=\"text-align: right;\">    nan</td></tr>\n",
       "<tr><td>StackedEnsemble_BestOfFamily_2_AutoML_2_20220411_00934                 </td><td style=\"text-align: right;\">                0.168924</td><td style=\"text-align: right;\">0.411004</td><td style=\"text-align: right;\">0.168924</td><td style=\"text-align: right;\">0.301892</td><td style=\"text-align: right;\">    nan</td></tr>\n",
       "<tr><td>XGBoost_lr_search_selection_AutoML_2_20220411_00934_select_grid_model_3</td><td style=\"text-align: right;\">                0.169675</td><td style=\"text-align: right;\">0.411916</td><td style=\"text-align: right;\">0.169675</td><td style=\"text-align: right;\">0.301486</td><td style=\"text-align: right;\">    nan</td></tr>\n",
       "</tbody>\n",
       "</table>"
      ]
     },
     "metadata": {},
     "output_type": "display_data"
    },
    {
     "name": "stdout",
     "output_type": "stream",
     "text": [
      "\n",
      "Parse progress: |████████████████████████████████████████████████████████████████| (done) 100%\n",
      "stackedensemble prediction progress: |███████████████████████████████████████████| (done) 100%\n",
      "Train R2 score: 0.9060190485760684\n",
      "Parse progress: |████████████████████████████████████████████████████████████████| (done) 100%\n",
      "stackedensemble prediction progress: |███████████████████████████████████████████| (done) 100%\n",
      "Test R2 score: 0.5270938212902574\n",
      "prediction time cost 18.316401958465576\n",
      "                                                       r2\n",
      "Intercept                                        1.254492\n",
      "GBM_grid_1_AutoML_2_20220411_00934_model_1       0.074207\n",
      "GBM_grid_1_AutoML_2_20220411_00934_model_4       0.064777\n",
      "XGBoost_grid_1_AutoML_2_20220411_00934_model_33  0.051096\n",
      "GBM_grid_1_AutoML_2_20220411_00934_model_10      0.047966\n",
      "...                                                   ...\n",
      "XGBoost_grid_1_AutoML_2_20220411_00934_model_16  0.000000\n",
      "XGBoost_grid_1_AutoML_2_20220411_00934_model_29  0.000000\n",
      "GBM_grid_1_AutoML_2_20220411_00934_model_13      0.000000\n",
      "XGBoost_grid_1_AutoML_2_20220411_00934_model_41  0.000000\n",
      "GBM_grid_1_AutoML_2_20220411_00934_model_15      0.000000\n",
      "\n",
      "[88 rows x 1 columns]\n",
      "now is processing dataset 13\n"
     ]
    }
   ],
   "source": [
    "h2o.init()\n",
    "i = 13\n",
    "for comp_time in [10800, 21600]:\n",
    "    x_path = 'dataset/QSAR_{}_train_x.csv'.format(i)\n",
    "    y_path = 'dataset/QSAR_{}_train_y.csv'.format(i)\n",
    "    compute(x_path, y_path, comp_time)\n",
    "    print(\"now is processing dataset %s\" % i)"
   ]
  },
  {
   "cell_type": "code",
   "execution_count": null,
   "metadata": {},
   "outputs": [],
   "source": []
  }
 ],
 "metadata": {
  "kernelspec": {
   "display_name": "Python 3 (ipykernel)",
   "language": "python",
   "name": "python3"
  },
  "language_info": {
   "codemirror_mode": {
    "name": "ipython",
    "version": 3
   },
   "file_extension": ".py",
   "mimetype": "text/x-python",
   "name": "python",
   "nbconvert_exporter": "python",
   "pygments_lexer": "ipython3",
   "version": "3.8.0"
  }
 },
 "nbformat": 4,
 "nbformat_minor": 2
}
