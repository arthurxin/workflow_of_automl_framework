{
 "cells": [
  {
   "cell_type": "code",
   "execution_count": 1,
   "metadata": {
    "scrolled": true
   },
   "outputs": [],
   "source": [
    "import pandas as pd\n",
    "import numpy as np\n",
    "import sklearn.metrics\n",
    "import sklearn.model_selection\n",
    "import time"
   ]
  },
  {
   "cell_type": "code",
   "execution_count": 2,
   "metadata": {
    "scrolled": true
   },
   "outputs": [],
   "source": [
    "import h2o\n",
    "from h2o.automl import H2OAutoML"
   ]
  },
  {
   "cell_type": "code",
   "execution_count": 3,
   "metadata": {
    "scrolled": true
   },
   "outputs": [],
   "source": [
    "def compute(x_path, y_path):\n",
    "    X = pd.read_csv(x_path)\n",
    "    y = pd.read_csv(y_path)\n",
    "    X_train, X_test, y_train, y_test = sklearn.model_selection.train_test_split(X, y, test_size=0.2, random_state=7)\n",
    "    df_train = pd.concat([X_train, y_train], axis=1)\n",
    "    \n",
    "    hf_train = h2o.H2OFrame(df_train)\n",
    "    \n",
    "    t0 = time.time()\n",
    "    \n",
    "    x_names = hf_train.columns\n",
    "    y_names = \"y\"\n",
    "    x_names.remove(y_names)\n",
    "    \n",
    "    aml = H2OAutoML(max_runtime_secs=3600, exclude_algos=['DeepLearning'], seed = 1, verbosity=\"NULL\")\n",
    "    aml.train(x=x_names, y=y_names, training_frame=hf_train)\n",
    "    \n",
    "    t1 = time.time()\n",
    "    print(\"training time cost:\",t1-t0)\n",
    "    \n",
    "    # View the AutoML Leaderboard\n",
    "    lb = aml.leaderboard\n",
    "    print(lb.head(10))  # Print all rows instead of default \n",
    "    \n",
    "    train_predictions = aml.predict(h2o.H2OFrame(X_train))\n",
    "    train_predictions = h2o.as_list(train_predictions)\n",
    "    print(\"Train R2 score:\", sklearn.metrics.r2_score(y_train, train_predictions))\n",
    "    test_predictions = aml.predict(h2o.H2OFrame(X_test))\n",
    "    test_predictions = h2o.as_list(test_predictions)\n",
    "    print(\"Test R2 score:\", sklearn.metrics.r2_score(y_test, test_predictions))\n",
    "        \n",
    "    t2 = time.time()\n",
    "    print(\"prediction time cost\",t2-t1)"
   ]
  },
  {
   "cell_type": "code",
   "execution_count": 4,
   "metadata": {
    "scrolled": false
   },
   "outputs": [
    {
     "name": "stdout",
     "output_type": "stream",
     "text": [
      "Checking whether there is an H2O instance running at http://localhost:54321 ..... not found.\n",
      "Attempting to start a local H2O server...\n",
      "  Java Version: openjdk version \"1.8.0_152-release\"; OpenJDK Runtime Environment (build 1.8.0_152-release-1056-b12); OpenJDK 64-Bit Server VM (build 25.152-b12, mixed mode)\n",
      "  Starting server from /cache/home/hx152/.conda/envs/merck/lib/python3.8/site-packages/h2o/backend/bin/h2o.jar\n",
      "  Ice root: /tmp/tmpblt3086p\n",
      "  JVM stdout: /tmp/tmpblt3086p/h2o_hx152_started_from_python.out\n",
      "  JVM stderr: /tmp/tmpblt3086p/h2o_hx152_started_from_python.err\n",
      "  Server is running at http://127.0.0.1:54321\n",
      "Connecting to H2O server at http://127.0.0.1:54321 ... successful.\n"
     ]
    },
    {
     "data": {
      "text/html": [
       "<div style=\"overflow:auto\"><table style=\"width:50%\"><tr><td>H2O_cluster_uptime:</td>\n",
       "<td>02 secs</td></tr>\n",
       "<tr><td>H2O_cluster_timezone:</td>\n",
       "<td>America/New_York</td></tr>\n",
       "<tr><td>H2O_data_parsing_timezone:</td>\n",
       "<td>UTC</td></tr>\n",
       "<tr><td>H2O_cluster_version:</td>\n",
       "<td>3.36.0.3</td></tr>\n",
       "<tr><td>H2O_cluster_version_age:</td>\n",
       "<td>1 month and 18 days </td></tr>\n",
       "<tr><td>H2O_cluster_name:</td>\n",
       "<td>H2O_from_python_hx152_hlpetp</td></tr>\n",
       "<tr><td>H2O_cluster_total_nodes:</td>\n",
       "<td>1</td></tr>\n",
       "<tr><td>H2O_cluster_free_memory:</td>\n",
       "<td>26.67 Gb</td></tr>\n",
       "<tr><td>H2O_cluster_total_cores:</td>\n",
       "<td>4</td></tr>\n",
       "<tr><td>H2O_cluster_allowed_cores:</td>\n",
       "<td>4</td></tr>\n",
       "<tr><td>H2O_cluster_status:</td>\n",
       "<td>locked, healthy</td></tr>\n",
       "<tr><td>H2O_connection_url:</td>\n",
       "<td>http://127.0.0.1:54321</td></tr>\n",
       "<tr><td>H2O_connection_proxy:</td>\n",
       "<td>{\"http\": null, \"https\": null}</td></tr>\n",
       "<tr><td>H2O_internal_security:</td>\n",
       "<td>False</td></tr>\n",
       "<tr><td>Python_version:</td>\n",
       "<td>3.8.0 final</td></tr></table></div>"
      ],
      "text/plain": [
       "--------------------------  -----------------------------\n",
       "H2O_cluster_uptime:         02 secs\n",
       "H2O_cluster_timezone:       America/New_York\n",
       "H2O_data_parsing_timezone:  UTC\n",
       "H2O_cluster_version:        3.36.0.3\n",
       "H2O_cluster_version_age:    1 month and 18 days\n",
       "H2O_cluster_name:           H2O_from_python_hx152_hlpetp\n",
       "H2O_cluster_total_nodes:    1\n",
       "H2O_cluster_free_memory:    26.67 Gb\n",
       "H2O_cluster_total_cores:    4\n",
       "H2O_cluster_allowed_cores:  4\n",
       "H2O_cluster_status:         locked, healthy\n",
       "H2O_connection_url:         http://127.0.0.1:54321\n",
       "H2O_connection_proxy:       {\"http\": null, \"https\": null}\n",
       "H2O_internal_security:      False\n",
       "Python_version:             3.8.0 final\n",
       "--------------------------  -----------------------------"
      ]
     },
     "metadata": {},
     "output_type": "display_data"
    },
    {
     "name": "stdout",
     "output_type": "stream",
     "text": [
      "Parse progress: |████████████████████████████████████████████████████████████████| (done) 100%\n",
      "AutoML progress: |███████████████████████████████████████████████████████████████| (done) 100%\n",
      "training time cost: 3690.768126964569\n"
     ]
    },
    {
     "data": {
      "text/html": [
       "<table>\n",
       "<thead>\n",
       "<tr><th>model_id                                               </th><th style=\"text-align: right;\">  mean_residual_deviance</th><th style=\"text-align: right;\">    rmse</th><th style=\"text-align: right;\">     mse</th><th style=\"text-align: right;\">     mae</th><th style=\"text-align: right;\">    rmsle</th></tr>\n",
       "</thead>\n",
       "<tbody>\n",
       "<tr><td>StackedEnsemble_BestOfFamily_1_AutoML_1_20220404_154554</td><td style=\"text-align: right;\">                0.146281</td><td style=\"text-align: right;\">0.382468</td><td style=\"text-align: right;\">0.146281</td><td style=\"text-align: right;\">0.255104</td><td style=\"text-align: right;\">0.0625907</td></tr>\n",
       "<tr><td>XGBoost_1_AutoML_1_20220404_154554                     </td><td style=\"text-align: right;\">                0.158078</td><td style=\"text-align: right;\">0.39759 </td><td style=\"text-align: right;\">0.158078</td><td style=\"text-align: right;\">0.26719 </td><td style=\"text-align: right;\">0.0656924</td></tr>\n",
       "<tr><td>XGBoost_2_AutoML_1_20220404_154554                     </td><td style=\"text-align: right;\">                0.166407</td><td style=\"text-align: right;\">0.40793 </td><td style=\"text-align: right;\">0.166407</td><td style=\"text-align: right;\">0.271902</td><td style=\"text-align: right;\">0.066857 </td></tr>\n",
       "<tr><td>GBM_1_AutoML_1_20220404_154554                         </td><td style=\"text-align: right;\">                0.177977</td><td style=\"text-align: right;\">0.421873</td><td style=\"text-align: right;\">0.177977</td><td style=\"text-align: right;\">0.297736</td><td style=\"text-align: right;\">0.0682742</td></tr>\n",
       "<tr><td>GLM_1_AutoML_1_20220404_154554                         </td><td style=\"text-align: right;\">                0.196758</td><td style=\"text-align: right;\">0.443574</td><td style=\"text-align: right;\">0.196758</td><td style=\"text-align: right;\">0.318758</td><td style=\"text-align: right;\">0.0725829</td></tr>\n",
       "<tr><td>DRF_1_AutoML_1_20220404_154554                         </td><td style=\"text-align: right;\">                0.283379</td><td style=\"text-align: right;\">0.532334</td><td style=\"text-align: right;\">0.283379</td><td style=\"text-align: right;\">0.323424</td><td style=\"text-align: right;\">0.086251 </td></tr>\n",
       "</tbody>\n",
       "</table>"
      ]
     },
     "metadata": {},
     "output_type": "display_data"
    },
    {
     "name": "stdout",
     "output_type": "stream",
     "text": [
      "\n",
      "Parse progress: |████████████████████████████████████████████████████████████████| (done) 100%\n",
      "stackedensemble prediction progress: |███████████████████████████████████████████| (done) 100%\n",
      "Train R2 score: 0.7957965165877603\n",
      "Parse progress: |████████████████████████████████████████████████████████████████| (done) 100%\n",
      "stackedensemble prediction progress: |███████████████████████████████████████████| (done) 100%\n",
      "Test R2 score: 0.6360537542553706\n",
      "prediction time cost 155.84638738632202\n",
      "now is processing dataset 1\n",
      "Parse progress: |████████████████████████████████████████████████████████████████| (done) 100%\n",
      "AutoML progress: |██████████████████████████████████████████████████████████████| (done) 100%\n",
      "training time cost: 3621.067451238632\n"
     ]
    },
    {
     "data": {
      "text/html": [
       "<table>\n",
       "<thead>\n",
       "<tr><th>model_id                                               </th><th style=\"text-align: right;\">  mean_residual_deviance</th><th style=\"text-align: right;\">    rmse</th><th style=\"text-align: right;\">     mse</th><th style=\"text-align: right;\">     mae</th><th style=\"text-align: right;\">    rmsle</th></tr>\n",
       "</thead>\n",
       "<tbody>\n",
       "<tr><td>StackedEnsemble_BestOfFamily_4_AutoML_2_20220404_165030</td><td style=\"text-align: right;\">                0.412457</td><td style=\"text-align: right;\">0.642228</td><td style=\"text-align: right;\">0.412457</td><td style=\"text-align: right;\">0.494459</td><td style=\"text-align: right;\">0.0789583</td></tr>\n",
       "<tr><td>StackedEnsemble_AllModels_3_AutoML_2_20220404_165030   </td><td style=\"text-align: right;\">                0.413604</td><td style=\"text-align: right;\">0.64312 </td><td style=\"text-align: right;\">0.413604</td><td style=\"text-align: right;\">0.489996</td><td style=\"text-align: right;\">0.0788672</td></tr>\n",
       "<tr><td>StackedEnsemble_AllModels_5_AutoML_2_20220404_165030   </td><td style=\"text-align: right;\">                0.421549</td><td style=\"text-align: right;\">0.649268</td><td style=\"text-align: right;\">0.421549</td><td style=\"text-align: right;\">0.498575</td><td style=\"text-align: right;\">0.079622 </td></tr>\n",
       "<tr><td>StackedEnsemble_AllModels_2_AutoML_2_20220404_165030   </td><td style=\"text-align: right;\">                0.424385</td><td style=\"text-align: right;\">0.651448</td><td style=\"text-align: right;\">0.424385</td><td style=\"text-align: right;\">0.500983</td><td style=\"text-align: right;\">0.0798372</td></tr>\n",
       "<tr><td>StackedEnsemble_AllModels_1_AutoML_2_20220404_165030   </td><td style=\"text-align: right;\">                0.424669</td><td style=\"text-align: right;\">0.651666</td><td style=\"text-align: right;\">0.424669</td><td style=\"text-align: right;\">0.500734</td><td style=\"text-align: right;\">0.0798446</td></tr>\n",
       "<tr><td>StackedEnsemble_BestOfFamily_2_AutoML_2_20220404_165030</td><td style=\"text-align: right;\">                0.426404</td><td style=\"text-align: right;\">0.652996</td><td style=\"text-align: right;\">0.426404</td><td style=\"text-align: right;\">0.504913</td><td style=\"text-align: right;\">0.0799298</td></tr>\n",
       "<tr><td>StackedEnsemble_BestOfFamily_3_AutoML_2_20220404_165030</td><td style=\"text-align: right;\">                0.427751</td><td style=\"text-align: right;\">0.654027</td><td style=\"text-align: right;\">0.427751</td><td style=\"text-align: right;\">0.509224</td><td style=\"text-align: right;\">0.0803287</td></tr>\n",
       "<tr><td>GBM_5_AutoML_2_20220404_165030                         </td><td style=\"text-align: right;\">                0.438082</td><td style=\"text-align: right;\">0.661877</td><td style=\"text-align: right;\">0.438082</td><td style=\"text-align: right;\">0.523423</td><td style=\"text-align: right;\">0.0815964</td></tr>\n",
       "<tr><td>GBM_4_AutoML_2_20220404_165030                         </td><td style=\"text-align: right;\">                0.440429</td><td style=\"text-align: right;\">0.663648</td><td style=\"text-align: right;\">0.440429</td><td style=\"text-align: right;\">0.513154</td><td style=\"text-align: right;\">0.0812746</td></tr>\n",
       "<tr><td>StackedEnsemble_BestOfFamily_1_AutoML_2_20220404_165030</td><td style=\"text-align: right;\">                0.44073 </td><td style=\"text-align: right;\">0.663875</td><td style=\"text-align: right;\">0.44073 </td><td style=\"text-align: right;\">0.50577 </td><td style=\"text-align: right;\">0.0814884</td></tr>\n",
       "</tbody>\n",
       "</table>"
      ]
     },
     "metadata": {},
     "output_type": "display_data"
    },
    {
     "name": "stdout",
     "output_type": "stream",
     "text": [
      "\n",
      "Parse progress: |████████████████████████████████████████████████████████████████| (done) 100%\n",
      "stackedensemble prediction progress: |███████████████████████████████████████████| (done) 100%\n",
      "Train R2 score: 0.8238415953732946\n",
      "Parse progress: |████████████████████████████████████████████████████████████████| (done) 100%\n",
      "stackedensemble prediction progress: |███████████████████████████████████████████| (done) 100%\n",
      "Test R2 score: 0.6794989635714717\n",
      "prediction time cost 24.153743743896484\n",
      "now is processing dataset 2\n",
      "Parse progress: |████████████████████████████████████████████████████████████████| (done) 100%\n",
      "AutoML progress: |███████████████████████████████████████████████████████████████| (done) 100%\n",
      "training time cost: 3607.15318441391\n"
     ]
    },
    {
     "data": {
      "text/html": [
       "<table>\n",
       "<thead>\n",
       "<tr><th>model_id                                               </th><th style=\"text-align: right;\">  mean_residual_deviance</th><th style=\"text-align: right;\">    rmse</th><th style=\"text-align: right;\">     mse</th><th style=\"text-align: right;\">     mae</th><th style=\"text-align: right;\">    rmsle</th></tr>\n",
       "</thead>\n",
       "<tbody>\n",
       "<tr><td>StackedEnsemble_AllModels_2_AutoML_3_20220404_175135   </td><td style=\"text-align: right;\">                0.460687</td><td style=\"text-align: right;\">0.67874 </td><td style=\"text-align: right;\">0.460687</td><td style=\"text-align: right;\">0.490924</td><td style=\"text-align: right;\">0.097413 </td></tr>\n",
       "<tr><td>StackedEnsemble_AllModels_3_AutoML_3_20220404_175135   </td><td style=\"text-align: right;\">                0.460863</td><td style=\"text-align: right;\">0.678869</td><td style=\"text-align: right;\">0.460863</td><td style=\"text-align: right;\">0.49036 </td><td style=\"text-align: right;\">0.0973733</td></tr>\n",
       "<tr><td>StackedEnsemble_BestOfFamily_3_AutoML_3_20220404_175135</td><td style=\"text-align: right;\">                0.462036</td><td style=\"text-align: right;\">0.679733</td><td style=\"text-align: right;\">0.462036</td><td style=\"text-align: right;\">0.492887</td><td style=\"text-align: right;\">0.0975533</td></tr>\n",
       "<tr><td>StackedEnsemble_AllModels_1_AutoML_3_20220404_175135   </td><td style=\"text-align: right;\">                0.462496</td><td style=\"text-align: right;\">0.680071</td><td style=\"text-align: right;\">0.462496</td><td style=\"text-align: right;\">0.491826</td><td style=\"text-align: right;\">0.0976002</td></tr>\n",
       "<tr><td>StackedEnsemble_BestOfFamily_1_AutoML_3_20220404_175135</td><td style=\"text-align: right;\">                0.465054</td><td style=\"text-align: right;\">0.681949</td><td style=\"text-align: right;\">0.465054</td><td style=\"text-align: right;\">0.494762</td><td style=\"text-align: right;\">0.0978844</td></tr>\n",
       "<tr><td>StackedEnsemble_BestOfFamily_2_AutoML_3_20220404_175135</td><td style=\"text-align: right;\">                0.465595</td><td style=\"text-align: right;\">0.682345</td><td style=\"text-align: right;\">0.465595</td><td style=\"text-align: right;\">0.492862</td><td style=\"text-align: right;\">0.0978381</td></tr>\n",
       "<tr><td>GBM_1_AutoML_3_20220404_175135                         </td><td style=\"text-align: right;\">                0.473354</td><td style=\"text-align: right;\">0.688007</td><td style=\"text-align: right;\">0.473354</td><td style=\"text-align: right;\">0.500929</td><td style=\"text-align: right;\">0.0990983</td></tr>\n",
       "<tr><td>GBM_2_AutoML_3_20220404_175135                         </td><td style=\"text-align: right;\">                0.49276 </td><td style=\"text-align: right;\">0.701969</td><td style=\"text-align: right;\">0.49276 </td><td style=\"text-align: right;\">0.519014</td><td style=\"text-align: right;\">0.100892 </td></tr>\n",
       "<tr><td>GBM_3_AutoML_3_20220404_175135                         </td><td style=\"text-align: right;\">                0.503075</td><td style=\"text-align: right;\">0.709278</td><td style=\"text-align: right;\">0.503075</td><td style=\"text-align: right;\">0.522396</td><td style=\"text-align: right;\">0.102014 </td></tr>\n",
       "<tr><td>XGBoost_3_AutoML_3_20220404_175135                     </td><td style=\"text-align: right;\">                0.50987 </td><td style=\"text-align: right;\">0.714052</td><td style=\"text-align: right;\">0.50987 </td><td style=\"text-align: right;\">0.523636</td><td style=\"text-align: right;\">0.102322 </td></tr>\n",
       "</tbody>\n",
       "</table>"
      ]
     },
     "metadata": {},
     "output_type": "display_data"
    },
    {
     "name": "stdout",
     "output_type": "stream",
     "text": [
      "\n",
      "Parse progress: |████████████████████████████████████████████████████████████████| (done) 100%\n",
      "stackedensemble prediction progress: |███████████████████████████████████████████| (done) 100%\n",
      "Train R2 score: 0.8362133572211566\n",
      "Parse progress: |████████████████████████████████████████████████████████████████| (done) 100%\n",
      "stackedensemble prediction progress: |███████████████████████████████████████████| (done) 100%\n",
      "Test R2 score: 0.7152828579581805\n",
      "prediction time cost 15.563525438308716\n",
      "now is processing dataset 3\n",
      "Parse progress: |████████████████████████████████████████████████████████████████| (done) 100%\n",
      "AutoML progress: |███████████████████████████████████████████████████████████████| (done) 100%\n",
      "training time cost: 3562.6061403751373\n"
     ]
    },
    {
     "data": {
      "text/html": [
       "<table>\n",
       "<thead>\n",
       "<tr><th>model_id                                               </th><th style=\"text-align: right;\">  mean_residual_deviance</th><th style=\"text-align: right;\">    rmse</th><th style=\"text-align: right;\">     mse</th><th style=\"text-align: right;\">     mae</th><th style=\"text-align: right;\">    rmsle</th></tr>\n",
       "</thead>\n",
       "<tbody>\n",
       "<tr><td>StackedEnsemble_BestOfFamily_7_AutoML_4_20220404_185204</td><td style=\"text-align: right;\">                0.116544</td><td style=\"text-align: right;\">0.341385</td><td style=\"text-align: right;\">0.116544</td><td style=\"text-align: right;\">0.257154</td><td style=\"text-align: right;\">0.0469773</td></tr>\n",
       "<tr><td>StackedEnsemble_AllModels_6_AutoML_4_20220404_185204   </td><td style=\"text-align: right;\">                0.116755</td><td style=\"text-align: right;\">0.341695</td><td style=\"text-align: right;\">0.116755</td><td style=\"text-align: right;\">0.256485</td><td style=\"text-align: right;\">0.0470624</td></tr>\n",
       "<tr><td>StackedEnsemble_Best1000_1_AutoML_4_20220404_185204    </td><td style=\"text-align: right;\">                0.119118</td><td style=\"text-align: right;\">0.345135</td><td style=\"text-align: right;\">0.119118</td><td style=\"text-align: right;\">0.263184</td><td style=\"text-align: right;\">0.0475459</td></tr>\n",
       "<tr><td>StackedEnsemble_AllModels_3_AutoML_4_20220404_185204   </td><td style=\"text-align: right;\">                0.119229</td><td style=\"text-align: right;\">0.345295</td><td style=\"text-align: right;\">0.119229</td><td style=\"text-align: right;\">0.263286</td><td style=\"text-align: right;\">0.0475664</td></tr>\n",
       "<tr><td>GBM_3_AutoML_4_20220404_185204                         </td><td style=\"text-align: right;\">                0.119723</td><td style=\"text-align: right;\">0.34601 </td><td style=\"text-align: right;\">0.119723</td><td style=\"text-align: right;\">0.262299</td><td style=\"text-align: right;\">0.0476741</td></tr>\n",
       "<tr><td>StackedEnsemble_AllModels_1_AutoML_4_20220404_185204   </td><td style=\"text-align: right;\">                0.119882</td><td style=\"text-align: right;\">0.34624 </td><td style=\"text-align: right;\">0.119882</td><td style=\"text-align: right;\">0.264663</td><td style=\"text-align: right;\">0.047701 </td></tr>\n",
       "<tr><td>GBM_4_AutoML_4_20220404_185204                         </td><td style=\"text-align: right;\">                0.119892</td><td style=\"text-align: right;\">0.346255</td><td style=\"text-align: right;\">0.119892</td><td style=\"text-align: right;\">0.261801</td><td style=\"text-align: right;\">0.0476515</td></tr>\n",
       "<tr><td>StackedEnsemble_BestOfFamily_2_AutoML_4_20220404_185204</td><td style=\"text-align: right;\">                0.12023 </td><td style=\"text-align: right;\">0.346743</td><td style=\"text-align: right;\">0.12023 </td><td style=\"text-align: right;\">0.265464</td><td style=\"text-align: right;\">0.0477764</td></tr>\n",
       "<tr><td>StackedEnsemble_BestOfFamily_4_AutoML_4_20220404_185204</td><td style=\"text-align: right;\">                0.120274</td><td style=\"text-align: right;\">0.346805</td><td style=\"text-align: right;\">0.120274</td><td style=\"text-align: right;\">0.265522</td><td style=\"text-align: right;\">0.0477823</td></tr>\n",
       "<tr><td>StackedEnsemble_AllModels_2_AutoML_4_20220404_185204   </td><td style=\"text-align: right;\">                0.120455</td><td style=\"text-align: right;\">0.347067</td><td style=\"text-align: right;\">0.120455</td><td style=\"text-align: right;\">0.265132</td><td style=\"text-align: right;\">0.047831 </td></tr>\n",
       "</tbody>\n",
       "</table>"
      ]
     },
     "metadata": {},
     "output_type": "display_data"
    },
    {
     "name": "stdout",
     "output_type": "stream",
     "text": [
      "\n",
      "Parse progress: |████████████████████████████████████████████████████████████████| (done) 100%\n",
      "stackedensemble prediction progress: |███████████████████████████████████████████| (done) 100%\n",
      "Train R2 score: 0.9190642402576397\n",
      "Parse progress: |████████████████████████████████████████████████████████████████| (done) 100%\n",
      "stackedensemble prediction progress: |███████████████████████████████████████████| (done) 100%\n",
      "Test R2 score: 0.6156696045125807\n",
      "prediction time cost 5.132728576660156\n",
      "now is processing dataset 4\n",
      "Parse progress: |████████████████████████████████████████████████████████████████| (done) 100%\n",
      "AutoML progress: |███████████████████████████████████████████████████████████████| (done) 100%\n",
      "training time cost: 3602.2925279140472\n"
     ]
    },
    {
     "data": {
      "text/html": [
       "<table>\n",
       "<thead>\n",
       "<tr><th>model_id                                               </th><th style=\"text-align: right;\">  mean_residual_deviance</th><th style=\"text-align: right;\">    rmse</th><th style=\"text-align: right;\">     mse</th><th style=\"text-align: right;\">     mae</th><th style=\"text-align: right;\">   rmsle</th></tr>\n",
       "</thead>\n",
       "<tbody>\n",
       "<tr><td>StackedEnsemble_AllModels_1_AutoML_5_20220404_195144   </td><td style=\"text-align: right;\">                0.76959 </td><td style=\"text-align: right;\">0.877263</td><td style=\"text-align: right;\">0.76959 </td><td style=\"text-align: right;\">0.652517</td><td style=\"text-align: right;\">0.126499</td></tr>\n",
       "<tr><td>StackedEnsemble_AllModels_3_AutoML_5_20220404_195144   </td><td style=\"text-align: right;\">                0.770335</td><td style=\"text-align: right;\">0.877687</td><td style=\"text-align: right;\">0.770335</td><td style=\"text-align: right;\">0.652097</td><td style=\"text-align: right;\">0.126577</td></tr>\n",
       "<tr><td>StackedEnsemble_AllModels_2_AutoML_5_20220404_195144   </td><td style=\"text-align: right;\">                0.770376</td><td style=\"text-align: right;\">0.877711</td><td style=\"text-align: right;\">0.770376</td><td style=\"text-align: right;\">0.652315</td><td style=\"text-align: right;\">0.126478</td></tr>\n",
       "<tr><td>StackedEnsemble_BestOfFamily_2_AutoML_5_20220404_195144</td><td style=\"text-align: right;\">                0.773893</td><td style=\"text-align: right;\">0.879712</td><td style=\"text-align: right;\">0.773893</td><td style=\"text-align: right;\">0.654459</td><td style=\"text-align: right;\">0.126632</td></tr>\n",
       "<tr><td>StackedEnsemble_BestOfFamily_1_AutoML_5_20220404_195144</td><td style=\"text-align: right;\">                0.778658</td><td style=\"text-align: right;\">0.882416</td><td style=\"text-align: right;\">0.778658</td><td style=\"text-align: right;\">0.657539</td><td style=\"text-align: right;\">0.126608</td></tr>\n",
       "<tr><td>StackedEnsemble_BestOfFamily_4_AutoML_5_20220404_195144</td><td style=\"text-align: right;\">                0.779684</td><td style=\"text-align: right;\">0.882997</td><td style=\"text-align: right;\">0.779684</td><td style=\"text-align: right;\">0.658302</td><td style=\"text-align: right;\">0.126714</td></tr>\n",
       "<tr><td>StackedEnsemble_BestOfFamily_3_AutoML_5_20220404_195144</td><td style=\"text-align: right;\">                0.780937</td><td style=\"text-align: right;\">0.883706</td><td style=\"text-align: right;\">0.780937</td><td style=\"text-align: right;\">0.657784</td><td style=\"text-align: right;\">0.127126</td></tr>\n",
       "<tr><td>GBM_2_AutoML_5_20220404_195144                         </td><td style=\"text-align: right;\">                0.815631</td><td style=\"text-align: right;\">0.903123</td><td style=\"text-align: right;\">0.815631</td><td style=\"text-align: right;\">0.67594 </td><td style=\"text-align: right;\">0.129943</td></tr>\n",
       "<tr><td>GBM_3_AutoML_5_20220404_195144                         </td><td style=\"text-align: right;\">                0.819673</td><td style=\"text-align: right;\">0.905358</td><td style=\"text-align: right;\">0.819673</td><td style=\"text-align: right;\">0.678876</td><td style=\"text-align: right;\">0.130791</td></tr>\n",
       "<tr><td>GBM_1_AutoML_5_20220404_195144                         </td><td style=\"text-align: right;\">                0.825837</td><td style=\"text-align: right;\">0.908756</td><td style=\"text-align: right;\">0.825837</td><td style=\"text-align: right;\">0.68309 </td><td style=\"text-align: right;\">0.129933</td></tr>\n",
       "</tbody>\n",
       "</table>"
      ]
     },
     "metadata": {},
     "output_type": "display_data"
    },
    {
     "name": "stdout",
     "output_type": "stream",
     "text": [
      "\n",
      "Parse progress: |████████████████████████████████████████████████████████████████| (done) 100%\n",
      "stackedensemble prediction progress: |███████████████████████████████████████████| (done) 100%\n",
      "Train R2 score: 0.9177085424977782\n",
      "Parse progress: |████████████████████████████████████████████████████████████████| (done) 100%\n",
      "stackedensemble prediction progress: |███████████████████████████████████████████| (done) 100%\n",
      "Test R2 score: 0.7604734505400559\n",
      "prediction time cost 10.427140474319458\n",
      "now is processing dataset 5\n",
      "Parse progress: |████████████████████████████████████████████████████████████████| (done) 100%\n",
      "AutoML progress: |███████████████████████████████████████████████████████████████| (done) 100%\n",
      "training time cost: 5434.324581861496\n"
     ]
    },
    {
     "data": {
      "text/html": [
       "<table>\n",
       "<thead>\n",
       "<tr><th>model_id                                               </th><th style=\"text-align: right;\">  mean_residual_deviance</th><th style=\"text-align: right;\">    rmse</th><th style=\"text-align: right;\">     mse</th><th style=\"text-align: right;\">     mae</th><th style=\"text-align: right;\">  rmsle</th></tr>\n",
       "</thead>\n",
       "<tbody>\n",
       "<tr><td>StackedEnsemble_BestOfFamily_1_AutoML_6_20220404_205555</td><td style=\"text-align: right;\">                0.233315</td><td style=\"text-align: right;\">0.483027</td><td style=\"text-align: right;\">0.233315</td><td style=\"text-align: right;\">0.338519</td><td style=\"text-align: right;\">    nan</td></tr>\n",
       "<tr><td>GLM_1_AutoML_6_20220404_205555                         </td><td style=\"text-align: right;\">                0.291326</td><td style=\"text-align: right;\">0.539746</td><td style=\"text-align: right;\">0.291326</td><td style=\"text-align: right;\">0.379238</td><td style=\"text-align: right;\">    nan</td></tr>\n",
       "<tr><td>XGBoost_2_AutoML_6_20220404_205555                     </td><td style=\"text-align: right;\">                0.342064</td><td style=\"text-align: right;\">0.584862</td><td style=\"text-align: right;\">0.342064</td><td style=\"text-align: right;\">0.425431</td><td style=\"text-align: right;\">    nan</td></tr>\n",
       "<tr><td>XGBoost_1_AutoML_6_20220404_205555                     </td><td style=\"text-align: right;\">                0.355101</td><td style=\"text-align: right;\">0.595904</td><td style=\"text-align: right;\">0.355101</td><td style=\"text-align: right;\">0.437031</td><td style=\"text-align: right;\">    nan</td></tr>\n",
       "<tr><td>GBM_1_AutoML_6_20220404_205555                         </td><td style=\"text-align: right;\">                0.55648 </td><td style=\"text-align: right;\">0.745976</td><td style=\"text-align: right;\">0.55648 </td><td style=\"text-align: right;\">0.575694</td><td style=\"text-align: right;\">    nan</td></tr>\n",
       "<tr><td>DRF_1_AutoML_6_20220404_205555                         </td><td style=\"text-align: right;\">                0.955469</td><td style=\"text-align: right;\">0.977481</td><td style=\"text-align: right;\">0.955469</td><td style=\"text-align: right;\">0.71394 </td><td style=\"text-align: right;\">    nan</td></tr>\n",
       "</tbody>\n",
       "</table>"
      ]
     },
     "metadata": {},
     "output_type": "display_data"
    },
    {
     "name": "stdout",
     "output_type": "stream",
     "text": [
      "\n",
      "Parse progress: |████████████████████████████████████████████████████████████████| (done) 100%\n",
      "stackedensemble prediction progress: |███████████████████████████████████████████| (done) 100%\n",
      "Train R2 score: 0.8959953681285046\n",
      "Parse progress: |████████████████████████████████████████████████████████████████| (done) 100%\n",
      "stackedensemble prediction progress: |███████████████████████████████████████████| (done) 100%\n",
      "Test R2 score: 0.8189774861188699\n",
      "prediction time cost 138.42770266532898\n",
      "now is processing dataset 6\n",
      "Parse progress: |████████████████████████████████████████████████████████████████| (done) 100%\n",
      "AutoML progress: |███████████████████████████████████████████████████████████████| (done) 100%\n",
      "training time cost: 3597.088993549347\n"
     ]
    },
    {
     "data": {
      "text/html": [
       "<table>\n",
       "<thead>\n",
       "<tr><th>model_id                                               </th><th style=\"text-align: right;\">  mean_residual_deviance</th><th style=\"text-align: right;\">   rmse</th><th style=\"text-align: right;\">    mse</th><th style=\"text-align: right;\">    mae</th><th style=\"text-align: right;\">  rmsle</th></tr>\n",
       "</thead>\n",
       "<tbody>\n",
       "<tr><td>StackedEnsemble_Best1000_1_AutoML_7_20220404_222853    </td><td style=\"text-align: right;\">                 432.172</td><td style=\"text-align: right;\">20.7888</td><td style=\"text-align: right;\">432.172</td><td style=\"text-align: right;\">15.624 </td><td style=\"text-align: right;\">    nan</td></tr>\n",
       "<tr><td>StackedEnsemble_AllModels_3_AutoML_7_20220404_222853   </td><td style=\"text-align: right;\">                 434.121</td><td style=\"text-align: right;\">20.8356</td><td style=\"text-align: right;\">434.121</td><td style=\"text-align: right;\">15.6336</td><td style=\"text-align: right;\">    nan</td></tr>\n",
       "<tr><td>StackedEnsemble_AllModels_6_AutoML_7_20220404_222853   </td><td style=\"text-align: right;\">                 436.347</td><td style=\"text-align: right;\">20.8889</td><td style=\"text-align: right;\">436.347</td><td style=\"text-align: right;\">15.6926</td><td style=\"text-align: right;\">    nan</td></tr>\n",
       "<tr><td>StackedEnsemble_AllModels_2_AutoML_7_20220404_222853   </td><td style=\"text-align: right;\">                 438.211</td><td style=\"text-align: right;\">20.9335</td><td style=\"text-align: right;\">438.211</td><td style=\"text-align: right;\">15.7313</td><td style=\"text-align: right;\">    nan</td></tr>\n",
       "<tr><td>StackedEnsemble_BestOfFamily_2_AutoML_7_20220404_222853</td><td style=\"text-align: right;\">                 440.417</td><td style=\"text-align: right;\">20.9861</td><td style=\"text-align: right;\">440.417</td><td style=\"text-align: right;\">15.8515</td><td style=\"text-align: right;\">    nan</td></tr>\n",
       "<tr><td>StackedEnsemble_BestOfFamily_7_AutoML_7_20220404_222853</td><td style=\"text-align: right;\">                 441.434</td><td style=\"text-align: right;\">21.0103</td><td style=\"text-align: right;\">441.434</td><td style=\"text-align: right;\">15.9831</td><td style=\"text-align: right;\">    nan</td></tr>\n",
       "<tr><td>StackedEnsemble_BestOfFamily_3_AutoML_7_20220404_222853</td><td style=\"text-align: right;\">                 441.766</td><td style=\"text-align: right;\">21.0182</td><td style=\"text-align: right;\">441.766</td><td style=\"text-align: right;\">15.8667</td><td style=\"text-align: right;\">    nan</td></tr>\n",
       "<tr><td>StackedEnsemble_AllModels_1_AutoML_7_20220404_222853   </td><td style=\"text-align: right;\">                 441.821</td><td style=\"text-align: right;\">21.0195</td><td style=\"text-align: right;\">441.821</td><td style=\"text-align: right;\">15.8467</td><td style=\"text-align: right;\">    nan</td></tr>\n",
       "<tr><td>StackedEnsemble_BestOfFamily_4_AutoML_7_20220404_222853</td><td style=\"text-align: right;\">                 444.543</td><td style=\"text-align: right;\">21.0842</td><td style=\"text-align: right;\">444.543</td><td style=\"text-align: right;\">15.8749</td><td style=\"text-align: right;\">    nan</td></tr>\n",
       "<tr><td>GBM_4_AutoML_7_20220404_222853                         </td><td style=\"text-align: right;\">                 457.736</td><td style=\"text-align: right;\">21.3948</td><td style=\"text-align: right;\">457.736</td><td style=\"text-align: right;\">16.0365</td><td style=\"text-align: right;\">    nan</td></tr>\n",
       "</tbody>\n",
       "</table>"
      ]
     },
     "metadata": {},
     "output_type": "display_data"
    },
    {
     "name": "stdout",
     "output_type": "stream",
     "text": [
      "\n",
      "Parse progress: |████████████████████████████████████████████████████████████████| (done) 100%\n",
      "stackedensemble prediction progress: |███████████████████████████████████████████| (done) 100%\n",
      "Train R2 score: 0.9677084841585446\n",
      "Parse progress: |████████████████████████████████████████████████████████████████| (done) 100%\n",
      "stackedensemble prediction progress: |███████████████████████████████████████████| (done) 100%\n",
      "Test R2 score: 0.6674550785002685\n",
      "prediction time cost 6.100221157073975\n",
      "now is processing dataset 7\n",
      "Parse progress: |████████████████████████████████████████████████████████████████| (done) 100%\n",
      "AutoML progress: |███████████████████████████████████████████████████████████████| (done) 100%\n",
      "training time cost: 3612.051082134247\n"
     ]
    },
    {
     "data": {
      "text/html": [
       "<table>\n",
       "<thead>\n",
       "<tr><th>model_id                                               </th><th style=\"text-align: right;\">  mean_residual_deviance</th><th style=\"text-align: right;\">    rmse</th><th style=\"text-align: right;\">     mse</th><th style=\"text-align: right;\">     mae</th><th style=\"text-align: right;\">    rmsle</th></tr>\n",
       "</thead>\n",
       "<tbody>\n",
       "<tr><td>StackedEnsemble_AllModels_3_AutoML_8_20220404_232936   </td><td style=\"text-align: right;\">                0.427985</td><td style=\"text-align: right;\">0.654206</td><td style=\"text-align: right;\">0.427985</td><td style=\"text-align: right;\">0.49322 </td><td style=\"text-align: right;\">0.0730924</td></tr>\n",
       "<tr><td>StackedEnsemble_AllModels_2_AutoML_8_20220404_232936   </td><td style=\"text-align: right;\">                0.431847</td><td style=\"text-align: right;\">0.657151</td><td style=\"text-align: right;\">0.431847</td><td style=\"text-align: right;\">0.496647</td><td style=\"text-align: right;\">0.0734566</td></tr>\n",
       "<tr><td>StackedEnsemble_AllModels_1_AutoML_8_20220404_232936   </td><td style=\"text-align: right;\">                0.433874</td><td style=\"text-align: right;\">0.658691</td><td style=\"text-align: right;\">0.433874</td><td style=\"text-align: right;\">0.497393</td><td style=\"text-align: right;\">0.0736665</td></tr>\n",
       "<tr><td>StackedEnsemble_BestOfFamily_3_AutoML_8_20220404_232936</td><td style=\"text-align: right;\">                0.437216</td><td style=\"text-align: right;\">0.661223</td><td style=\"text-align: right;\">0.437216</td><td style=\"text-align: right;\">0.495891</td><td style=\"text-align: right;\">0.0738236</td></tr>\n",
       "<tr><td>StackedEnsemble_BestOfFamily_4_AutoML_8_20220404_232936</td><td style=\"text-align: right;\">                0.440404</td><td style=\"text-align: right;\">0.663629</td><td style=\"text-align: right;\">0.440404</td><td style=\"text-align: right;\">0.500148</td><td style=\"text-align: right;\">0.0741717</td></tr>\n",
       "<tr><td>StackedEnsemble_BestOfFamily_1_AutoML_8_20220404_232936</td><td style=\"text-align: right;\">                0.440404</td><td style=\"text-align: right;\">0.663629</td><td style=\"text-align: right;\">0.440404</td><td style=\"text-align: right;\">0.498651</td><td style=\"text-align: right;\">0.0741618</td></tr>\n",
       "<tr><td>StackedEnsemble_BestOfFamily_2_AutoML_8_20220404_232936</td><td style=\"text-align: right;\">                0.440404</td><td style=\"text-align: right;\">0.663629</td><td style=\"text-align: right;\">0.440404</td><td style=\"text-align: right;\">0.498651</td><td style=\"text-align: right;\">0.0741618</td></tr>\n",
       "<tr><td>GBM_1_AutoML_8_20220404_232936                         </td><td style=\"text-align: right;\">                0.44352 </td><td style=\"text-align: right;\">0.665973</td><td style=\"text-align: right;\">0.44352 </td><td style=\"text-align: right;\">0.503008</td><td style=\"text-align: right;\">0.0743425</td></tr>\n",
       "<tr><td>GBM_grid_1_AutoML_8_20220404_232936_model_1            </td><td style=\"text-align: right;\">                0.446307</td><td style=\"text-align: right;\">0.668062</td><td style=\"text-align: right;\">0.446307</td><td style=\"text-align: right;\">0.501607</td><td style=\"text-align: right;\">0.0743559</td></tr>\n",
       "<tr><td>GBM_4_AutoML_8_20220404_232936                         </td><td style=\"text-align: right;\">                0.448238</td><td style=\"text-align: right;\">0.669506</td><td style=\"text-align: right;\">0.448238</td><td style=\"text-align: right;\">0.506696</td><td style=\"text-align: right;\">0.0748993</td></tr>\n",
       "</tbody>\n",
       "</table>"
      ]
     },
     "metadata": {},
     "output_type": "display_data"
    },
    {
     "name": "stdout",
     "output_type": "stream",
     "text": [
      "\n",
      "Parse progress: |████████████████████████████████████████████████████████████████| (done) 100%\n",
      "stackedensemble prediction progress: |███████████████████████████████████████████| (done) 100%\n",
      "Train R2 score: 0.8479119293558602\n",
      "Parse progress: |████████████████████████████████████████████████████████████████| (done) 100%\n",
      "stackedensemble prediction progress: |███████████████████████████████████████████| (done) 100%\n",
      "Test R2 score: 0.7269287036733938\n",
      "prediction time cost 35.471559047698975\n",
      "now is processing dataset 8\n",
      "Parse progress: |████████████████████████████████████████████████████████████████| (done) 100%\n",
      "AutoML progress: |██████████████████████████████████████████████████████████████| (done) 100%\n",
      "training time cost: 3602.768431186676\n"
     ]
    },
    {
     "data": {
      "text/html": [
       "<table>\n",
       "<thead>\n",
       "<tr><th>model_id                                              </th><th style=\"text-align: right;\">  mean_residual_deviance</th><th style=\"text-align: right;\">    rmse</th><th style=\"text-align: right;\">     mse</th><th style=\"text-align: right;\">     mae</th><th style=\"text-align: right;\">    rmsle</th></tr>\n",
       "</thead>\n",
       "<tbody>\n",
       "<tr><td>StackedEnsemble_AllModels_3_AutoML_9_20220405_03045   </td><td style=\"text-align: right;\">                0.340134</td><td style=\"text-align: right;\">0.58321 </td><td style=\"text-align: right;\">0.340134</td><td style=\"text-align: right;\">0.430555</td><td style=\"text-align: right;\">0.0817264</td></tr>\n",
       "<tr><td>StackedEnsemble_BestOfFamily_1_AutoML_9_20220405_03045</td><td style=\"text-align: right;\">                0.342619</td><td style=\"text-align: right;\">0.585337</td><td style=\"text-align: right;\">0.342619</td><td style=\"text-align: right;\">0.433738</td><td style=\"text-align: right;\">0.0821525</td></tr>\n",
       "<tr><td>StackedEnsemble_BestOfFamily_2_AutoML_9_20220405_03045</td><td style=\"text-align: right;\">                0.342729</td><td style=\"text-align: right;\">0.585431</td><td style=\"text-align: right;\">0.342729</td><td style=\"text-align: right;\">0.43392 </td><td style=\"text-align: right;\">0.0821543</td></tr>\n",
       "<tr><td>StackedEnsemble_AllModels_1_AutoML_9_20220405_03045   </td><td style=\"text-align: right;\">                0.342995</td><td style=\"text-align: right;\">0.585658</td><td style=\"text-align: right;\">0.342995</td><td style=\"text-align: right;\">0.43324 </td><td style=\"text-align: right;\">0.0821036</td></tr>\n",
       "<tr><td>StackedEnsemble_AllModels_2_AutoML_9_20220405_03045   </td><td style=\"text-align: right;\">                0.343541</td><td style=\"text-align: right;\">0.586124</td><td style=\"text-align: right;\">0.343541</td><td style=\"text-align: right;\">0.43324 </td><td style=\"text-align: right;\">0.0821578</td></tr>\n",
       "<tr><td>StackedEnsemble_BestOfFamily_3_AutoML_9_20220405_03045</td><td style=\"text-align: right;\">                0.34749 </td><td style=\"text-align: right;\">0.589483</td><td style=\"text-align: right;\">0.34749 </td><td style=\"text-align: right;\">0.436648</td><td style=\"text-align: right;\">0.0827305</td></tr>\n",
       "<tr><td>GBM_1_AutoML_9_20220405_03045                         </td><td style=\"text-align: right;\">                0.36079 </td><td style=\"text-align: right;\">0.600658</td><td style=\"text-align: right;\">0.36079 </td><td style=\"text-align: right;\">0.448177</td><td style=\"text-align: right;\">0.0844482</td></tr>\n",
       "<tr><td>GBM_2_AutoML_9_20220405_03045                         </td><td style=\"text-align: right;\">                0.369622</td><td style=\"text-align: right;\">0.607966</td><td style=\"text-align: right;\">0.369622</td><td style=\"text-align: right;\">0.453994</td><td style=\"text-align: right;\">0.0850427</td></tr>\n",
       "<tr><td>GBM_3_AutoML_9_20220405_03045                         </td><td style=\"text-align: right;\">                0.371234</td><td style=\"text-align: right;\">0.60929 </td><td style=\"text-align: right;\">0.371234</td><td style=\"text-align: right;\">0.455247</td><td style=\"text-align: right;\">0.0851805</td></tr>\n",
       "<tr><td>GBM_4_AutoML_9_20220405_03045                         </td><td style=\"text-align: right;\">                0.373749</td><td style=\"text-align: right;\">0.61135 </td><td style=\"text-align: right;\">0.373749</td><td style=\"text-align: right;\">0.459601</td><td style=\"text-align: right;\">0.0854681</td></tr>\n",
       "</tbody>\n",
       "</table>"
      ]
     },
     "metadata": {},
     "output_type": "display_data"
    },
    {
     "name": "stdout",
     "output_type": "stream",
     "text": [
      "\n",
      "Parse progress: |████████████████████████████████████████████████████████████████| (done) 100%\n",
      "stackedensemble prediction progress: |███████████████████████████████████████████| (done) 100%\n",
      "Train R2 score: 0.9214802378573514\n",
      "Parse progress: |████████████████████████████████████████████████████████████████| (done) 100%\n",
      "stackedensemble prediction progress: |███████████████████████████████████████████| (done) 100%\n",
      "Test R2 score: 0.7975735454324258\n",
      "prediction time cost 16.32391095161438\n",
      "now is processing dataset 9\n",
      "Parse progress: |████████████████████████████████████████████████████████████████| (done) 100%\n",
      "AutoML progress: |███████████████████████████████████████████████████████████████| (done) 100%\n",
      "training time cost: 3629.4569618701935\n"
     ]
    },
    {
     "data": {
      "text/html": [
       "<table>\n",
       "<thead>\n",
       "<tr><th>model_id                                               </th><th style=\"text-align: right;\">  mean_residual_deviance</th><th style=\"text-align: right;\">    rmse</th><th style=\"text-align: right;\">     mse</th><th style=\"text-align: right;\">     mae</th><th style=\"text-align: right;\">    rmsle</th></tr>\n",
       "</thead>\n",
       "<tbody>\n",
       "<tr><td>StackedEnsemble_AllModels_3_AutoML_10_20220405_13145   </td><td style=\"text-align: right;\">                0.504609</td><td style=\"text-align: right;\">0.710358</td><td style=\"text-align: right;\">0.504609</td><td style=\"text-align: right;\">0.545569</td><td style=\"text-align: right;\">0.0907405</td></tr>\n",
       "<tr><td>StackedEnsemble_AllModels_1_AutoML_10_20220405_13145   </td><td style=\"text-align: right;\">                0.512148</td><td style=\"text-align: right;\">0.715645</td><td style=\"text-align: right;\">0.512148</td><td style=\"text-align: right;\">0.549494</td><td style=\"text-align: right;\">0.0912467</td></tr>\n",
       "<tr><td>StackedEnsemble_AllModels_2_AutoML_10_20220405_13145   </td><td style=\"text-align: right;\">                0.513224</td><td style=\"text-align: right;\">0.716396</td><td style=\"text-align: right;\">0.513224</td><td style=\"text-align: right;\">0.549587</td><td style=\"text-align: right;\">0.091369 </td></tr>\n",
       "<tr><td>StackedEnsemble_BestOfFamily_4_AutoML_10_20220405_13145</td><td style=\"text-align: right;\">                0.516991</td><td style=\"text-align: right;\">0.719021</td><td style=\"text-align: right;\">0.516991</td><td style=\"text-align: right;\">0.553441</td><td style=\"text-align: right;\">0.0914812</td></tr>\n",
       "<tr><td>StackedEnsemble_BestOfFamily_1_AutoML_10_20220405_13145</td><td style=\"text-align: right;\">                0.523988</td><td style=\"text-align: right;\">0.72387 </td><td style=\"text-align: right;\">0.523988</td><td style=\"text-align: right;\">0.559044</td><td style=\"text-align: right;\">0.0921528</td></tr>\n",
       "<tr><td>StackedEnsemble_BestOfFamily_2_AutoML_10_20220405_13145</td><td style=\"text-align: right;\">                0.525754</td><td style=\"text-align: right;\">0.725089</td><td style=\"text-align: right;\">0.525754</td><td style=\"text-align: right;\">0.559504</td><td style=\"text-align: right;\">0.0924407</td></tr>\n",
       "<tr><td>StackedEnsemble_BestOfFamily_3_AutoML_10_20220405_13145</td><td style=\"text-align: right;\">                0.535228</td><td style=\"text-align: right;\">0.731593</td><td style=\"text-align: right;\">0.535228</td><td style=\"text-align: right;\">0.563368</td><td style=\"text-align: right;\">0.0933335</td></tr>\n",
       "<tr><td>GBM_3_AutoML_10_20220405_13145                         </td><td style=\"text-align: right;\">                0.542127</td><td style=\"text-align: right;\">0.736293</td><td style=\"text-align: right;\">0.542127</td><td style=\"text-align: right;\">0.570552</td><td style=\"text-align: right;\">0.0940917</td></tr>\n",
       "<tr><td>GBM_1_AutoML_10_20220405_13145                         </td><td style=\"text-align: right;\">                0.545071</td><td style=\"text-align: right;\">0.738289</td><td style=\"text-align: right;\">0.545071</td><td style=\"text-align: right;\">0.571816</td><td style=\"text-align: right;\">0.0938996</td></tr>\n",
       "<tr><td>GBM_4_AutoML_10_20220405_13145                         </td><td style=\"text-align: right;\">                0.552669</td><td style=\"text-align: right;\">0.743417</td><td style=\"text-align: right;\">0.552669</td><td style=\"text-align: right;\">0.572871</td><td style=\"text-align: right;\">0.0947025</td></tr>\n",
       "</tbody>\n",
       "</table>"
      ]
     },
     "metadata": {},
     "output_type": "display_data"
    },
    {
     "name": "stdout",
     "output_type": "stream",
     "text": [
      "\n",
      "Parse progress: |████████████████████████████████████████████████████████████████| (done) 100%\n",
      "stackedensemble prediction progress: |███████████████████████████████████████████| (done) 100%\n",
      "Train R2 score: 0.9076975823919806\n",
      "Parse progress: |████████████████████████████████████████████████████████████████| (done) 100%\n",
      "stackedensemble prediction progress: |███████████████████████████████████████████| (done) 100%\n",
      "Test R2 score: 0.781514750407128\n",
      "prediction time cost 35.74821996688843\n",
      "now is processing dataset 10\n",
      "Parse progress: |████████████████████████████████████████████████████████████████| (done) 100%\n",
      "AutoML progress: |███████████████████████████████████████████████████████████████| (done) 100%\n",
      "training time cost: 3604.32057261467\n"
     ]
    },
    {
     "data": {
      "text/html": [
       "<table>\n",
       "<thead>\n",
       "<tr><th>model_id                                               </th><th style=\"text-align: right;\">  mean_residual_deviance</th><th style=\"text-align: right;\">    rmse</th><th style=\"text-align: right;\">      mse</th><th style=\"text-align: right;\">     mae</th><th style=\"text-align: right;\">     rmsle</th></tr>\n",
       "</thead>\n",
       "<tbody>\n",
       "<tr><td>StackedEnsemble_AllModels_2_AutoML_11_20220405_23311   </td><td style=\"text-align: right;\">               0.0956165</td><td style=\"text-align: right;\">0.309219</td><td style=\"text-align: right;\">0.0956165</td><td style=\"text-align: right;\">0.231298</td><td style=\"text-align: right;\">  0.243095</td></tr>\n",
       "<tr><td>StackedEnsemble_AllModels_1_AutoML_11_20220405_23311   </td><td style=\"text-align: right;\">               0.0971383</td><td style=\"text-align: right;\">0.31167 </td><td style=\"text-align: right;\">0.0971383</td><td style=\"text-align: right;\">0.233401</td><td style=\"text-align: right;\">  0.244889</td></tr>\n",
       "<tr><td>StackedEnsemble_BestOfFamily_3_AutoML_11_20220405_23311</td><td style=\"text-align: right;\">               0.0983184</td><td style=\"text-align: right;\">0.313558</td><td style=\"text-align: right;\">0.0983184</td><td style=\"text-align: right;\">0.235841</td><td style=\"text-align: right;\">  0.247103</td></tr>\n",
       "<tr><td>StackedEnsemble_BestOfFamily_1_AutoML_11_20220405_23311</td><td style=\"text-align: right;\">               0.0987134</td><td style=\"text-align: right;\">0.314187</td><td style=\"text-align: right;\">0.0987134</td><td style=\"text-align: right;\">0.235829</td><td style=\"text-align: right;\">  0.247437</td></tr>\n",
       "<tr><td>StackedEnsemble_BestOfFamily_2_AutoML_11_20220405_23311</td><td style=\"text-align: right;\">               0.098859 </td><td style=\"text-align: right;\">0.314419</td><td style=\"text-align: right;\">0.098859 </td><td style=\"text-align: right;\">0.235887</td><td style=\"text-align: right;\">  0.247337</td></tr>\n",
       "<tr><td>GBM_1_AutoML_11_20220405_23311                         </td><td style=\"text-align: right;\">               0.10542  </td><td style=\"text-align: right;\">0.324684</td><td style=\"text-align: right;\">0.10542  </td><td style=\"text-align: right;\">0.246706</td><td style=\"text-align: right;\">  0.256147</td></tr>\n",
       "<tr><td>XGBoost_3_AutoML_11_20220405_23311                     </td><td style=\"text-align: right;\">               0.109335 </td><td style=\"text-align: right;\">0.330658</td><td style=\"text-align: right;\">0.109335 </td><td style=\"text-align: right;\">0.247728</td><td style=\"text-align: right;\">  0.259693</td></tr>\n",
       "<tr><td>GLM_1_AutoML_11_20220405_23311                         </td><td style=\"text-align: right;\">               0.118928 </td><td style=\"text-align: right;\">0.344859</td><td style=\"text-align: right;\">0.118928 </td><td style=\"text-align: right;\">0.260924</td><td style=\"text-align: right;\">nan       </td></tr>\n",
       "<tr><td>XGBoost_1_AutoML_11_20220405_23311                     </td><td style=\"text-align: right;\">               0.121654 </td><td style=\"text-align: right;\">0.348789</td><td style=\"text-align: right;\">0.121654 </td><td style=\"text-align: right;\">0.258757</td><td style=\"text-align: right;\">  0.276017</td></tr>\n",
       "<tr><td>XGBoost_grid_1_AutoML_11_20220405_23311_model_1        </td><td style=\"text-align: right;\">               0.121689 </td><td style=\"text-align: right;\">0.348839</td><td style=\"text-align: right;\">0.121689 </td><td style=\"text-align: right;\">0.257136</td><td style=\"text-align: right;\">  0.270848</td></tr>\n",
       "</tbody>\n",
       "</table>"
      ]
     },
     "metadata": {},
     "output_type": "display_data"
    },
    {
     "name": "stdout",
     "output_type": "stream",
     "text": [
      "\n",
      "Parse progress: |████████████████████████████████████████████████████████████████| (done) 100%\n",
      "stackedensemble prediction progress: |███████████████████████████████████████████| (done) 100%\n",
      "Train R2 score: 0.9293668611061904\n",
      "Parse progress: |████████████████████████████████████████████████████████████████| (done) 100%\n",
      "stackedensemble prediction progress: |███████████████████████████████████████████| (done) 100%\n",
      "Test R2 score: 0.6879397412884463\n",
      "prediction time cost 16.369318962097168\n",
      "now is processing dataset 11\n",
      "Parse progress: |████████████████████████████████████████████████████████████████| (done) 100%\n",
      "AutoML progress: |██████████████████████████████████████████████████████████████| (done) 100%\n",
      "training time cost: 3605.2531383037567\n"
     ]
    },
    {
     "data": {
      "text/html": [
       "<table>\n",
       "<thead>\n",
       "<tr><th>model_id                                               </th><th style=\"text-align: right;\">  mean_residual_deviance</th><th style=\"text-align: right;\">    rmse</th><th style=\"text-align: right;\">     mse</th><th style=\"text-align: right;\">     mae</th><th style=\"text-align: right;\">  rmsle</th></tr>\n",
       "</thead>\n",
       "<tbody>\n",
       "<tr><td>StackedEnsemble_BestOfFamily_4_AutoML_12_20220405_33404</td><td style=\"text-align: right;\">                0.146273</td><td style=\"text-align: right;\">0.382456</td><td style=\"text-align: right;\">0.146273</td><td style=\"text-align: right;\">0.280274</td><td style=\"text-align: right;\">    nan</td></tr>\n",
       "<tr><td>StackedEnsemble_AllModels_3_AutoML_12_20220405_33404   </td><td style=\"text-align: right;\">                0.146673</td><td style=\"text-align: right;\">0.382979</td><td style=\"text-align: right;\">0.146673</td><td style=\"text-align: right;\">0.276868</td><td style=\"text-align: right;\">    nan</td></tr>\n",
       "<tr><td>StackedEnsemble_AllModels_2_AutoML_12_20220405_33404   </td><td style=\"text-align: right;\">                0.147588</td><td style=\"text-align: right;\">0.384172</td><td style=\"text-align: right;\">0.147588</td><td style=\"text-align: right;\">0.278949</td><td style=\"text-align: right;\">    nan</td></tr>\n",
       "<tr><td>StackedEnsemble_AllModels_1_AutoML_12_20220405_33404   </td><td style=\"text-align: right;\">                0.147606</td><td style=\"text-align: right;\">0.384195</td><td style=\"text-align: right;\">0.147606</td><td style=\"text-align: right;\">0.2792  </td><td style=\"text-align: right;\">    nan</td></tr>\n",
       "<tr><td>StackedEnsemble_BestOfFamily_2_AutoML_12_20220405_33404</td><td style=\"text-align: right;\">                0.147996</td><td style=\"text-align: right;\">0.384703</td><td style=\"text-align: right;\">0.147996</td><td style=\"text-align: right;\">0.284046</td><td style=\"text-align: right;\">    nan</td></tr>\n",
       "<tr><td>StackedEnsemble_BestOfFamily_1_AutoML_12_20220405_33404</td><td style=\"text-align: right;\">                0.147999</td><td style=\"text-align: right;\">0.384706</td><td style=\"text-align: right;\">0.147999</td><td style=\"text-align: right;\">0.284057</td><td style=\"text-align: right;\">    nan</td></tr>\n",
       "<tr><td>StackedEnsemble_BestOfFamily_3_AutoML_12_20220405_33404</td><td style=\"text-align: right;\">                0.148969</td><td style=\"text-align: right;\">0.385965</td><td style=\"text-align: right;\">0.148969</td><td style=\"text-align: right;\">0.282904</td><td style=\"text-align: right;\">    nan</td></tr>\n",
       "<tr><td>StackedEnsemble_BestOfFamily_6_AutoML_12_20220405_33404</td><td style=\"text-align: right;\">                0.155121</td><td style=\"text-align: right;\">0.393854</td><td style=\"text-align: right;\">0.155121</td><td style=\"text-align: right;\">0.288809</td><td style=\"text-align: right;\">    nan</td></tr>\n",
       "<tr><td>GBM_1_AutoML_12_20220405_33404                         </td><td style=\"text-align: right;\">                0.164914</td><td style=\"text-align: right;\">0.406095</td><td style=\"text-align: right;\">0.164914</td><td style=\"text-align: right;\">0.302307</td><td style=\"text-align: right;\">    nan</td></tr>\n",
       "<tr><td>GBM_4_AutoML_12_20220405_33404                         </td><td style=\"text-align: right;\">                0.166884</td><td style=\"text-align: right;\">0.408514</td><td style=\"text-align: right;\">0.166884</td><td style=\"text-align: right;\">0.29913 </td><td style=\"text-align: right;\">    nan</td></tr>\n",
       "</tbody>\n",
       "</table>"
      ]
     },
     "metadata": {},
     "output_type": "display_data"
    },
    {
     "name": "stdout",
     "output_type": "stream",
     "text": [
      "\n",
      "Parse progress: |████████████████████████████████████████████████████████████████| (done) 100%\n",
      "stackedensemble prediction progress: |███████████████████████████████████████████| (done) 100%\n",
      "Train R2 score: 0.863420812982704\n",
      "Parse progress: |████████████████████████████████████████████████████████████████| (done) 100%\n",
      "stackedensemble prediction progress: |███████████████████████████████████████████| (done) 100%\n",
      "Test R2 score: 0.7289114177892302\n",
      "prediction time cost 20.359837293624878\n",
      "now is processing dataset 12\n",
      "Parse progress: |████████████████████████████████████████████████████████████████| (done) 100%\n",
      "AutoML progress: |███████████████████████████████████████████████████████████████| (done) 100%\n",
      "training time cost: 3603.962267637253\n"
     ]
    },
    {
     "data": {
      "text/html": [
       "<table>\n",
       "<thead>\n",
       "<tr><th>model_id                                               </th><th style=\"text-align: right;\">  mean_residual_deviance</th><th style=\"text-align: right;\">    rmse</th><th style=\"text-align: right;\">     mse</th><th style=\"text-align: right;\">     mae</th><th style=\"text-align: right;\">  rmsle</th></tr>\n",
       "</thead>\n",
       "<tbody>\n",
       "<tr><td>StackedEnsemble_AllModels_1_AutoML_13_20220405_43451   </td><td style=\"text-align: right;\">                0.169186</td><td style=\"text-align: right;\">0.411323</td><td style=\"text-align: right;\">0.169186</td><td style=\"text-align: right;\">0.301744</td><td style=\"text-align: right;\">    nan</td></tr>\n",
       "<tr><td>StackedEnsemble_AllModels_2_AutoML_13_20220405_43451   </td><td style=\"text-align: right;\">                0.169295</td><td style=\"text-align: right;\">0.411455</td><td style=\"text-align: right;\">0.169295</td><td style=\"text-align: right;\">0.301823</td><td style=\"text-align: right;\">    nan</td></tr>\n",
       "<tr><td>StackedEnsemble_BestOfFamily_2_AutoML_13_20220405_43451</td><td style=\"text-align: right;\">                0.170515</td><td style=\"text-align: right;\">0.412935</td><td style=\"text-align: right;\">0.170515</td><td style=\"text-align: right;\">0.303499</td><td style=\"text-align: right;\">    nan</td></tr>\n",
       "<tr><td>StackedEnsemble_BestOfFamily_1_AutoML_13_20220405_43451</td><td style=\"text-align: right;\">                0.170929</td><td style=\"text-align: right;\">0.413435</td><td style=\"text-align: right;\">0.170929</td><td style=\"text-align: right;\">0.303717</td><td style=\"text-align: right;\">    nan</td></tr>\n",
       "<tr><td>StackedEnsemble_BestOfFamily_3_AutoML_13_20220405_43451</td><td style=\"text-align: right;\">                0.173592</td><td style=\"text-align: right;\">0.416644</td><td style=\"text-align: right;\">0.173592</td><td style=\"text-align: right;\">0.30656 </td><td style=\"text-align: right;\">    nan</td></tr>\n",
       "<tr><td>GBM_1_AutoML_13_20220405_43451                         </td><td style=\"text-align: right;\">                0.177593</td><td style=\"text-align: right;\">0.421418</td><td style=\"text-align: right;\">0.177593</td><td style=\"text-align: right;\">0.310002</td><td style=\"text-align: right;\">    nan</td></tr>\n",
       "<tr><td>XGBoost_3_AutoML_13_20220405_43451                     </td><td style=\"text-align: right;\">                0.194194</td><td style=\"text-align: right;\">0.440675</td><td style=\"text-align: right;\">0.194194</td><td style=\"text-align: right;\">0.325272</td><td style=\"text-align: right;\">    nan</td></tr>\n",
       "<tr><td>GLM_1_AutoML_13_20220405_43451                         </td><td style=\"text-align: right;\">                0.199882</td><td style=\"text-align: right;\">0.447082</td><td style=\"text-align: right;\">0.199882</td><td style=\"text-align: right;\">0.330524</td><td style=\"text-align: right;\">    nan</td></tr>\n",
       "<tr><td>XGBoost_1_AutoML_13_20220405_43451                     </td><td style=\"text-align: right;\">                0.200536</td><td style=\"text-align: right;\">0.447813</td><td style=\"text-align: right;\">0.200536</td><td style=\"text-align: right;\">0.328699</td><td style=\"text-align: right;\">    nan</td></tr>\n",
       "<tr><td>XGBoost_2_AutoML_13_20220405_43451                     </td><td style=\"text-align: right;\">                0.201876</td><td style=\"text-align: right;\">0.449306</td><td style=\"text-align: right;\">0.201876</td><td style=\"text-align: right;\">0.329198</td><td style=\"text-align: right;\">    nan</td></tr>\n",
       "</tbody>\n",
       "</table>"
      ]
     },
     "metadata": {},
     "output_type": "display_data"
    },
    {
     "name": "stdout",
     "output_type": "stream",
     "text": [
      "\n",
      "Parse progress: |████████████████████████████████████████████████████████████████| (done) 100%\n",
      "stackedensemble prediction progress: |███████████████████████████████████████████| (done) 100%\n",
      "Train R2 score: 0.8536704571270528\n",
      "Parse progress: |████████████████████████████████████████████████████████████████| (done) 100%\n",
      "stackedensemble prediction progress: |███████████████████████████████████████████| (done) 100%\n",
      "Test R2 score: 0.5218925509135746\n",
      "prediction time cost 22.04556155204773\n",
      "now is processing dataset 13\n",
      "Parse progress: |████████████████████████████████████████████████████████████████| (done) 100%\n",
      "AutoML progress: |███████████████████████████████████████████████████████████████| (done) 100%\n",
      "training time cost: 3602.64048576355\n"
     ]
    },
    {
     "data": {
      "text/html": [
       "<table>\n",
       "<thead>\n",
       "<tr><th>model_id                                               </th><th style=\"text-align: right;\">  mean_residual_deviance</th><th style=\"text-align: right;\">    rmse</th><th style=\"text-align: right;\">     mse</th><th style=\"text-align: right;\">     mae</th><th style=\"text-align: right;\">  rmsle</th></tr>\n",
       "</thead>\n",
       "<tbody>\n",
       "<tr><td>StackedEnsemble_AllModels_3_AutoML_14_20220405_53533   </td><td style=\"text-align: right;\">                0.113795</td><td style=\"text-align: right;\">0.337335</td><td style=\"text-align: right;\">0.113795</td><td style=\"text-align: right;\">0.252163</td><td style=\"text-align: right;\">    nan</td></tr>\n",
       "<tr><td>StackedEnsemble_AllModels_2_AutoML_14_20220405_53533   </td><td style=\"text-align: right;\">                0.115631</td><td style=\"text-align: right;\">0.340046</td><td style=\"text-align: right;\">0.115631</td><td style=\"text-align: right;\">0.255639</td><td style=\"text-align: right;\">    nan</td></tr>\n",
       "<tr><td>StackedEnsemble_BestOfFamily_4_AutoML_14_20220405_53533</td><td style=\"text-align: right;\">                0.116233</td><td style=\"text-align: right;\">0.340929</td><td style=\"text-align: right;\">0.116233</td><td style=\"text-align: right;\">0.256361</td><td style=\"text-align: right;\">    nan</td></tr>\n",
       "<tr><td>StackedEnsemble_AllModels_1_AutoML_14_20220405_53533   </td><td style=\"text-align: right;\">                0.1164  </td><td style=\"text-align: right;\">0.341174</td><td style=\"text-align: right;\">0.1164  </td><td style=\"text-align: right;\">0.256671</td><td style=\"text-align: right;\">    nan</td></tr>\n",
       "<tr><td>StackedEnsemble_BestOfFamily_2_AutoML_14_20220405_53533</td><td style=\"text-align: right;\">                0.117469</td><td style=\"text-align: right;\">0.342737</td><td style=\"text-align: right;\">0.117469</td><td style=\"text-align: right;\">0.257577</td><td style=\"text-align: right;\">    nan</td></tr>\n",
       "<tr><td>StackedEnsemble_BestOfFamily_3_AutoML_14_20220405_53533</td><td style=\"text-align: right;\">                0.118307</td><td style=\"text-align: right;\">0.343958</td><td style=\"text-align: right;\">0.118307</td><td style=\"text-align: right;\">0.25843 </td><td style=\"text-align: right;\">    nan</td></tr>\n",
       "<tr><td>StackedEnsemble_BestOfFamily_1_AutoML_14_20220405_53533</td><td style=\"text-align: right;\">                0.119528</td><td style=\"text-align: right;\">0.345729</td><td style=\"text-align: right;\">0.119528</td><td style=\"text-align: right;\">0.26137 </td><td style=\"text-align: right;\">    nan</td></tr>\n",
       "<tr><td>GBM_4_AutoML_14_20220405_53533                         </td><td style=\"text-align: right;\">                0.123316</td><td style=\"text-align: right;\">0.351164</td><td style=\"text-align: right;\">0.123316</td><td style=\"text-align: right;\">0.265912</td><td style=\"text-align: right;\">    nan</td></tr>\n",
       "<tr><td>GBM_2_AutoML_14_20220405_53533                         </td><td style=\"text-align: right;\">                0.123332</td><td style=\"text-align: right;\">0.351187</td><td style=\"text-align: right;\">0.123332</td><td style=\"text-align: right;\">0.26642 </td><td style=\"text-align: right;\">    nan</td></tr>\n",
       "<tr><td>GBM_3_AutoML_14_20220405_53533                         </td><td style=\"text-align: right;\">                0.123427</td><td style=\"text-align: right;\">0.351321</td><td style=\"text-align: right;\">0.123427</td><td style=\"text-align: right;\">0.267296</td><td style=\"text-align: right;\">    nan</td></tr>\n",
       "</tbody>\n",
       "</table>"
      ]
     },
     "metadata": {},
     "output_type": "display_data"
    },
    {
     "name": "stdout",
     "output_type": "stream",
     "text": [
      "\n",
      "Parse progress: |████████████████████████████████████████████████████████████████| (done) 100%\n",
      "stackedensemble prediction progress: |███████████████████████████████████████████| (done) 100%\n",
      "Train R2 score: 0.9201934588878415\n",
      "Parse progress: |████████████████████████████████████████████████████████████████| (done) 100%\n",
      "stackedensemble prediction progress: |███████████████████████████████████████████| (done) 100%\n",
      "Test R2 score: 0.45596677932480023\n",
      "prediction time cost 16.654285192489624\n",
      "now is processing dataset 14\n",
      "Parse progress: |████████████████████████████████████████████████████████████████| (done) 100%\n",
      "AutoML progress: |███████████████████████████████████████████████████████████████| (done) 100%\n",
      "training time cost: 3604.520397901535\n"
     ]
    },
    {
     "data": {
      "text/html": [
       "<table>\n",
       "<thead>\n",
       "<tr><th>model_id                                               </th><th style=\"text-align: right;\">  mean_residual_deviance</th><th style=\"text-align: right;\">    rmse</th><th style=\"text-align: right;\">     mse</th><th style=\"text-align: right;\">     mae</th><th style=\"text-align: right;\">   rmsle</th></tr>\n",
       "</thead>\n",
       "<tbody>\n",
       "<tr><td>StackedEnsemble_AllModels_2_AutoML_15_20220405_63610   </td><td style=\"text-align: right;\">                0.708114</td><td style=\"text-align: right;\">0.841495</td><td style=\"text-align: right;\">0.708114</td><td style=\"text-align: right;\">0.621383</td><td style=\"text-align: right;\">0.120227</td></tr>\n",
       "<tr><td>StackedEnsemble_AllModels_1_AutoML_15_20220405_63610   </td><td style=\"text-align: right;\">                0.714268</td><td style=\"text-align: right;\">0.845144</td><td style=\"text-align: right;\">0.714268</td><td style=\"text-align: right;\">0.627304</td><td style=\"text-align: right;\">0.120844</td></tr>\n",
       "<tr><td>StackedEnsemble_BestOfFamily_2_AutoML_15_20220405_63610</td><td style=\"text-align: right;\">                0.726391</td><td style=\"text-align: right;\">0.852286</td><td style=\"text-align: right;\">0.726391</td><td style=\"text-align: right;\">0.637025</td><td style=\"text-align: right;\">0.122042</td></tr>\n",
       "<tr><td>StackedEnsemble_BestOfFamily_1_AutoML_15_20220405_63610</td><td style=\"text-align: right;\">                0.73096 </td><td style=\"text-align: right;\">0.854962</td><td style=\"text-align: right;\">0.73096 </td><td style=\"text-align: right;\">0.637927</td><td style=\"text-align: right;\">0.122528</td></tr>\n",
       "<tr><td>StackedEnsemble_BestOfFamily_3_AutoML_15_20220405_63610</td><td style=\"text-align: right;\">                0.731378</td><td style=\"text-align: right;\">0.855207</td><td style=\"text-align: right;\">0.731378</td><td style=\"text-align: right;\">0.637833</td><td style=\"text-align: right;\">0.122717</td></tr>\n",
       "<tr><td>GBM_1_AutoML_15_20220405_63610                         </td><td style=\"text-align: right;\">                0.797313</td><td style=\"text-align: right;\">0.892924</td><td style=\"text-align: right;\">0.797313</td><td style=\"text-align: right;\">0.672143</td><td style=\"text-align: right;\">0.127726</td></tr>\n",
       "<tr><td>XGBoost_3_AutoML_15_20220405_63610                     </td><td style=\"text-align: right;\">                0.851528</td><td style=\"text-align: right;\">0.922783</td><td style=\"text-align: right;\">0.851528</td><td style=\"text-align: right;\">0.68478 </td><td style=\"text-align: right;\">0.132216</td></tr>\n",
       "<tr><td>XGBoost_2_AutoML_15_20220405_63610                     </td><td style=\"text-align: right;\">                0.92084 </td><td style=\"text-align: right;\">0.959604</td><td style=\"text-align: right;\">0.92084 </td><td style=\"text-align: right;\">0.709562</td><td style=\"text-align: right;\">0.136644</td></tr>\n",
       "<tr><td>XGBoost_1_AutoML_15_20220405_63610                     </td><td style=\"text-align: right;\">                0.925433</td><td style=\"text-align: right;\">0.961994</td><td style=\"text-align: right;\">0.925433</td><td style=\"text-align: right;\">0.710587</td><td style=\"text-align: right;\">0.136853</td></tr>\n",
       "<tr><td>XGBoost_grid_1_AutoML_15_20220405_63610_model_1        </td><td style=\"text-align: right;\">                0.930987</td><td style=\"text-align: right;\">0.964876</td><td style=\"text-align: right;\">0.930987</td><td style=\"text-align: right;\">0.717763</td><td style=\"text-align: right;\">0.137756</td></tr>\n",
       "</tbody>\n",
       "</table>"
      ]
     },
     "metadata": {},
     "output_type": "display_data"
    },
    {
     "name": "stdout",
     "output_type": "stream",
     "text": [
      "\n",
      "Parse progress: |████████████████████████████████████████████████████████████████| (done) 100%\n",
      "stackedensemble prediction progress: |███████████████████████████████████████████| (done) 100%\n",
      "Train R2 score: 0.9609562380431145\n",
      "Parse progress: |████████████████████████████████████████████████████████████████| (done) 100%\n",
      "stackedensemble prediction progress: |███████████████████████████████████████████| (done) 100%\n",
      "Test R2 score: 0.8193753757735236\n",
      "prediction time cost 14.059409618377686\n",
      "now is processing dataset 15\n"
     ]
    }
   ],
   "source": [
    "h2o.init()\n",
    "for i in range(1,16):\n",
    "    x_path = 'dataset/QSAR_{}_train_x.csv'.format(i)\n",
    "    y_path = 'dataset/QSAR_{}_train_y.csv'.format(i)\n",
    "    compute(x_path, y_path)\n",
    "    print(\"now is processing dataset %s\" % i)"
   ]
  },
  {
   "cell_type": "code",
   "execution_count": null,
   "metadata": {
    "scrolled": true
   },
   "outputs": [],
   "source": []
  }
 ],
 "metadata": {
  "kernelspec": {
   "display_name": "Python 3 (ipykernel)",
   "language": "python",
   "name": "python3"
  },
  "language_info": {
   "codemirror_mode": {
    "name": "ipython",
    "version": 3
   },
   "file_extension": ".py",
   "mimetype": "text/x-python",
   "name": "python",
   "nbconvert_exporter": "python",
   "pygments_lexer": "ipython3",
   "version": "3.8.0"
  }
 },
 "nbformat": 4,
 "nbformat_minor": 2
}
