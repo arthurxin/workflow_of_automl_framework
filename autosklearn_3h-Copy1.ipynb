{
 "cells": [
  {
   "cell_type": "code",
   "execution_count": 1,
   "id": "6a1a338a",
   "metadata": {},
   "outputs": [],
   "source": [
    "import pandas as pd\n",
    "import numpy as np\n",
    "import sklearn.metrics\n",
    "import sklearn.model_selection\n",
    "import time"
   ]
  },
  {
   "cell_type": "code",
   "execution_count": 2,
   "id": "85cc8c77",
   "metadata": {},
   "outputs": [],
   "source": [
    "import autosklearn.regression"
   ]
  },
  {
   "cell_type": "code",
   "execution_count": 3,
   "id": "b0516dc5",
   "metadata": {},
   "outputs": [],
   "source": [
    "def compute(x_path, y_path):\n",
    "    X = pd.read_csv(x_path)\n",
    "    y = pd.read_csv(y_path)\n",
    "    X_train, X_test, y_train, y_test = sklearn.model_selection.train_test_split(X, y, test_size=0.2, random_state=7)\n",
    "    del X,y\n",
    "    \n",
    "    t0 = time.time()\n",
    "    \n",
    "    reg = autosklearn.regression.AutoSklearnRegressor(\n",
    "        time_left_for_this_task=3*3600,\n",
    "        per_run_time_limit=600,\n",
    "        n_jobs=4,\n",
    "        memory_limit=20*1024,\n",
    "        tmp_folder='/home/hx152/tmp/autosklearn_regression_example_tmp',\n",
    "        metric=autosklearn.metrics.r2)\n",
    "    reg.fit(X_train, y_train, dataset_name='QSAR')\n",
    "    \n",
    "    t1 = time.time()\n",
    "    print(\"training time cost:\",t1-t0)\n",
    "    \n",
    "    print(reg.leaderboard())\n",
    "    train_predictions = reg.predict(X_train)\n",
    "    print(\"Train R2 score:\", sklearn.metrics.r2_score(y_train, train_predictions))\n",
    "    test_predictions = reg.predict(X_test)\n",
    "    print(\"Test R2 score:\", sklearn.metrics.r2_score(y_test, test_predictions))\n",
    "    \n",
    "    t2 = time.time()\n",
    "    print(\"prediction time cost\",t2-t1)"
   ]
  },
  {
   "cell_type": "code",
   "execution_count": 5,
   "id": "86a543a4",
   "metadata": {},
   "outputs": [
    {
     "name": "stderr",
     "output_type": "stream",
     "text": [
      "/home/hx152/.conda/envs/merck/lib/python3.8/site-packages/autosklearn/metalearning/metalearning/meta_base.py:68: FutureWarning: The frame.append method is deprecated and will be removed from pandas in a future version. Use pandas.concat instead.\n",
      "  self.metafeatures = self.metafeatures.append(metafeatures)\n",
      "/home/hx152/.conda/envs/merck/lib/python3.8/site-packages/autosklearn/metalearning/metalearning/meta_base.py:72: FutureWarning: The frame.append method is deprecated and will be removed from pandas in a future version. Use pandas.concat instead.\n",
      "  self.algorithm_runs[metric].append(runs)\n"
     ]
    },
    {
     "name": "stdout",
     "output_type": "stream",
     "text": [
      "training time cost: 10827.96699500084\n",
      "          rank  ensemble_weight               type      cost   duration\n",
      "model_id                                                               \n",
      "15           1             0.12  gradient_boosting  0.371364  96.954663\n",
      "82           2             0.14        extra_trees  0.384643  57.456710\n",
      "158          3             0.20                mlp  0.409359  71.739824\n",
      "210          4             0.10                mlp  0.430556  80.063444\n",
      "255          5             0.16                mlp  0.438146  79.837612\n",
      "113          6             0.08                mlp  0.457793  30.653347\n",
      "127          7             0.12                sgd  0.459986  17.945008\n",
      "85           8             0.04                mlp  0.477560   7.039639\n",
      "7            9             0.04      liblinear_svr  0.484106   5.851849\n",
      "Train R2 score: 0.8645809359169249\n",
      "Test R2 score: 0.6742944774435708\n",
      "prediction time cost 11.64473557472229\n",
      "now is processing dataset 11\n"
     ]
    },
    {
     "name": "stderr",
     "output_type": "stream",
     "text": [
      "/home/hx152/.conda/envs/merck/lib/python3.8/site-packages/autosklearn/metalearning/metalearning/meta_base.py:68: FutureWarning: The frame.append method is deprecated and will be removed from pandas in a future version. Use pandas.concat instead.\n",
      "  self.metafeatures = self.metafeatures.append(metafeatures)\n",
      "/home/hx152/.conda/envs/merck/lib/python3.8/site-packages/autosklearn/metalearning/metalearning/meta_base.py:72: FutureWarning: The frame.append method is deprecated and will be removed from pandas in a future version. Use pandas.concat instead.\n",
      "  self.algorithm_runs[metric].append(runs)\n"
     ]
    },
    {
     "name": "stdout",
     "output_type": "stream",
     "text": [
      "training time cost: 10827.642142057419\n",
      "          rank  ensemble_weight               type      cost    duration\n",
      "model_id                                                                \n",
      "18           1             0.20  gradient_boosting  0.312323  120.998004\n",
      "136          2             0.18     ard_regression  0.344300  140.903805\n",
      "84           3             0.28        extra_trees  0.346268  195.659965\n",
      "207          4             0.22      liblinear_svr  0.348273   17.148644\n",
      "138          5             0.04                sgd  0.383314   92.017564\n",
      "178          6             0.06                sgd  0.401655   75.045341\n",
      "180          7             0.02                sgd  0.406341  133.226083\n",
      "Train R2 score: 0.8605089506105024\n",
      "Test R2 score: 0.7336929252279376\n",
      "prediction time cost 28.633650064468384\n",
      "now is processing dataset 12\n"
     ]
    },
    {
     "name": "stderr",
     "output_type": "stream",
     "text": [
      "/home/hx152/.conda/envs/merck/lib/python3.8/site-packages/autosklearn/metalearning/metalearning/meta_base.py:68: FutureWarning: The frame.append method is deprecated and will be removed from pandas in a future version. Use pandas.concat instead.\n",
      "  self.metafeatures = self.metafeatures.append(metafeatures)\n",
      "/home/hx152/.conda/envs/merck/lib/python3.8/site-packages/autosklearn/metalearning/metalearning/meta_base.py:72: FutureWarning: The frame.append method is deprecated and will be removed from pandas in a future version. Use pandas.concat instead.\n",
      "  self.algorithm_runs[metric].append(runs)\n"
     ]
    },
    {
     "name": "stdout",
     "output_type": "stream",
     "text": [
      "training time cost: 10815.286853075027\n",
      "          rank  ensemble_weight               type      cost    duration\n",
      "model_id                                                                \n",
      "140          1             0.52        extra_trees  0.448832  142.418069\n",
      "150          2             0.02        extra_trees  0.450566   53.186774\n",
      "134          3             0.02        extra_trees  0.454410   34.529451\n",
      "149          4             0.06        extra_trees  0.459917   22.375394\n",
      "152          5             0.20  gradient_boosting  0.472972  143.076010\n",
      "22           6             0.10  gradient_boosting  0.487001  160.965180\n",
      "153          7             0.04  gradient_boosting  0.498799   68.129173\n",
      "151          8             0.04  gradient_boosting  0.503379   45.487062\n",
      "Train R2 score: 0.8255709342304163\n",
      "Test R2 score: 0.5079010104338488\n",
      "prediction time cost 26.300620555877686\n",
      "now is processing dataset 13\n"
     ]
    },
    {
     "name": "stderr",
     "output_type": "stream",
     "text": [
      "/home/hx152/.conda/envs/merck/lib/python3.8/site-packages/autosklearn/metalearning/metalearning/meta_base.py:68: FutureWarning: The frame.append method is deprecated and will be removed from pandas in a future version. Use pandas.concat instead.\n",
      "  self.metafeatures = self.metafeatures.append(metafeatures)\n",
      "/home/hx152/.conda/envs/merck/lib/python3.8/site-packages/autosklearn/metalearning/metalearning/meta_base.py:72: FutureWarning: The frame.append method is deprecated and will be removed from pandas in a future version. Use pandas.concat instead.\n",
      "  self.algorithm_runs[metric].append(runs)\n"
     ]
    },
    {
     "name": "stdout",
     "output_type": "stream",
     "text": [
      "[WARNING] [2022-04-14 22:05:29,607:Client-EnsembleBuilder] No models better than random - using Dummy loss!Number of models besides current dummy model: 1. Number of dummy models: 1\n",
      "[WARNING] [2022-04-14 22:05:34,143:Client-EnsembleBuilder] No models better than random - using Dummy loss!Number of models besides current dummy model: 1. Number of dummy models: 1\n",
      "training time cost: 10803.805310964584\n",
      "          rank  ensemble_weight                 type      cost    duration\n",
      "model_id                                                                  \n",
      "107          1             0.04          extra_trees  0.519381  157.940452\n",
      "87           2             0.06          extra_trees  0.519678  204.179513\n",
      "167          3             0.08          extra_trees  0.529676   27.357260\n",
      "2            4             0.08        random_forest  0.530401  497.647855\n",
      "148          5             0.20          extra_trees  0.540000  226.870234\n",
      "266          6             0.04             adaboost  0.550392  174.864012\n",
      "281          7             0.08           libsvm_svr  0.562033  139.673360\n",
      "56           8             0.26    gradient_boosting  0.564730  416.677843\n",
      "98           9             0.04    gradient_boosting  0.591711   25.003229\n",
      "58          10             0.04  k_nearest_neighbors  0.595751   73.540653\n",
      "222         11             0.08           libsvm_svr  0.607580  107.055424\n",
      "Train R2 score: 0.8177393392853308\n",
      "Test R2 score: 0.4476865167923699\n",
      "prediction time cost 132.90311765670776\n",
      "now is processing dataset 14\n"
     ]
    },
    {
     "name": "stderr",
     "output_type": "stream",
     "text": [
      "/home/hx152/.conda/envs/merck/lib/python3.8/site-packages/autosklearn/metalearning/metalearning/meta_base.py:68: FutureWarning: The frame.append method is deprecated and will be removed from pandas in a future version. Use pandas.concat instead.\n",
      "  self.metafeatures = self.metafeatures.append(metafeatures)\n",
      "/home/hx152/.conda/envs/merck/lib/python3.8/site-packages/autosklearn/metalearning/metalearning/meta_base.py:72: FutureWarning: The frame.append method is deprecated and will be removed from pandas in a future version. Use pandas.concat instead.\n",
      "  self.algorithm_runs[metric].append(runs)\n"
     ]
    },
    {
     "name": "stdout",
     "output_type": "stream",
     "text": [
      "training time cost: 10816.731733083725\n",
      "          rank  ensemble_weight               type      cost    duration\n",
      "model_id                                                                \n",
      "231          1             0.30  gradient_boosting  0.169959  170.526121\n",
      "185          2             0.12  gradient_boosting  0.171978   89.971987\n",
      "208          3             0.08  gradient_boosting  0.172710  204.705624\n",
      "181          4             0.02  gradient_boosting  0.174014  125.277023\n",
      "157          5             0.02  gradient_boosting  0.174613  288.590585\n",
      "161          6             0.08  gradient_boosting  0.176703  217.479498\n",
      "48           7             0.12  gradient_boosting  0.180898  107.598669\n",
      "129          8             0.12  gradient_boosting  0.192405  173.825431\n",
      "206          9             0.14                mlp  0.216744   45.733225\n",
      "Train R2 score: 0.9268750428143395\n",
      "Test R2 score: 0.8023623945117304\n",
      "prediction time cost 10.31937289237976\n",
      "now is processing dataset 15\n"
     ]
    }
   ],
   "source": [
    "for i in range(11,16):\n",
    "    x_path = 'dataset/QSAR_{}_train_x.csv'.format(i)\n",
    "    y_path = 'dataset/QSAR_{}_train_y.csv'.format(i)\n",
    "    compute(x_path, y_path)\n",
    "    print(\"now is processing dataset %s\" % i)"
   ]
  },
  {
   "cell_type": "code",
   "execution_count": null,
   "id": "fa53a9e2",
   "metadata": {},
   "outputs": [],
   "source": []
  }
 ],
 "metadata": {
  "kernelspec": {
   "display_name": "Python 3 (ipykernel)",
   "language": "python",
   "name": "python3"
  },
  "language_info": {
   "codemirror_mode": {
    "name": "ipython",
    "version": 3
   },
   "file_extension": ".py",
   "mimetype": "text/x-python",
   "name": "python",
   "nbconvert_exporter": "python",
   "pygments_lexer": "ipython3",
   "version": "3.8.0"
  }
 },
 "nbformat": 4,
 "nbformat_minor": 5
}
