{
 "cells": [
  {
   "cell_type": "code",
   "execution_count": 1,
   "id": "6a1a338a",
   "metadata": {},
   "outputs": [],
   "source": [
    "import pandas as pd\n",
    "import numpy as np\n",
    "import sklearn.metrics\n",
    "import sklearn.model_selection\n",
    "import time"
   ]
  },
  {
   "cell_type": "code",
   "execution_count": 2,
   "id": "85cc8c77",
   "metadata": {},
   "outputs": [],
   "source": [
    "import autosklearn.regression"
   ]
  },
  {
   "cell_type": "code",
   "execution_count": 3,
   "id": "b0516dc5",
   "metadata": {},
   "outputs": [],
   "source": [
    "def compute(x_path, y_path):\n",
    "    X = pd.read_csv(x_path)\n",
    "    y = pd.read_csv(y_path)\n",
    "    X_train, X_test, y_train, y_test = sklearn.model_selection.train_test_split(X, y, test_size=0.2, random_state=7)\n",
    "    del X,y\n",
    "    \n",
    "    t0 = time.time()\n",
    "    \n",
    "    reg = autosklearn.regression.AutoSklearnRegressor(\n",
    "        time_left_for_this_task=3600,\n",
    "        per_run_time_limit=600,\n",
    "        n_jobs=4,\n",
    "        memory_limit=40*1024,\n",
    "        tmp_folder='/home/hx152/tmp1/autosklearn_regression_example_tmp',\n",
    "        metric=autosklearn.metrics.r2)\n",
    "    reg.fit(X_train, y_train, dataset_name='QSAR')\n",
    "    \n",
    "    t1 = time.time()\n",
    "    print(\"training time cost:\",t1-t0)\n",
    "    \n",
    "    print(reg.leaderboard())\n",
    "    train_predictions = reg.predict(X_train)\n",
    "    print(\"Train R2 score:\", sklearn.metrics.r2_score(y_train, train_predictions))\n",
    "    test_predictions = reg.predict(X_test)\n",
    "    print(\"Test R2 score:\", sklearn.metrics.r2_score(y_test, test_predictions))\n",
    "    \n",
    "    t2 = time.time()\n",
    "    print(\"prediction time cost\",t2-t1)"
   ]
  },
  {
   "cell_type": "code",
   "execution_count": 4,
   "id": "86a543a4",
   "metadata": {},
   "outputs": [
    {
     "name": "stderr",
     "output_type": "stream",
     "text": [
      "/home/hx152/.conda/envs/merck/lib/python3.8/site-packages/autosklearn/metalearning/metalearning/meta_base.py:68: FutureWarning: The frame.append method is deprecated and will be removed from pandas in a future version. Use pandas.concat instead.\n",
      "  self.metafeatures = self.metafeatures.append(metafeatures)\n",
      "/home/hx152/.conda/envs/merck/lib/python3.8/site-packages/autosklearn/metalearning/metalearning/meta_base.py:72: FutureWarning: The frame.append method is deprecated and will be removed from pandas in a future version. Use pandas.concat instead.\n",
      "  self.algorithm_runs[metric].append(runs)\n"
     ]
    },
    {
     "name": "stdout",
     "output_type": "stream",
     "text": [
      "training time cost: 3606.2650310993195\n",
      "          rank  ensemble_weight               type      cost    duration\n",
      "model_id                                                                \n",
      "37           1             0.68  gradient_boosting  0.336400  145.198243\n",
      "28           2             0.18  gradient_boosting  0.362005  282.839389\n",
      "18           3             0.12  gradient_boosting  0.367217  542.529552\n",
      "6            4             0.02      liblinear_svr  0.462308   53.072682\n",
      "Train R2 score: 0.7769249332173812\n",
      "Test R2 score: 0.6457355470570774\n",
      "prediction time cost 38.3353545665741\n",
      "now is processing dataset 1\n"
     ]
    },
    {
     "name": "stderr",
     "output_type": "stream",
     "text": [
      "/home/hx152/.conda/envs/merck/lib/python3.8/site-packages/autosklearn/metalearning/metalearning/meta_base.py:68: FutureWarning: The frame.append method is deprecated and will be removed from pandas in a future version. Use pandas.concat instead.\n",
      "  self.metafeatures = self.metafeatures.append(metafeatures)\n",
      "/home/hx152/.conda/envs/merck/lib/python3.8/site-packages/autosklearn/metalearning/metalearning/meta_base.py:72: FutureWarning: The frame.append method is deprecated and will be removed from pandas in a future version. Use pandas.concat instead.\n",
      "  self.algorithm_runs[metric].append(runs)\n"
     ]
    },
    {
     "name": "stdout",
     "output_type": "stream",
     "text": [
      "training time cost: 3604.2191751003265\n",
      "          rank  ensemble_weight               type      cost    duration\n",
      "model_id                                                                \n",
      "44           1             0.40      liblinear_svr  0.190520   46.088557\n",
      "18           2             0.18  gradient_boosting  0.194759  561.765878\n",
      "35           3             0.24  gradient_boosting  0.198842  189.664316\n",
      "41           4             0.18  gradient_boosting  0.251944  446.223049\n",
      "Train R2 score: 0.8922979601543091\n",
      "Test R2 score: 0.8488037715108395\n",
      "prediction time cost 37.89061689376831\n",
      "now is processing dataset 6\n"
     ]
    }
   ],
   "source": [
    "for i in [1,6]:\n",
    "    x_path = 'dataset/QSAR_{}_train_x.csv'.format(i)\n",
    "    y_path = 'dataset/QSAR_{}_train_y.csv'.format(i)\n",
    "    compute(x_path, y_path)\n",
    "    print(\"now is processing dataset %s\" % i)"
   ]
  },
  {
   "cell_type": "code",
   "execution_count": null,
   "id": "fa53a9e2",
   "metadata": {},
   "outputs": [],
   "source": []
  }
 ],
 "metadata": {
  "kernelspec": {
   "display_name": "Python 3 (ipykernel)",
   "language": "python",
   "name": "python3"
  },
  "language_info": {
   "codemirror_mode": {
    "name": "ipython",
    "version": 3
   },
   "file_extension": ".py",
   "mimetype": "text/x-python",
   "name": "python",
   "nbconvert_exporter": "python",
   "pygments_lexer": "ipython3",
   "version": "3.8.0"
  }
 },
 "nbformat": 4,
 "nbformat_minor": 5
}
